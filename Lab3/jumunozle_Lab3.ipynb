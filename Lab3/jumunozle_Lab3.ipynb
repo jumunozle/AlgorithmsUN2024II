{
  "cells": [
    {
      "cell_type": "markdown",
      "metadata": {
        "id": "view-in-github",
        "colab_type": "text"
      },
      "source": [
        "<a href=\"https://colab.research.google.com/github/jumunozle/AlgorithmsUN2024II/blob/main/Lab3/jumunozle_Lab3.ipynb\" target=\"_parent\"><img src=\"https://colab.research.google.com/assets/colab-badge.svg\" alt=\"Open In Colab\"/></a>"
      ]
    },
    {
      "cell_type": "code",
      "execution_count": null,
      "metadata": {
        "colab": {
          "base_uri": "https://localhost:8080/"
        },
        "id": "im-VVd1__7VU",
        "outputId": "2ea3a026-886a-4147-daed-acbaf17a7324"
      },
      "outputs": [
        {
          "output_type": "stream",
          "name": "stdout",
          "text": [
            "processor\t: 0\n",
            "vendor_id\t: GenuineIntel\n",
            "cpu family\t: 6\n",
            "model\t\t: 79\n",
            "model name\t: Intel(R) Xeon(R) CPU @ 2.20GHz\n",
            "stepping\t: 0\n",
            "microcode\t: 0xffffffff\n",
            "cpu MHz\t\t: 2199.998\n",
            "cache size\t: 56320 KB\n",
            "physical id\t: 0\n",
            "siblings\t: 2\n",
            "core id\t\t: 0\n",
            "cpu cores\t: 1\n",
            "apicid\t\t: 0\n",
            "initial apicid\t: 0\n",
            "fpu\t\t: yes\n",
            "fpu_exception\t: yes\n",
            "cpuid level\t: 13\n",
            "wp\t\t: yes\n",
            "flags\t\t: fpu vme de pse tsc msr pae mce cx8 apic sep mtrr pge mca cmov pat pse36 clflush mmx fxsr sse sse2 ss ht syscall nx pdpe1gb rdtscp lm constant_tsc rep_good nopl xtopology nonstop_tsc cpuid tsc_known_freq pni pclmulqdq ssse3 fma cx16 pcid sse4_1 sse4_2 x2apic movbe popcnt aes xsave avx f16c rdrand hypervisor lahf_lm abm 3dnowprefetch invpcid_single ssbd ibrs ibpb stibp fsgsbase tsc_adjust bmi1 hle avx2 smep bmi2 erms invpcid rtm rdseed adx smap xsaveopt arat md_clear arch_capabilities\n",
            "bugs\t\t: cpu_meltdown spectre_v1 spectre_v2 spec_store_bypass l1tf mds swapgs taa mmio_stale_data retbleed\n",
            "bogomips\t: 4399.99\n",
            "clflush size\t: 64\n",
            "cache_alignment\t: 64\n",
            "address sizes\t: 46 bits physical, 48 bits virtual\n",
            "power management:\n",
            "\n",
            "processor\t: 1\n",
            "vendor_id\t: GenuineIntel\n",
            "cpu family\t: 6\n",
            "model\t\t: 79\n",
            "model name\t: Intel(R) Xeon(R) CPU @ 2.20GHz\n",
            "stepping\t: 0\n",
            "microcode\t: 0xffffffff\n",
            "cpu MHz\t\t: 2199.998\n",
            "cache size\t: 56320 KB\n",
            "physical id\t: 0\n",
            "siblings\t: 2\n",
            "core id\t\t: 0\n",
            "cpu cores\t: 1\n",
            "apicid\t\t: 1\n",
            "initial apicid\t: 1\n",
            "fpu\t\t: yes\n",
            "fpu_exception\t: yes\n",
            "cpuid level\t: 13\n",
            "wp\t\t: yes\n",
            "flags\t\t: fpu vme de pse tsc msr pae mce cx8 apic sep mtrr pge mca cmov pat pse36 clflush mmx fxsr sse sse2 ss ht syscall nx pdpe1gb rdtscp lm constant_tsc rep_good nopl xtopology nonstop_tsc cpuid tsc_known_freq pni pclmulqdq ssse3 fma cx16 pcid sse4_1 sse4_2 x2apic movbe popcnt aes xsave avx f16c rdrand hypervisor lahf_lm abm 3dnowprefetch invpcid_single ssbd ibrs ibpb stibp fsgsbase tsc_adjust bmi1 hle avx2 smep bmi2 erms invpcid rtm rdseed adx smap xsaveopt arat md_clear arch_capabilities\n",
            "bugs\t\t: cpu_meltdown spectre_v1 spectre_v2 spec_store_bypass l1tf mds swapgs taa mmio_stale_data retbleed\n",
            "bogomips\t: 4399.99\n",
            "clflush size\t: 64\n",
            "cache_alignment\t: 64\n",
            "address sizes\t: 46 bits physical, 48 bits virtual\n",
            "power management:\n",
            "\n"
          ]
        }
      ],
      "source": [
        "!cat /proc/cpuinfo"
      ]
    },
    {
      "cell_type": "markdown",
      "metadata": {
        "id": "N1ok_-56OjB1"
      },
      "source": [
        "# I Solving the Sum of Two Digits Programming Challenge"
      ]
    },
    {
      "cell_type": "markdown",
      "metadata": {
        "id": "MMY7kmDSO0KM"
      },
      "source": [
        "## C++"
      ]
    },
    {
      "cell_type": "code",
      "execution_count": null,
      "metadata": {
        "colab": {
          "base_uri": "https://localhost:8080/"
        },
        "id": "2pGGf9BkPNIk",
        "outputId": "1b47944f-c9d2-4a62-e6c0-d69771be15e4"
      },
      "outputs": [
        {
          "output_type": "stream",
          "name": "stdout",
          "text": [
            "Overwriting APlusB.cpp\n"
          ]
        }
      ],
      "source": [
        "%%writefile APlusB.cpp\n",
        "#include <iostream>\n",
        "\n",
        "int sum_of_two_digits(int first_digit, int second_digit) {\n",
        "    return first_digit + second_digit;\n",
        "}\n",
        "\n",
        "int main() {\n",
        "    int a = 0;\n",
        "    int b = 0;\n",
        "    std::cin >> a;\n",
        "    std::cin >> b;\n",
        "    std::cout << sum_of_two_digits(a, b);\n",
        "    return 0;\n",
        "}"
      ]
    },
    {
      "cell_type": "code",
      "execution_count": null,
      "metadata": {
        "colab": {
          "base_uri": "https://localhost:8080/"
        },
        "id": "0G3ZKOYAPXSU",
        "outputId": "a8c401a1-f3dd-49fe-be47-5710eb999752"
      },
      "outputs": [
        {
          "output_type": "stream",
          "name": "stdout",
          "text": [
            "2 3\n",
            "5"
          ]
        }
      ],
      "source": [
        "!g++ APlusB.cpp -o APlusB -std=c++11\n",
        "!./APlusB"
      ]
    },
    {
      "cell_type": "markdown",
      "metadata": {
        "id": "iNkG2HqfTl9c"
      },
      "source": [
        "### Test input output files"
      ]
    },
    {
      "cell_type": "code",
      "execution_count": null,
      "metadata": {
        "colab": {
          "base_uri": "https://localhost:8080/"
        },
        "id": "aTzU2efzMxly",
        "outputId": "44a0edb5-4912-4de0-da46-11f9a25a4c27"
      },
      "outputs": [
        {
          "output_type": "stream",
          "name": "stdout",
          "text": [
            "Overwriting input1.txt\n"
          ]
        }
      ],
      "source": [
        "%%writefile input1.txt\n",
        "4 8"
      ]
    },
    {
      "cell_type": "code",
      "execution_count": null,
      "metadata": {
        "colab": {
          "base_uri": "https://localhost:8080/"
        },
        "id": "zBJ0Gc0NQRet",
        "outputId": "1f70d1c9-328f-4f23-be05-215e539dde43"
      },
      "outputs": [
        {
          "output_type": "stream",
          "name": "stdout",
          "text": [
            "Overwriting output1.txt\n"
          ]
        }
      ],
      "source": [
        "%%writefile output1.txt\n",
        "12"
      ]
    },
    {
      "cell_type": "code",
      "execution_count": null,
      "metadata": {
        "colab": {
          "base_uri": "https://localhost:8080/"
        },
        "id": "IjEcIx63PJAN",
        "outputId": "17d4d2d3-948e-44c8-a879-15420e917ee6"
      },
      "outputs": [
        {
          "output_type": "stream",
          "name": "stdout",
          "text": [
            "Overwriting input2.txt\n"
          ]
        }
      ],
      "source": [
        "%%writefile input2.txt\n",
        "0 9"
      ]
    },
    {
      "cell_type": "code",
      "execution_count": null,
      "metadata": {
        "colab": {
          "base_uri": "https://localhost:8080/"
        },
        "id": "Up9gOrxURTmd",
        "outputId": "6895b34e-cb43-40c1-b437-9f488d3702c8"
      },
      "outputs": [
        {
          "output_type": "stream",
          "name": "stdout",
          "text": [
            "Overwriting output2.txt\n"
          ]
        }
      ],
      "source": [
        "%%writefile output2.txt\n",
        "9"
      ]
    },
    {
      "cell_type": "code",
      "execution_count": null,
      "metadata": {
        "colab": {
          "base_uri": "https://localhost:8080/"
        },
        "id": "PST6G-s-Pwgc",
        "outputId": "9bc23f4a-f8ad-43fc-b400-043de2dfee5c"
      },
      "outputs": [
        {
          "output_type": "stream",
          "name": "stdout",
          "text": [
            "12"
          ]
        }
      ],
      "source": [
        "!./APlusB < input1.txt"
      ]
    },
    {
      "cell_type": "code",
      "execution_count": null,
      "metadata": {
        "colab": {
          "base_uri": "https://localhost:8080/"
        },
        "id": "cKxZOjSlRfIN",
        "outputId": "2692cfe9-0701-4b24-cb5e-f7df80fa51ee"
      },
      "outputs": [
        {
          "output_type": "stream",
          "name": "stdout",
          "text": [
            "9"
          ]
        }
      ],
      "source": [
        "!./APlusB < input2.txt"
      ]
    },
    {
      "cell_type": "markdown",
      "metadata": {
        "id": "Qw2TQWCCUwqk"
      },
      "source": [
        "### Comparing files with grep\n",
        "\n",
        "https://askubuntu.com/questions/546796/comparing-two-text-files"
      ]
    },
    {
      "cell_type": "code",
      "execution_count": null,
      "metadata": {
        "id": "WVIaAmMKU4QM"
      },
      "outputs": [],
      "source": [
        "!grep -xvFf output1.txt output1.txt"
      ]
    },
    {
      "cell_type": "code",
      "execution_count": null,
      "metadata": {
        "colab": {
          "base_uri": "https://localhost:8080/"
        },
        "id": "MQU8gPPjQuYO",
        "outputId": "ca690541-9a43-4822-e8c2-184a1c8878c6"
      },
      "outputs": [
        {
          "output_type": "stream",
          "name": "stdout",
          "text": [
            "9\n"
          ]
        }
      ],
      "source": [
        "!grep -xvFf output1.txt output2.txt"
      ]
    },
    {
      "cell_type": "code",
      "execution_count": null,
      "metadata": {
        "colab": {
          "base_uri": "https://localhost:8080/"
        },
        "id": "jYL9OuYBTD_l",
        "outputId": "de783718-9bd4-4d42-a5a9-7fb6549ab90f"
      },
      "outputs": [
        {
          "output_type": "stream",
          "name": "stdout",
          "text": [
            "12\n"
          ]
        }
      ],
      "source": [
        "!grep -xvFf output2.txt output1.txt"
      ]
    },
    {
      "cell_type": "code",
      "execution_count": null,
      "metadata": {
        "id": "Jlja0Xm4TX9M"
      },
      "outputs": [],
      "source": [
        "!./APlusB < input1.txt> ctest1.txt\n",
        "!grep -xvFf output1.txt ctest1.txt"
      ]
    },
    {
      "cell_type": "code",
      "execution_count": null,
      "metadata": {
        "id": "g9OIUZA_QLCQ"
      },
      "outputs": [],
      "source": [
        "!./APlusB < input2.txt > ctest2.txt\n",
        "!grep -xvFf output2.txt ctest2.txt"
      ]
    },
    {
      "cell_type": "markdown",
      "metadata": {
        "id": "3BgOaDjUVJk6"
      },
      "source": [
        "## Python"
      ]
    },
    {
      "cell_type": "code",
      "execution_count": null,
      "metadata": {
        "colab": {
          "base_uri": "https://localhost:8080/"
        },
        "id": "DBvl-T0CTN_8",
        "outputId": "de2649b5-aef3-4ae0-89d5-c5df59d2182b"
      },
      "outputs": [
        {
          "output_type": "stream",
          "name": "stdout",
          "text": [
            "Overwriting sum.py\n"
          ]
        }
      ],
      "source": [
        "%%writefile sum.py\n",
        "# python3\n",
        "\n",
        "def sum_of_two_digits(first_digit, second_digit):\n",
        "    return first_digit + second_digit\n",
        "\n",
        "if __name__ == '__main__':\n",
        "    a, b = map(int, input().split())\n",
        "    print(sum_of_two_digits(a, b))"
      ]
    },
    {
      "cell_type": "code",
      "execution_count": null,
      "metadata": {
        "colab": {
          "base_uri": "https://localhost:8080/"
        },
        "id": "QKoKM11_WGyF",
        "outputId": "11ea9075-7d91-4d5c-9472-b3b31d896899"
      },
      "outputs": [
        {
          "output_type": "stream",
          "name": "stdout",
          "text": [
            "7 9\n",
            "16\n"
          ]
        }
      ],
      "source": [
        "!python sum.py"
      ]
    },
    {
      "cell_type": "code",
      "execution_count": null,
      "metadata": {
        "id": "cocFbPRTWrqt"
      },
      "outputs": [],
      "source": [
        "!python sum.py  < input1.txt> ptest1.txt\n",
        "!grep -xvFf output1.txt ptest1.txt"
      ]
    },
    {
      "cell_type": "code",
      "execution_count": null,
      "metadata": {
        "id": "MorKTa-XXASN"
      },
      "outputs": [],
      "source": [
        "!python sum.py  < input2.txt> ptest2.txt\n",
        "!grep -xvFf output2.txt ptest2.txt"
      ]
    },
    {
      "cell_type": "markdown",
      "metadata": {
        "id": "uvP-mOubW_5F"
      },
      "source": [
        "# II Solving The Maximum Pairwise Product Programming Challenge in C++"
      ]
    },
    {
      "cell_type": "markdown",
      "metadata": {
        "id": "C12yoFR6Xonl"
      },
      "source": [
        "$$ T(n) < 6 n^2 = O(n^2)$$"
      ]
    },
    {
      "cell_type": "code",
      "execution_count": null,
      "metadata": {
        "colab": {
          "base_uri": "https://localhost:8080/"
        },
        "id": "3LpfoGv2Ae81",
        "outputId": "5c48fcaa-998c-4b59-a0c2-1ee3ac51b1ee"
      },
      "outputs": [
        {
          "output_type": "stream",
          "name": "stdout",
          "text": [
            "Overwriting max_pairwise_product_full.cpp\n"
          ]
        }
      ],
      "source": [
        "%%writefile max_pairwise_product_full.cpp\n",
        "#include <iostream>\n",
        "#include <vector>\n",
        "#include <algorithm>\n",
        "\n",
        "int MaxPairwiseProduct(const std::vector<int>& numbers) {\n",
        "    int max_product = 0;\n",
        "    int aux_product = 0;\n",
        "    int n = numbers.size();\n",
        "\n",
        "    for (int first = 0; first < n; ++first) {\n",
        "        for (int second = 0; second < n; ++second) {\n",
        "          if ( first != second ){\n",
        "                aux_product = numbers[first] * numbers[second];\n",
        "                if (aux_product > max_product)  max_product = aux_product;\n",
        "          }\n",
        "        }\n",
        "    }\n",
        "\n",
        "    return max_product;\n",
        "}\n",
        "\n",
        "int main() {\n",
        "    int n;\n",
        "    std::cin >> n;\n",
        "    std::vector<int> numbers(n);\n",
        "    for (int i = 0; i < n; ++i) {\n",
        "        std::cin >> numbers[i];\n",
        "    }\n",
        "\n",
        "    std::cout << MaxPairwiseProduct(numbers) << \"\\n\";\n",
        "    return 0;\n",
        "}"
      ]
    },
    {
      "cell_type": "markdown",
      "metadata": {
        "id": "m75IQQPbEHBS"
      },
      "source": [
        "#### Time Complexity\n",
        "$$\\left. \\begin{array}{llc}\n",
        " \\text{INSTRUCTION} & \\text{TYPE}& \\text{# EXECUTIONS}\\\\\n",
        "\\text{first != second} &  \\text{comparisons} &n^2 \\\\\n",
        "\\text{numbers[first] * numbers[second]}& \\ \\text{ products}  &n^2 - n \\\\\n",
        "\\text{max_product = aux_product} &  \\text{assigments} & [1, \\frac{n^2 - n}{2})  \n",
        "\\end{array}\\right\\}  =  O(n^2)$$"
      ]
    },
    {
      "cell_type": "code",
      "execution_count": null,
      "metadata": {
        "colab": {
          "base_uri": "https://localhost:8080/"
        },
        "id": "PCVo1h6nCF9k",
        "outputId": "bb2f3d8e-4b11-4591-82c0-1097871203c6"
      },
      "outputs": [
        {
          "output_type": "stream",
          "name": "stdout",
          "text": [
            "5\n",
            "1 2 3 4 5\n",
            "20\n"
          ]
        }
      ],
      "source": [
        "!g++ max_pairwise_product_full.cpp -o max_pairwise_product_full\n",
        "!./max_pairwise_product_full"
      ]
    },
    {
      "cell_type": "markdown",
      "metadata": {
        "id": "e7KhxHGNS3i0"
      },
      "source": [
        "### Test 1: Small numbers"
      ]
    },
    {
      "cell_type": "code",
      "execution_count": null,
      "metadata": {
        "colab": {
          "base_uri": "https://localhost:8080/"
        },
        "id": "17npyXt7lYzA",
        "outputId": "f97e0925-88c0-45f1-8944-d681b7be6107"
      },
      "outputs": [
        {
          "output_type": "stream",
          "name": "stdout",
          "text": [
            "Overwriting input0.txt\n"
          ]
        }
      ],
      "source": [
        "%%writefile input0.txt\n",
        "10\n",
        "0 0 0 0 0 0 0 0 0 0"
      ]
    },
    {
      "cell_type": "code",
      "execution_count": null,
      "metadata": {
        "colab": {
          "base_uri": "https://localhost:8080/"
        },
        "id": "NooGEkJylezm",
        "outputId": "9c0cfeb0-139a-47ad-ab5c-9b5576b10091"
      },
      "outputs": [
        {
          "output_type": "stream",
          "name": "stdout",
          "text": [
            "Overwriting output0.txt\n"
          ]
        }
      ],
      "source": [
        "%%writefile output0.txt\n",
        "90"
      ]
    },
    {
      "cell_type": "code",
      "execution_count": null,
      "metadata": {
        "colab": {
          "base_uri": "https://localhost:8080/"
        },
        "id": "Iu4a7aXY6sTB",
        "outputId": "4b4d014f-a8d1-4440-cb08-16312e4bb1f4"
      },
      "outputs": [
        {
          "output_type": "stream",
          "name": "stdout",
          "text": [
            "0\n"
          ]
        }
      ],
      "source": [
        "!./max_pairwise_product_full < input0.txt"
      ]
    },
    {
      "cell_type": "code",
      "execution_count": null,
      "metadata": {
        "colab": {
          "base_uri": "https://localhost:8080/"
        },
        "id": "R0yFaAOrlqrE",
        "outputId": "e6b336a1-2bc6-438b-c335-ad8ab1e21729"
      },
      "outputs": [
        {
          "output_type": "stream",
          "name": "stdout",
          "text": [
            "0\n"
          ]
        }
      ],
      "source": [
        "!./max_pairwise_product_full< input0.txt > ctest0.txt\n",
        "!grep -xvFf output0.txt ctest0.txt"
      ]
    },
    {
      "cell_type": "code",
      "execution_count": null,
      "metadata": {
        "colab": {
          "base_uri": "https://localhost:8080/"
        },
        "id": "e1mmTzBgShT-",
        "outputId": "96e637f9-9cf7-4032-bf9f-036cafb977ea"
      },
      "outputs": [
        {
          "output_type": "stream",
          "name": "stdout",
          "text": [
            "Writing input1.txt\n"
          ]
        }
      ],
      "source": [
        "%%writefile input1.txt\n",
        "10\n",
        "1 2 3 4 5 6 7 8 9 10"
      ]
    },
    {
      "cell_type": "code",
      "execution_count": null,
      "metadata": {
        "colab": {
          "base_uri": "https://localhost:8080/"
        },
        "id": "vy_uI0x7TCId",
        "outputId": "9657a7e4-8f14-41c9-e079-91cf44d41bba"
      },
      "outputs": [
        {
          "output_type": "stream",
          "name": "stdout",
          "text": [
            "90\n"
          ]
        }
      ],
      "source": [
        "!./max_pairwise_product_full < input1.txt"
      ]
    },
    {
      "cell_type": "code",
      "execution_count": null,
      "metadata": {
        "colab": {
          "base_uri": "https://localhost:8080/"
        },
        "id": "xaj6f9bxC6D6",
        "outputId": "54434b44-4df6-417e-dbc9-d9fbb5bc984c"
      },
      "outputs": [
        {
          "output_type": "stream",
          "name": "stdout",
          "text": [
            "Overwriting output1.txt\n"
          ]
        }
      ],
      "source": [
        "%%writefile output1.txt\n",
        "90"
      ]
    },
    {
      "cell_type": "code",
      "execution_count": null,
      "metadata": {
        "id": "fYCjAdA_C-wy"
      },
      "outputs": [],
      "source": [
        "!./max_pairwise_product_full< input1.txt > ctest1.txt\n",
        "!grep -xvFf output1.txt ctest1.txt"
      ]
    },
    {
      "cell_type": "code",
      "execution_count": null,
      "metadata": {
        "colab": {
          "base_uri": "https://localhost:8080/"
        },
        "id": "ZPe40LY14_6f",
        "outputId": "fe780d28-64cb-4c84-b435-bfca97da831d"
      },
      "outputs": [
        {
          "output_type": "stream",
          "name": "stdout",
          "text": [
            "Writing input2.txt\n"
          ]
        }
      ],
      "source": [
        "%%writefile input2.txt\n",
        "10\n",
        "10 9 8 7 6 5 4 3 2 1"
      ]
    },
    {
      "cell_type": "code",
      "execution_count": null,
      "metadata": {
        "colab": {
          "base_uri": "https://localhost:8080/"
        },
        "id": "xiHmF7HA5Faa",
        "outputId": "2016140b-25e9-4de6-a70d-782948f2354c"
      },
      "outputs": [
        {
          "output_type": "stream",
          "name": "stdout",
          "text": [
            "Overwriting output2.txt\n"
          ]
        }
      ],
      "source": [
        "%%writefile output2.txt\n",
        "90"
      ]
    },
    {
      "cell_type": "code",
      "execution_count": null,
      "metadata": {
        "id": "jjwc9kwb5t_k"
      },
      "outputs": [],
      "source": [
        "!./max_pairwise_product_full< input2.txt > ctest2.txt\n",
        "!grep -xvFf output2.txt ctest2.txt"
      ]
    },
    {
      "cell_type": "markdown",
      "metadata": {
        "id": "IeZ3kTjpYmR9"
      },
      "source": [
        "### Test 2: largest input numbers 200000 200000 to check possible intger overflow"
      ]
    },
    {
      "cell_type": "code",
      "execution_count": null,
      "metadata": {
        "colab": {
          "base_uri": "https://localhost:8080/"
        },
        "id": "LQNlZqaqYt7U",
        "outputId": "e8956f2a-2b93-47db-ec4b-f6297d3a03dd"
      },
      "outputs": [
        {
          "output_type": "stream",
          "name": "stdout",
          "text": [
            "Writing input3.txt\n"
          ]
        }
      ],
      "source": [
        "%%writefile input3.txt\n",
        "6\n",
        "1 3 200000 9 200000 23"
      ]
    },
    {
      "cell_type": "code",
      "execution_count": null,
      "metadata": {
        "colab": {
          "base_uri": "https://localhost:8080/"
        },
        "id": "GjQq7QOUCw-9",
        "outputId": "e8f774ce-edac-465c-8c49-5256a3f120cf"
      },
      "outputs": [
        {
          "output_type": "execute_result",
          "data": {
            "text/plain": [
              "40000000000"
            ]
          },
          "metadata": {},
          "execution_count": 33
        }
      ],
      "source": [
        "200000*200000"
      ]
    },
    {
      "cell_type": "code",
      "execution_count": null,
      "metadata": {
        "colab": {
          "base_uri": "https://localhost:8080/"
        },
        "id": "EuS6n3jtDK5C",
        "outputId": "ed44ddfa-8d57-4eb9-fc1c-523a59752ecc"
      },
      "outputs": [
        {
          "output_type": "stream",
          "name": "stdout",
          "text": [
            "Overwriting output3.txt\n"
          ]
        }
      ],
      "source": [
        "%%writefile output3.txt\n",
        "40000000000"
      ]
    },
    {
      "cell_type": "code",
      "execution_count": null,
      "metadata": {
        "colab": {
          "base_uri": "https://localhost:8080/"
        },
        "id": "2Wad2VZUZDxR",
        "outputId": "ec6f6603-679c-4773-f916-54955c0da3cf"
      },
      "outputs": [
        {
          "output_type": "stream",
          "name": "stdout",
          "text": [
            "1345294336\n"
          ]
        }
      ],
      "source": [
        "!./max_pairwise_product_full < input3.txt"
      ]
    },
    {
      "cell_type": "code",
      "execution_count": null,
      "metadata": {
        "colab": {
          "base_uri": "https://localhost:8080/"
        },
        "id": "pEvp1ieyDJGq",
        "outputId": "01d2a13a-ff04-4290-9f11-09b7c3b80903"
      },
      "outputs": [
        {
          "output_type": "stream",
          "name": "stdout",
          "text": [
            "1345294336\n"
          ]
        }
      ],
      "source": [
        "!./max_pairwise_product_full < input3.txt > ctest3.txt\n",
        "!grep -xvFf output3.txt ctest3.txt"
      ]
    },
    {
      "cell_type": "code",
      "execution_count": null,
      "metadata": {
        "colab": {
          "base_uri": "https://localhost:8080/"
        },
        "id": "SrtJrKqM-God",
        "outputId": "dc925c28-4f5f-4d50-a9dd-d236f6dc0435"
      },
      "outputs": [
        {
          "output_type": "stream",
          "name": "stdout",
          "text": [
            "Overwriting run_all_test.sh\n"
          ]
        }
      ],
      "source": [
        " %%writefile run_all_test.sh\n",
        "#!/bin/bash\n",
        "g++ max_pairwise_product_full.cpp -o max_pairwise_product_full\n",
        "for i in {0..3}\n",
        "do\n",
        "    ./max_pairwise_product_full < input$i.txt > ctest$i.txt\n",
        "    grep -xvFf output$i.txt ctest$i.txt\n",
        "done"
      ]
    },
    {
      "cell_type": "code",
      "execution_count": null,
      "metadata": {
        "colab": {
          "base_uri": "https://localhost:8080/"
        },
        "id": "wGWMHtzS-QnA",
        "outputId": "56d6931e-c09d-4fb6-f2de-9bf85584e5bc"
      },
      "outputs": [
        {
          "output_type": "stream",
          "name": "stdout",
          "text": [
            "0\n",
            "1345294336\n"
          ]
        }
      ],
      "source": [
        "!chmod u+x run_all_test.sh\n",
        "!./run_all_test.sh"
      ]
    },
    {
      "cell_type": "markdown",
      "metadata": {
        "id": "H2SC0Qt5HCzz"
      },
      "source": [
        "### Changing the variables to long long"
      ]
    },
    {
      "cell_type": "code",
      "execution_count": null,
      "metadata": {
        "colab": {
          "base_uri": "https://localhost:8080/"
        },
        "id": "MPcmsxiQZSfE",
        "outputId": "2756811e-5e95-4c79-c96d-a1b769aaaa72"
      },
      "outputs": [
        {
          "output_type": "stream",
          "name": "stdout",
          "text": [
            "Overwriting max_pairwise_product_long_full.cpp\n"
          ]
        }
      ],
      "source": [
        "%%writefile max_pairwise_product_long_full.cpp\n",
        "#include <iostream>\n",
        "#include <vector>\n",
        "#include <algorithm>\n",
        "\n",
        "long long MaxPairwiseProduct(const std::vector<int>& numbers) {\n",
        "    long long max_product = 0LL;\n",
        "\t  long long aux_product = 0LL;\n",
        "    int n = numbers.size();\n",
        "\n",
        "    for (int first = 0; first < n; ++first) {\n",
        "        for (int second = 0; second < n; ++second) {\n",
        "          if ( first != second){\n",
        "                aux_product = (long long) numbers[first] * numbers[second];\n",
        "                if (aux_product > max_product)  max_product = aux_product;\n",
        "          }\n",
        "        }\n",
        "    }\n",
        "\n",
        "\n",
        "    return max_product;\n",
        "}\n",
        "\n",
        "int main() {\n",
        "    int n;\n",
        "    std::cin >> n;\n",
        "    std::vector<int> numbers(n);\n",
        "    for (int i = 0; i < n; ++i) {\n",
        "        std::cin >> numbers[i];\n",
        "    }\n",
        "\n",
        "    std::cout << MaxPairwiseProduct(numbers) << \"\\n\";\n",
        "    return 0;\n",
        "}\n"
      ]
    },
    {
      "cell_type": "code",
      "execution_count": null,
      "metadata": {
        "id": "W3xQpFXL6wjO"
      },
      "outputs": [],
      "source": [
        "!g++ max_pairwise_product_long_full.cpp -o max_pairwise_product_long_full"
      ]
    },
    {
      "cell_type": "code",
      "execution_count": null,
      "metadata": {
        "colab": {
          "base_uri": "https://localhost:8080/"
        },
        "id": "H5dvN9M3R9sV",
        "outputId": "7410f291-8ed5-484e-fdec-37f6f1f3c9d4"
      },
      "outputs": [
        {
          "output_type": "stream",
          "name": "stdout",
          "text": [
            "40000000000\n"
          ]
        }
      ],
      "source": [
        "!./max_pairwise_product_long_full < input3.txt"
      ]
    },
    {
      "cell_type": "markdown",
      "metadata": {
        "id": "gx-sEYdfQ8f8"
      },
      "source": [
        "### Runing multuple test with a bash shell"
      ]
    },
    {
      "cell_type": "code",
      "execution_count": null,
      "metadata": {
        "colab": {
          "base_uri": "https://localhost:8080/"
        },
        "id": "O9qsq2nn7elw",
        "outputId": "f706fa35-61f3-4489-ad77-b8b794b807cf"
      },
      "outputs": [
        {
          "output_type": "stream",
          "name": "stdout",
          "text": [
            "Overwriting run_all_test.sh\n"
          ]
        }
      ],
      "source": [
        " %%writefile run_all_test.sh\n",
        "#!/bin/bash\n",
        "g++ max_pairwise_product_long_full.cpp -o max_pairwise_product_long_full\n",
        "for i in {1..3}\n",
        "do\n",
        "    ./max_pairwise_product_long_full < input$i.txt > ctest$i.txt\n",
        "    grep -xvFf output$i.txt ctest$i.txt\n",
        "done"
      ]
    },
    {
      "cell_type": "code",
      "execution_count": null,
      "metadata": {
        "id": "0g5kKVph7xIA"
      },
      "outputs": [],
      "source": [
        "!chmod u+x run_all_test.sh\n",
        "!./run_all_test.sh"
      ]
    },
    {
      "cell_type": "markdown",
      "metadata": {
        "id": "XPVHkHxH6_7s"
      },
      "source": [
        "### Test 3  stress tests, 6 testing cases files input4.txt/output4.txt .. input10.txt/output10.txt\n",
        "\n",
        "---\n",
        "\n"
      ]
    },
    {
      "cell_type": "code",
      "execution_count": null,
      "metadata": {
        "colab": {
          "base_uri": "https://localhost:8080/"
        },
        "id": "PwqpBmYr69fu",
        "outputId": "60ce13b5-4791-47d5-ddc9-bf70d4cb0c00"
      },
      "outputs": [
        {
          "output_type": "stream",
          "name": "stdout",
          "text": [
            "Overwriting input4.txt\n"
          ]
        }
      ],
      "source": [
        "%%writefile input4.txt\n",
        "4\n",
        "7 12 23 34"
      ]
    },
    {
      "cell_type": "code",
      "execution_count": null,
      "metadata": {
        "colab": {
          "base_uri": "https://localhost:8080/"
        },
        "id": "jBCkMeR6Fw4y",
        "outputId": "43dccac6-5568-416e-9c8f-c28b62fa0d41"
      },
      "outputs": [
        {
          "output_type": "stream",
          "name": "stdout",
          "text": [
            "Overwriting output4.txt\n"
          ]
        }
      ],
      "source": [
        "%%writefile output4.txt\n",
        "782"
      ]
    },
    {
      "cell_type": "code",
      "execution_count": null,
      "metadata": {
        "colab": {
          "base_uri": "https://localhost:8080/"
        },
        "id": "_zxCSi4_7ciM",
        "outputId": "52f0acc3-ea88-448b-f7ee-3663650f5fc3"
      },
      "outputs": [
        {
          "output_type": "stream",
          "name": "stdout",
          "text": [
            "Overwriting input5.txt\n"
          ]
        }
      ],
      "source": [
        "%%writefile input5.txt\n",
        "5\n",
        "2 4 6 8 10"
      ]
    },
    {
      "cell_type": "code",
      "execution_count": null,
      "metadata": {
        "colab": {
          "base_uri": "https://localhost:8080/"
        },
        "id": "x7qZ0Pws7cf8",
        "outputId": "5fddf2b7-03cb-475e-e9c3-10c34efca7fe"
      },
      "outputs": [
        {
          "output_type": "stream",
          "name": "stdout",
          "text": [
            "Overwriting output5.txt\n"
          ]
        }
      ],
      "source": [
        "%%writefile output5.txt\n",
        "80"
      ]
    },
    {
      "cell_type": "code",
      "execution_count": null,
      "metadata": {
        "colab": {
          "base_uri": "https://localhost:8080/"
        },
        "id": "QfRvIvEd7cdx",
        "outputId": "63cb772d-db2b-43f4-ca4f-2de242fc56c7"
      },
      "outputs": [
        {
          "output_type": "stream",
          "name": "stdout",
          "text": [
            "Overwriting input6.txt\n"
          ]
        }
      ],
      "source": [
        "%%writefile input6.txt\n",
        "6\n",
        "15 30 45 60 75 90"
      ]
    },
    {
      "cell_type": "code",
      "execution_count": null,
      "metadata": {
        "colab": {
          "base_uri": "https://localhost:8080/"
        },
        "id": "aVmbUtvV7cbn",
        "outputId": "4e282c3e-e24f-4cc7-d4d2-ffda1ddbfa23"
      },
      "outputs": [
        {
          "output_type": "stream",
          "name": "stdout",
          "text": [
            "Overwriting output6.txt\n"
          ]
        }
      ],
      "source": [
        "%%writefile output6.txt\n",
        "6750"
      ]
    },
    {
      "cell_type": "code",
      "execution_count": null,
      "metadata": {
        "colab": {
          "base_uri": "https://localhost:8080/"
        },
        "id": "FpCK_fK07cZU",
        "outputId": "29b3aefb-7520-4259-f10f-28f06b66d8bb"
      },
      "outputs": [
        {
          "output_type": "stream",
          "name": "stdout",
          "text": [
            "Overwriting input7.txt\n"
          ]
        }
      ],
      "source": [
        "%%writefile input7.txt\n",
        "7\n",
        "3 6 9 12 15 18 21"
      ]
    },
    {
      "cell_type": "code",
      "execution_count": null,
      "metadata": {
        "colab": {
          "base_uri": "https://localhost:8080/"
        },
        "id": "nIrG2jpK7cXB",
        "outputId": "8adeb4b0-0f15-4648-a98b-8b2e1ba3bcd0"
      },
      "outputs": [
        {
          "output_type": "stream",
          "name": "stdout",
          "text": [
            "Overwriting output7.txt\n"
          ]
        }
      ],
      "source": [
        "%%writefile output7.txt\n",
        "378"
      ]
    },
    {
      "cell_type": "code",
      "execution_count": null,
      "metadata": {
        "colab": {
          "base_uri": "https://localhost:8080/"
        },
        "id": "Zwp5siCa7cUx",
        "outputId": "5281c1df-2dcd-4a02-82fd-7916e16ae056"
      },
      "outputs": [
        {
          "output_type": "stream",
          "name": "stdout",
          "text": [
            "Overwriting input8.txt\n"
          ]
        }
      ],
      "source": [
        "%%writefile input8.txt\n",
        "8\n",
        "11 22 33 44 55 66 77 88"
      ]
    },
    {
      "cell_type": "code",
      "execution_count": null,
      "metadata": {
        "colab": {
          "base_uri": "https://localhost:8080/"
        },
        "id": "0G2i4HFa7cSJ",
        "outputId": "2ba92864-6c82-4de9-d5be-c0f9d7d81db3"
      },
      "outputs": [
        {
          "output_type": "stream",
          "name": "stdout",
          "text": [
            "Overwriting output8.txt\n"
          ]
        }
      ],
      "source": [
        "%%writefile output8.txt\n",
        "6776"
      ]
    },
    {
      "cell_type": "code",
      "execution_count": null,
      "metadata": {
        "colab": {
          "base_uri": "https://localhost:8080/"
        },
        "id": "8Qyb2r_V7cKY",
        "outputId": "e3d5b338-cf11-475a-cf28-3ea66956a46c"
      },
      "outputs": [
        {
          "output_type": "stream",
          "name": "stdout",
          "text": [
            "Overwriting input9.txt\n"
          ]
        }
      ],
      "source": [
        "%%writefile input9.txt\n",
        "9\n",
        "5 10 15 20 25 30 35 40 45"
      ]
    },
    {
      "cell_type": "code",
      "execution_count": null,
      "metadata": {
        "colab": {
          "base_uri": "https://localhost:8080/"
        },
        "id": "mE2QqZmE7cAZ",
        "outputId": "9fb56015-cd06-4be5-e7a5-f5b620195bcd"
      },
      "outputs": [
        {
          "output_type": "stream",
          "name": "stdout",
          "text": [
            "Overwriting output9.txt\n"
          ]
        }
      ],
      "source": [
        "%%writefile output9.txt\n",
        "1800"
      ]
    },
    {
      "cell_type": "code",
      "execution_count": null,
      "metadata": {
        "colab": {
          "base_uri": "https://localhost:8080/"
        },
        "id": "-MwkUEJX7pGv",
        "outputId": "9f106156-692b-4868-a61c-b6bd98f35cad"
      },
      "outputs": [
        {
          "output_type": "stream",
          "name": "stdout",
          "text": [
            "Overwriting input10.txt\n"
          ]
        }
      ],
      "source": [
        "%%writefile input10.txt\n",
        "10\n",
        "1 2 3 4 5 6 7 8 9 10"
      ]
    },
    {
      "cell_type": "code",
      "execution_count": null,
      "metadata": {
        "colab": {
          "base_uri": "https://localhost:8080/"
        },
        "id": "zED8V8wu-eoM",
        "outputId": "df3098ab-7bfd-4fcf-fbb7-7abab368d371"
      },
      "outputs": [
        {
          "output_type": "stream",
          "name": "stdout",
          "text": [
            "Overwriting output10.txt\n"
          ]
        }
      ],
      "source": [
        "%%writefile output10.txt\n",
        "90"
      ]
    },
    {
      "cell_type": "code",
      "execution_count": null,
      "metadata": {
        "colab": {
          "base_uri": "https://localhost:8080/"
        },
        "id": "wtvQzuF37wOu",
        "outputId": "c8ec0368-198f-4524-ac6c-30b48825519d"
      },
      "outputs": [
        {
          "output_type": "stream",
          "name": "stdout",
          "text": [
            "Overwriting stress_test.sh\n"
          ]
        }
      ],
      "source": [
        "%%writefile stress_test.sh\n",
        "#!/bin/bash\n",
        "g++ max_pairwise_product_long_full.cpp -o max_pairwise_product_long_full\n",
        "\n",
        "for i in {4..10}\n",
        "do\n",
        "    ./max_pairwise_product_long_full < input$i.txt > ctest$i.txt\n",
        "    grep -xvFf output$i.txt ctest$i.txt\n",
        "done"
      ]
    },
    {
      "cell_type": "code",
      "execution_count": null,
      "metadata": {
        "id": "QibmXN7J-DY3"
      },
      "outputs": [],
      "source": [
        "!chmod u+x stress_test.sh\n",
        "!./stress_test.sh"
      ]
    },
    {
      "cell_type": "markdown",
      "metadata": {
        "id": "9z9yr5QkeyJF"
      },
      "source": [
        "### Test 4  time test  measure the execution time running with the the largest worst cases input11.txt  (200000 increasing numbers) and input12.txt (199998 increasing numbers and  200000, 200000 at the end)"
      ]
    },
    {
      "cell_type": "code",
      "execution_count": null,
      "metadata": {
        "colab": {
          "base_uri": "https://localhost:8080/"
        },
        "id": "UmB1ipWM_nSk",
        "outputId": "3cbd4b78-064e-4e1f-fa2e-2b19e16679db"
      },
      "outputs": [
        {
          "output_type": "stream",
          "name": "stdout",
          "text": [
            "Overwriting WriteTest.cpp\n"
          ]
        }
      ],
      "source": [
        "# input11.txt 200000 increasing numbers:  1 2 .. 200000\n",
        "\n",
        "%%writefile WriteTest.cpp\n",
        "\n",
        "#include <iostream>\n",
        "#include <fstream>\n",
        "#include <cstdlib>\n",
        "\n",
        "using namespace std;\n",
        "\n",
        "int main() {\n",
        "  // Create and open a text file\n",
        "  ofstream MyFile(\"input11.txt\");\n",
        "\n",
        " MyFile << 200000 <<\"\\n\";  // n\n",
        " for (int i=1; i <200001; i++){\n",
        "     MyFile << i <<\" \";\n",
        " }\n",
        "\n",
        "  // Close the file\n",
        "  MyFile.close();\n",
        "}"
      ]
    },
    {
      "cell_type": "code",
      "execution_count": null,
      "metadata": {
        "id": "EH25TkOkZfD9"
      },
      "outputs": [],
      "source": [
        "!g++ WriteTest.cpp -o WriteTest\n",
        "!./WriteTest"
      ]
    },
    {
      "cell_type": "code",
      "execution_count": null,
      "metadata": {
        "colab": {
          "base_uri": "https://localhost:8080/"
        },
        "id": "j0mokSOnCCtZ",
        "outputId": "dc04ef88-5f8d-49ec-ae11-7dd676cd5464"
      },
      "outputs": [
        {
          "output_type": "execute_result",
          "data": {
            "text/plain": [
              "39999800000"
            ]
          },
          "metadata": {},
          "execution_count": 62
        }
      ],
      "source": [
        "199999 * 200000"
      ]
    },
    {
      "cell_type": "code",
      "execution_count": null,
      "metadata": {
        "colab": {
          "base_uri": "https://localhost:8080/"
        },
        "id": "VoDhDV73B5Mo",
        "outputId": "53b69aac-c43d-4399-a2c5-4b5aa4b7ff58"
      },
      "outputs": [
        {
          "output_type": "stream",
          "name": "stdout",
          "text": [
            "Overwriting output11.txt\n"
          ]
        }
      ],
      "source": [
        "%%writefile output11.txt\n",
        "39999800000"
      ]
    },
    {
      "cell_type": "code",
      "execution_count": null,
      "metadata": {
        "colab": {
          "base_uri": "https://localhost:8080/"
        },
        "id": "oLiMjbAIfPlX",
        "outputId": "bd20cb84-fafd-4964-b73b-cab5f2ef381a"
      },
      "outputs": [
        {
          "output_type": "stream",
          "name": "stdout",
          "text": [
            "Overwriting WriteTest.cpp\n"
          ]
        }
      ],
      "source": [
        "# input12.txt 200000 decreasing numbers and 200000, 199999 ...  2 1\n",
        "\n",
        "%%writefile WriteTest.cpp\n",
        "\n",
        "#include <iostream>\n",
        "#include <fstream>\n",
        "#include <cstdlib>\n",
        "\n",
        "using namespace std;\n",
        "\n",
        "int main() {\n",
        "  // Create and open a text file\n",
        "  ofstream MyFile(\"input12.txt\");\n",
        "\n",
        " MyFile << 200000 <<\"\\n\";  // n\n",
        " for (int i=1; i <200001; i++){\n",
        "     MyFile << 200001-i <<\" \";\n",
        " }\n",
        "\n",
        "  // Close the file\n",
        "  MyFile.close();\n",
        "}"
      ]
    },
    {
      "cell_type": "code",
      "execution_count": null,
      "metadata": {
        "id": "oULNBr_zAd9c"
      },
      "outputs": [],
      "source": [
        "!g++ WriteTest.cpp -o WriteTest\n",
        "!./WriteTest"
      ]
    },
    {
      "cell_type": "code",
      "execution_count": null,
      "metadata": {
        "colab": {
          "base_uri": "https://localhost:8080/"
        },
        "id": "PQLyocaFB-y4",
        "outputId": "24a44793-70ef-4f19-f453-6e1312ab1f42"
      },
      "outputs": [
        {
          "output_type": "stream",
          "name": "stdout",
          "text": [
            "Overwriting output12.txt\n"
          ]
        }
      ],
      "source": [
        "%%writefile output12.txt\n",
        "39999800000"
      ]
    },
    {
      "cell_type": "markdown",
      "metadata": {
        "id": "JB6f03qO-lj9"
      },
      "source": [
        "### Measure time\n",
        "\n",
        "https://askubuntu.com/questions/53444/how-can-i-measure-the-execution-time-of-a-terminal-process"
      ]
    },
    {
      "cell_type": "code",
      "execution_count": null,
      "metadata": {
        "colab": {
          "base_uri": "https://localhost:8080/"
        },
        "id": "6p2QLEr576zk",
        "outputId": "6d510bbb-4254-4244-8f60-518402cd93dd"
      },
      "outputs": [
        {
          "output_type": "stream",
          "name": "stdout",
          "text": [
            "39999800000\n",
            "\n",
            "real\t5m0.951s\n",
            "user\t4m57.441s\n",
            "sys\t0m0.155s\n"
          ]
        }
      ],
      "source": [
        "!g++ max_pairwise_product_long_full.cpp -o max_pairwise_product_long_full\n",
        "!time ./max_pairwise_product_long_full< input11.txt"
      ]
    },
    {
      "cell_type": "code",
      "execution_count": null,
      "metadata": {
        "colab": {
          "base_uri": "https://localhost:8080/"
        },
        "id": "cnjCyeUdAnZj",
        "outputId": "5988c5f3-85ea-4eb8-8a86-21afc48524c0"
      },
      "outputs": [
        {
          "output_type": "stream",
          "name": "stdout",
          "text": [
            "39999800000\n",
            "\n",
            "real\t5m2.164s\n",
            "user\t4m58.247s\n",
            "sys\t0m0.107s\n"
          ]
        }
      ],
      "source": [
        "!g++ max_pairwise_product_long_full.cpp -o max_pairwise_product_long_full\n",
        "!time ./max_pairwise_product_long_full< input12.txt"
      ]
    },
    {
      "cell_type": "markdown",
      "metadata": {
        "id": "FXClpBsUJuXC"
      },
      "source": [
        "### Calculate the number or and upper bound to the number of instructions executed by the algorithm as a function of n, add in each line a comment with the number of instructions that are executed in that line."
      ]
    },
    {
      "cell_type": "code",
      "execution_count": null,
      "metadata": {
        "colab": {
          "base_uri": "https://localhost:8080/"
        },
        "id": "uG6Mv-Pwlkii",
        "outputId": "426f1f89-696f-4bd1-aa18-1caf1cb5b903"
      },
      "outputs": [
        {
          "output_type": "stream",
          "name": "stdout",
          "text": [
            "Overwriting max_pairwise_product_long_full.cpp\n"
          ]
        }
      ],
      "source": [
        "%%writefile max_pairwise_product_long_full.cpp\n",
        "#include <iostream>\n",
        "#include <vector>\n",
        "#include <algorithm>\n",
        "\n",
        "long long MaxPairwiseProduct(const std::vector<int>& numbers) {              //INSTRUCTIONS executed by line\n",
        "    long long max_product = 0LL;                                             //1\n",
        "\t  long long aux_product = 0LL;                                             //1\n",
        "    int n = numbers.size();                                                  //1\n",
        "\n",
        "    for (int first = 0; first < n; ++first) {                                //2+2n\n",
        "        for (int second = 0; second < n; ++second) {                         //2n + 2n**2\n",
        "          if ( first != second ){                                            //n**2\n",
        "                aux_product = numbers[first] * numbers[second];              //n**2 -n\n",
        "                if (aux_product > max_product)                               //n**2 -n\n",
        "                    max_product = aux_product;                               //[0, n**2/2 - n/2] upper bound\n",
        "          }\n",
        "        }\n",
        "    }\n",
        "\n",
        "                                                                             // --------------\n",
        "    return max_product;                                                      // 5 + 2*n + [5*n**2, 11*n**2/2  - n/2]  upper bound\n",
        "}\n",
        "\n",
        "int main() {                                              //INSTRUCTIONS executed by line\n",
        "    int n;                                                //1\n",
        "    std::cin >> n;                                        //1\n",
        "    std::vector<int> numbers(n);                          //n\n",
        "    for (int i = 0; i < n; ++i) {                         //2 + 2n\n",
        "        std::cin >> numbers[i];                           //n\n",
        "    }\n",
        "\n",
        "    std::cout << MaxPairwiseProduct(numbers) << \"\\n\";     //1 + 1  + 5 + 2*n + [5*n**2, 11*n**2/2  - n/2]\n",
        "\n",
        "    return 0;                                             // --------------\n",
        "}                                                         //  11 + 6*n + [5*n**2, 11*n**2/2  - n/2]  upper bound\n"
      ]
    },
    {
      "cell_type": "markdown",
      "metadata": {
        "id": "0vTsUg8OwcHs"
      },
      "source": [
        "### Count executed intructions in code"
      ]
    },
    {
      "cell_type": "code",
      "execution_count": null,
      "metadata": {
        "colab": {
          "base_uri": "https://localhost:8080/"
        },
        "id": "CuRKkqQc137V",
        "outputId": "c285db36-f9b5-49a0-aba0-9e2943e52654"
      },
      "outputs": [
        {
          "output_type": "stream",
          "name": "stdout",
          "text": [
            "Writing max_pairwise_product_long_full_execints.cpp\n"
          ]
        }
      ],
      "source": [
        "%%writefile max_pairwise_product_long_full_execints.cpp\n",
        "#include <iostream>\n",
        "#include <vector>\n",
        "#include <algorithm>\n",
        "\n",
        "long long MaxPairwiseProduct(const std::vector<int>& numbers, long long &execints) {      //INSTRUCTIONS executed by line\n",
        "\n",
        "    long long max_product = 0LL;                                                          //1\n",
        "    execints++;\n",
        "\n",
        "\t  long long aux_product = 0LL;                                                          //1\n",
        "    execints++;\n",
        "\n",
        "    int n = numbers.size();                                                               //1\n",
        "    execints++;\n",
        "\n",
        "    execints++;\n",
        "    for (int first = 0; first < n; ++first) {                                             //2+2n\n",
        "        execints += 2;\n",
        "\n",
        "        execints++;\n",
        "        for (int second = 0; second < n; ++second) {                                       //2n + 2n**2\n",
        "          execints += 2;\n",
        "\n",
        "          execints++;\n",
        "          if ( first != second ){                                                         //n**2\n",
        "                aux_product = numbers[first] * numbers[second];                           //n**2 -n\n",
        "                execints++;\n",
        "\n",
        "                execints++;\n",
        "                if (aux_product > max_product){                                           //n**2 -n\n",
        "                    max_product = aux_product;                                            //[0,n**2/2 - n/2)  upper bound\n",
        "                    execints++;\n",
        "\n",
        "                }\n",
        "        }\n",
        "\n",
        "      }\n",
        "      execints++;\n",
        "    }\n",
        "    execints++;\n",
        "                                                                                        // --------------\n",
        "    return max_product;                                                                 // 5 + 2*n + [5*n**2, 11*n**2/2  - n/2] upper bound\n",
        "}\n",
        "\n",
        "int main() {                                                 //INSTRUCTIONS executed by line\n",
        "\n",
        "    long long execints =0LL;\n",
        "\n",
        "    int n;                                                   //1\n",
        "    execints++;\n",
        "\n",
        "    std::cin >> n;                                           //1\n",
        "    execints++;\n",
        "\n",
        "    std::vector<int> numbers(n);                             //n\n",
        "    execints += n;\n",
        "\n",
        "    execints++;\n",
        "    for (int i = 0; i < n; ++i) {                            //2 + 2n\n",
        "        execints += 2;\n",
        "\n",
        "        std::cin >> numbers[i];\n",
        "        execints++;                                          //n\n",
        "\n",
        "    }\n",
        "\n",
        "\n",
        "    //std::cout << MaxPairwiseProduct(numbers) << \"\\n\";      //1 + 1  + 5 + 2*n + [5*n**2, 11*n**2/2  - n/2] upper bound\n",
        "\n",
        "    execints++;\n",
        "    int M = MaxPairwiseProduct(numbers,execints);\n",
        "\n",
        "    execints++;\n",
        "    std::cout <<  execints << \"\\n\";\n",
        "    return 0;                                                // --------------\n",
        "}                                                            // 11 + 6*n + [5*n**2, 11*n**2/2  - n/2]"
      ]
    },
    {
      "cell_type": "code",
      "source": [
        "!g++ max_pairwise_product_long_full_execints.cpp -o max_pairwise_product_long_full_execints\n",
        "!./max_pairwise_product_long_full_execints < input1.txt\n",
        "!./max_pairwise_product_long_full_execints < input2.txt\n",
        "!./max_pairwise_product_long_full_execints < input3.txt"
      ],
      "metadata": {
        "colab": {
          "base_uri": "https://localhost:8080/"
        },
        "id": "xqYhPbyzWIJo",
        "outputId": "fc3edc15-81dd-4b90-9cfe-74ba4f96aa2e"
      },
      "execution_count": null,
      "outputs": [
        {
          "output_type": "stream",
          "name": "stdout",
          "text": [
            "600\n",
            "571\n",
            "231\n"
          ]
        }
      ]
    },
    {
      "cell_type": "markdown",
      "metadata": {
        "id": "cUjHtvtdDsmr"
      },
      "source": [
        "The number of instructions executed by the algooirithm with a list of size $n$ is  \n",
        "\n",
        "$$T (n) = 11 + 6n + \\left[5n^2, 11\\frac{n^2}{2}  - \\frac{n}{2}\\right)  >  6n^2 = O(n^2)$$\n",
        "\n",
        "It depends on the size of the lists and  the order of the list.\n",
        "\n",
        "For the input0.txt\n",
        "```\n",
        "10\n",
        "0 0 0 0 0 0 0 0 0 0\n",
        "```\n",
        "$$T = 11 + 6(10) + 5(10)^2   = 561 $$\n",
        "\n",
        "$$T(10) \\in [571, 621)  $$\n"
      ]
    },
    {
      "cell_type": "code",
      "execution_count": null,
      "metadata": {
        "colab": {
          "base_uri": "https://localhost:8080/"
        },
        "id": "Om9Fevb0miAT",
        "outputId": "1976fa16-63bc-4fe8-decb-c3718703b010"
      },
      "outputs": [
        {
          "output_type": "stream",
          "name": "stdout",
          "text": [
            "570\n"
          ]
        }
      ],
      "source": [
        "!g++ max_pairwise_product_long_full_execints.cpp -o max_pairwise_product_long_full_execints\n",
        "!./max_pairwise_product_long_full_execints < input0.txt"
      ]
    },
    {
      "cell_type": "markdown",
      "metadata": {
        "id": "FwJzZ6VzmArY"
      },
      "source": [
        "For the input1.txt\n",
        "```\n",
        "10\n",
        "1 2 3 4 5 6 7 8 9 10\n",
        "```\n",
        "$$T = 11 + 6(10) + 5(10)^2 +  9 + 5 + 4 + 3 + 2 + 2 + 2 + 2 + 1 + 0  = 601 $$\n",
        "\n",
        "$$T(10) \\in [572, 622)  $$\n"
      ]
    },
    {
      "cell_type": "code",
      "execution_count": null,
      "metadata": {
        "id": "K59xQMWiBNFj"
      },
      "outputs": [],
      "source": [
        "#The number of times that  max_product = aux_product; in the worst case is less than (n**2 -n)/2 -  upper bound\n",
        "\n",
        "#     1  2  3  4  5  6  7  8  9  10\n",
        "#  1  x  2  3  4  5  6  7  8  9  10         9\n",
        "#  2  2  x  6  8  10 12 14 16 18 20         5 14\n",
        "#  3  3  6  x  12 15 18 21 24 27 30         4 18\n",
        "#  4  4  8  12 x  20 24 28 32 36 40         3 21\n",
        "#  5  5  10 15 20 x  30 35 40 45 50         2 23\n",
        "#  6  6  12 18 24 30 x  42 48 54 60         2 25\n",
        "#  7  7  14 21 28 35 42 x  56 63 70         2 27\n",
        "#  8  8  18 27 36 45 54 63 72 x  90         1 30\n",
        "#  10 10 20 30 40 50 60 70 60 90 x          0"
      ]
    },
    {
      "cell_type": "code",
      "execution_count": null,
      "metadata": {
        "colab": {
          "base_uri": "https://localhost:8080/"
        },
        "id": "E3O8dzFfEgir",
        "outputId": "0c8dc8a9-577f-4f19-a062-6a006ec721fc"
      },
      "outputs": [
        {
          "output_type": "execute_result",
          "data": {
            "text/plain": [
              "601"
            ]
          },
          "metadata": {},
          "execution_count": 73
        }
      ],
      "source": [
        "11 + 6*(10) + 5*(10)*(10) +  9 + 5 + 4 + 3 + 2 + 2 + 2 + 2 + 1 + 0"
      ]
    },
    {
      "cell_type": "code",
      "execution_count": null,
      "metadata": {
        "colab": {
          "base_uri": "https://localhost:8080/"
        },
        "id": "TCpdl5u_Gq1a",
        "outputId": "8a46e4f2-e62b-4f5a-8af2-d2ef15452aae"
      },
      "outputs": [
        {
          "output_type": "stream",
          "name": "stdout",
          "text": [
            "[ 571 , 621.0 )\n"
          ]
        }
      ],
      "source": [
        "n = 10\n",
        "print( \"[\", 11 + 6*n + 5*n**2,  \",\", 11 + 6*n  + 5.5*n**2, \")\")"
      ]
    },
    {
      "cell_type": "code",
      "execution_count": null,
      "metadata": {
        "colab": {
          "base_uri": "https://localhost:8080/"
        },
        "id": "Kuvm1C05ly2a",
        "outputId": "988645c1-afc0-472f-95ce-24baba97c55a"
      },
      "outputs": [
        {
          "output_type": "stream",
          "name": "stdout",
          "text": [
            "600\n"
          ]
        }
      ],
      "source": [
        "!g++ max_pairwise_product_long_full_execints.cpp -o max_pairwise_product_long_full_execints\n",
        "!./max_pairwise_product_long_full_execints < input1.txt"
      ]
    },
    {
      "cell_type": "markdown",
      "metadata": {
        "id": "Yr_Lb7CaHfxB"
      },
      "source": [
        "\n",
        "For the input2.txt\n",
        "```\n",
        "10\n",
        "10 9 8 7 6 5 4 3 2 1\n",
        "```\n",
        "$$T = 11 + 6*(10) + 5*(10)**2 +  1  = 571 $$"
      ]
    },
    {
      "cell_type": "code",
      "execution_count": null,
      "metadata": {
        "colab": {
          "base_uri": "https://localhost:8080/"
        },
        "id": "HOdqlwJiZUIp",
        "outputId": "50317671-af19-419f-bf36-b29226ce05e9"
      },
      "outputs": [
        {
          "output_type": "execute_result",
          "data": {
            "text/plain": [
              "572"
            ]
          },
          "metadata": {},
          "execution_count": 76
        }
      ],
      "source": [
        "11 + 6*(10) + 5*(10)**2 +  1"
      ]
    },
    {
      "cell_type": "code",
      "execution_count": null,
      "metadata": {
        "colab": {
          "base_uri": "https://localhost:8080/"
        },
        "id": "_znzLectjFSe",
        "outputId": "b54a567c-07ad-423b-b7bb-987e5f1b4cd5"
      },
      "outputs": [
        {
          "output_type": "stream",
          "name": "stdout",
          "text": [
            "571\n"
          ]
        }
      ],
      "source": [
        "!g++ max_pairwise_product_long_full_execints.cpp -o max_pairwise_product_long_full_execints\n",
        "!./max_pairwise_product_long_full_execints < input2.txt"
      ]
    },
    {
      "cell_type": "markdown",
      "metadata": {
        "id": "NXW7QkoBL6xH"
      },
      "source": [
        "Calculate estimated time by instruction and number of instructions by second"
      ]
    },
    {
      "cell_type": "markdown",
      "metadata": {
        "id": "dlyRjaohz-YH"
      },
      "source": [
        "For the input11.txt\n",
        "```\n",
        "200000\n",
        "1 2 ..  199999 2000\n",
        "```\n",
        "$$T = 11 + 6*(200000) + 5.5*(200000)**2  = 200001200012  $$"
      ]
    },
    {
      "cell_type": "code",
      "execution_count": null,
      "metadata": {
        "colab": {
          "base_uri": "https://localhost:8080/"
        },
        "id": "VFNhPsRiCAT6",
        "outputId": "8b8d4bb4-a489-40f1-c9a7-47a4178bb39e"
      },
      "outputs": [
        {
          "output_type": "execute_result",
          "data": {
            "text/plain": [
              "220001200011.0"
            ]
          },
          "metadata": {},
          "execution_count": 78
        }
      ],
      "source": [
        "11 + 6*(200000) + 5.5*(200000)**2"
      ]
    },
    {
      "cell_type": "code",
      "execution_count": null,
      "metadata": {
        "colab": {
          "base_uri": "https://localhost:8080/"
        },
        "id": "BMH8mF3EKn2w",
        "outputId": "98170581-dda9-4b31-826e-4b5c3d4aee74"
      },
      "outputs": [
        {
          "output_type": "stream",
          "name": "stdout",
          "text": [
            "2147483646\n",
            "\n",
            "real\t5m8.157s\n",
            "user\t5m4.783s\n",
            "sys\t0m0.129s\n"
          ]
        }
      ],
      "source": [
        "!g++ max_pairwise_product_long_full.cpp -o max_pairwise_product_long_full\n",
        "!time ./max_pairwise_product_long_full < input11.txt"
      ]
    },
    {
      "cell_type": "code",
      "execution_count": null,
      "metadata": {
        "colab": {
          "base_uri": "https://localhost:8080/"
        },
        "id": "pKqB3i7dIxnc",
        "outputId": "dc07f621-e835-4d12-b626-cd0d3f93e714"
      },
      "outputs": [
        {
          "output_type": "execute_result",
          "data": {
            "text/plain": [
              "1.5199758544843627e-09"
            ]
          },
          "metadata": {},
          "execution_count": 1
        }
      ],
      "source": [
        "# Estimated time by instruction\n",
        "\n",
        "304/200003177092\n"
      ]
    },
    {
      "cell_type": "code",
      "execution_count": null,
      "metadata": {
        "colab": {
          "base_uri": "https://localhost:8080/"
        },
        "id": "18N1ouqeMhE1",
        "outputId": "2f8d3d3b-bfa9-4a0e-e064-c30b9c32736c"
      },
      "outputs": [
        {
          "output_type": "execute_result",
          "data": {
            "text/plain": [
              "657905187.8026316"
            ]
          },
          "metadata": {},
          "execution_count": 2
        }
      ],
      "source": [
        "# Estimated number of instructions by second\n",
        "\n",
        "200003177092/304"
      ]
    },
    {
      "cell_type": "code",
      "execution_count": null,
      "metadata": {
        "id": "NDyksxcsdY1R",
        "colab": {
          "base_uri": "https://localhost:8080/"
        },
        "outputId": "8a9dc39f-c9db-4bb4-a269-614eb5230e42"
      },
      "outputs": [
        {
          "output_type": "stream",
          "name": "stdout",
          "text": [
            "2147483646\n",
            "\n",
            "real\t5m8.892s\n",
            "user\t5m4.806s\n",
            "sys\t0m0.150s\n"
          ]
        }
      ],
      "source": [
        "!g++ max_pairwise_product_long_full.cpp -o max_pairwise_product_long_full\n",
        "!time ./max_pairwise_product_long_full < input12.txt"
      ]
    },
    {
      "cell_type": "markdown",
      "metadata": {
        "id": "KyuxejFkL5X_"
      },
      "source": [
        "### Estimate and verify the maximun n that can be solved in 1 second\n",
        "\n",
        "$$(5.5n^2 + 5.5n + 11) \\times 1.47*10^{-9} s = 1 s$$\n",
        "\n",
        "$$ n \\approx 11000$$\n"
      ]
    },
    {
      "cell_type": "code",
      "execution_count": null,
      "metadata": {
        "colab": {
          "base_uri": "https://localhost:8080/"
        },
        "id": "WXu5jp-DLTOI",
        "outputId": "8fb3bcc6-85f9-4860-b182-2aac0f252fad"
      },
      "outputs": [
        {
          "output_type": "stream",
          "name": "stdout",
          "text": [
            "Overwriting WriteTest.cpp\n"
          ]
        }
      ],
      "source": [
        "# Verify input13.txt\n",
        "%%writefile WriteTest.cpp\n",
        "\n",
        "#include <iostream>\n",
        "#include <fstream>\n",
        "#include <cstdlib>\n",
        "\n",
        "using namespace std;\n",
        "\n",
        "int main() {\n",
        "  // Create and open a text file\n",
        "  ofstream MyFile(\"input13.txt\");\n",
        "\n",
        " MyFile << 11000 <<\"\\n\";  // n\n",
        " for (int i=1; i <11001; i++){\n",
        "     MyFile << i <<\" \";\n",
        " }\n",
        "\n",
        "  // Close the file\n",
        "  MyFile.close();\n",
        "}"
      ]
    },
    {
      "cell_type": "code",
      "execution_count": null,
      "metadata": {
        "id": "AQ8N52pUMCeT"
      },
      "outputs": [],
      "source": [
        "!g++ WriteTest.cpp -o WriteTest\n",
        "!./WriteTest"
      ]
    },
    {
      "cell_type": "code",
      "execution_count": null,
      "metadata": {
        "colab": {
          "base_uri": "https://localhost:8080/"
        },
        "id": "2iIOdbTrEtBx",
        "outputId": "07494d75-803d-4eec-f7dd-f43a734ba662"
      },
      "outputs": [
        {
          "output_type": "execute_result",
          "data": {
            "text/plain": [
              "120989000"
            ]
          },
          "metadata": {},
          "execution_count": 85
        }
      ],
      "source": [
        "10999 * 11000"
      ]
    },
    {
      "cell_type": "code",
      "execution_count": null,
      "metadata": {
        "colab": {
          "base_uri": "https://localhost:8080/"
        },
        "id": "ussuAokfM2du",
        "outputId": "8dc5372e-bead-4dd5-a50b-74a0afb1163f"
      },
      "outputs": [
        {
          "output_type": "stream",
          "name": "stdout",
          "text": [
            "120989000\n",
            "\n",
            "real\t0m1.322s\n",
            "user\t0m1.263s\n",
            "sys\t0m0.003s\n"
          ]
        }
      ],
      "source": [
        "!g++ max_pairwise_product_long_full.cpp -o max_pairwise_product_long_full\n",
        "!time ./max_pairwise_product_long_full< input13.txt"
      ]
    },
    {
      "cell_type": "markdown",
      "metadata": {
        "id": "Tm_AVmt-QQH4"
      },
      "source": [
        "## Python"
      ]
    },
    {
      "cell_type": "code",
      "source": [
        "%%writefile max_pairwise_product_full.py\n",
        "n = int(input())                        #1\n",
        "list = input().split()                  #1\n",
        "list = [int(x) for x in list]           #n\n",
        "\n",
        "maxProduct = 0                          #1\n",
        "auxProduct = 0                          #1\n",
        "for i in range(0,n):                    #1+2n\n",
        "  for j in range(0,n):                #n + 2n**2\n",
        "    if i!=j:                            #n**2\n",
        "      auxProduct = list[i]*list[j]      #n**2 -n\n",
        "    if maxProduct < auxProduct:         #n**2 -n\n",
        "      maxProduct = auxProduct           #[1, n**2/2 - n/2] upper bound\n",
        "\n",
        "                                        # --------------\n",
        "print(maxProduct)                       #5 + 3n + [5*n**2+1, 11*n**2/2  - n/2]  upper bound"
      ],
      "metadata": {
        "colab": {
          "base_uri": "https://localhost:8080/"
        },
        "id": "nlcJN-wSW7YK",
        "outputId": "895e6b22-a6e9-4223-af1d-a3cfe4373bd8"
      },
      "execution_count": null,
      "outputs": [
        {
          "output_type": "stream",
          "name": "stdout",
          "text": [
            "Overwriting max_pairwise_product_full.py\n"
          ]
        }
      ]
    },
    {
      "cell_type": "code",
      "source": [
        "!chmod u+x max_pairwise_product_full.py\n",
        "\n",
        "!python max_pairwise_product_full.py < input3.txt > output3.txt\n",
        "!python max_pairwise_product_full.py < input4.txt > output4.txt\n",
        "!python max_pairwise_product_full.py < input5.txt > output5.txt\n",
        "!python max_pairwise_product_full.py < input6.txt > output6.txt\n",
        "!python max_pairwise_product_full.py < input7.txt > output7.txt\n",
        "!python max_pairwise_product_full.py < input8.txt > output8.txt\n",
        "!python max_pairwise_product_full.py < input9.txt > output9.txt\n",
        "!python max_pairwise_product_full.py < input10.txt > output10.txt"
      ],
      "metadata": {
        "id": "wzf4S8XcW6UV"
      },
      "execution_count": null,
      "outputs": []
    },
    {
      "cell_type": "code",
      "execution_count": null,
      "metadata": {
        "id": "gRCCcd7IQTKZ"
      },
      "outputs": [],
      "source": [
        "fileName = \"inputPy.txt\"\n",
        "\n",
        "with open(fileName, \"w\") as file:\n",
        "    file.write(\"20000\"+ \"\\n\")\n",
        "    for i in range(1,20001):\n",
        "        file.write(str(i) + \" \")"
      ]
    },
    {
      "cell_type": "code",
      "source": [
        "import time\n",
        "\n",
        "start_time = time.time()\n",
        "!python max_pairwise_product_full.py < inputPy.txt\n",
        "\n",
        "end_time = time.time()\n",
        "execution_time = end_time - start_time\n",
        "print(f\"Execution time: {execution_time} segs\")\n",
        "print(f\"Execution time: {execution_time/60} min\")"
      ],
      "metadata": {
        "colab": {
          "base_uri": "https://localhost:8080/"
        },
        "id": "NSM2qD0IXpUH",
        "outputId": "6d7ceb28-8365-41f9-cd7e-75c675db5c73"
      },
      "execution_count": null,
      "outputs": [
        {
          "output_type": "stream",
          "name": "stdout",
          "text": [
            "399980000\n",
            "Execution time: 136.16147661209106 segs\n",
            "Execution time: 2.269357943534851 min\n"
          ]
        }
      ]
    },
    {
      "cell_type": "code",
      "execution_count": null,
      "metadata": {
        "colab": {
          "base_uri": "https://localhost:8080/"
        },
        "id": "hjw7TJrDL0d-",
        "outputId": "96387245-256b-43e9-ceab-362dbfaed358"
      },
      "outputs": [
        {
          "output_type": "stream",
          "name": "stdout",
          "text": [
            "Writing max_pairwise_product_full_count.py\n"
          ]
        }
      ],
      "source": [
        "%%writefile max_pairwise_product_full_count.py\n",
        "op =0\n",
        "n = int(input())                        #1\n",
        "op+=1\n",
        "list = input().split()                  #1\n",
        "op+=1\n",
        "list = [int(x) for x in list]           #n\n",
        "op+=n\n",
        "\n",
        "\n",
        "maxProduct = 0                          #1\n",
        "op+=1\n",
        "auxProduct = 0                          #1\n",
        "op+=1\n",
        "for i in range(0,n):                    #1+2n\n",
        "  op+=1\n",
        "  op+=2\n",
        "  for j in range(0,n):                  #n + 2n**2\n",
        "    op+=2\n",
        "    op+=1\n",
        "    if i!=j:                            #n**2\n",
        "      auxProduct = list[i]*list[j]      #n**2 -n\n",
        "      op+=1\n",
        "      op+=1\n",
        "    if maxProduct < auxProduct:         #n**2 -n\n",
        "      maxProduct = auxProduct           #n * (n - 1) / 3\n",
        "      op+=1\n",
        "\n",
        "                                        # -------------- for worst case\n",
        "print(\"Result: \"+str(maxProduct))\n",
        "print(\"Number of instructions: \"+str(op))"
      ]
    },
    {
      "cell_type": "markdown",
      "source": [
        "The number of instructions executed by the algooirithm with a list of size $n$\n",
        " is\n",
        " $$T=5+2n+5(n**2)+(n(n-1)/3)$$\n",
        " It depends on the size of the lists and the order of the list.\n",
        "\n",
        "For the input1.txt\n",
        "\n",
        "10\n",
        "1 2 3 4 5 6 7 8 9 10\n",
        "$$T=5+(20)+5(10)(10)+90/3=555$$"
      ],
      "metadata": {
        "id": "PFQ6X3UAZiwO"
      }
    },
    {
      "cell_type": "code",
      "source": [
        "!python max_pairwise_product_full_count.py < input1.txt"
      ],
      "metadata": {
        "colab": {
          "base_uri": "https://localhost:8080/"
        },
        "id": "c9oVCRrRZTb7",
        "outputId": "730a6165-6169-4b7c-d844-1caa87b70c67"
      },
      "execution_count": null,
      "outputs": [
        {
          "output_type": "stream",
          "name": "stdout",
          "text": [
            "Result: 90\n",
            "Number of instructions: 554\n"
          ]
        }
      ]
    },
    {
      "cell_type": "markdown",
      "source": [
        "The number of instructions executed by the algooirithm with a list of size\n",
        " It depends on the size of the lists and the order of the list.\n",
        "\n",
        "For the inputPy.txt\n",
        "$$T=5+(60000)+3(20000)(20000)+2(20000)(20000)-20000+199990/3=2000106668$$"
      ],
      "metadata": {
        "id": "1uja3q9vaWVz"
      }
    },
    {
      "cell_type": "code",
      "source": [
        "!python max_pairwise_product_full_count.py < inputPy.txt"
      ],
      "metadata": {
        "colab": {
          "base_uri": "https://localhost:8080/"
        },
        "id": "buZdoSphZc2U",
        "outputId": "c653d9f6-e019-4471-811f-58559c8a89fb"
      },
      "execution_count": null,
      "outputs": [
        {
          "output_type": "stream",
          "name": "stdout",
          "text": [
            "Result: 399980000\n",
            "Number of instructions: 2000261148\n"
          ]
        }
      ]
    },
    {
      "cell_type": "markdown",
      "source": [
        "Calculate estimated time by instruction and number of instructions by second"
      ],
      "metadata": {
        "id": "3pQ5tI7Kaxe-"
      }
    },
    {
      "cell_type": "code",
      "source": [
        "%%time\n",
        "!g++ max_pairwise_product_long_full_execints.cpp -o max_pairwise_product_long_full_execints\n",
        "!./max_pairwise_product_long_full_execints < input1.txt"
      ],
      "metadata": {
        "colab": {
          "base_uri": "https://localhost:8080/"
        },
        "id": "ZY82mXovayvc",
        "outputId": "30ab1198-8cc8-4404-8729-42ff18a2695f"
      },
      "execution_count": null,
      "outputs": [
        {
          "output_type": "stream",
          "name": "stdout",
          "text": [
            "600\n",
            "CPU times: user 27.9 ms, sys: 3.94 ms, total: 31.8 ms\n",
            "Wall time: 1.52 s\n"
          ]
        }
      ]
    },
    {
      "cell_type": "code",
      "source": [
        "%%time\n",
        "!python max_pairwise_product_full_count.py < input1.txt"
      ],
      "metadata": {
        "colab": {
          "base_uri": "https://localhost:8080/"
        },
        "id": "pNtdWedna0jL",
        "outputId": "38220e0a-6b7d-4ab7-dfa3-bfae8f549b23"
      },
      "execution_count": null,
      "outputs": [
        {
          "output_type": "stream",
          "name": "stdout",
          "text": [
            "Result: 90\n",
            "Number of instructions: 554\n",
            "CPU times: user 7.98 ms, sys: 0 ns, total: 7.98 ms\n",
            "Wall time: 106 ms\n"
          ]
        }
      ]
    },
    {
      "cell_type": "code",
      "source": [
        "time_per_ins = 0.0197 / 589\n",
        "instructions_per_second = 1 / time_per_ins\n",
        "print(f\"Time per instruction C++: {time_per_ins}\")\n",
        "print(f\"Instructions per second C++: {instructions_per_second}\")\n",
        "time_per_ins = 0.00646 / 554\n",
        "instructions_per_second = 1 / time_per_ins\n",
        "print(f\"Time per instruction Python: {time_per_ins}\")\n",
        "print(f\"Instructions per second Python: {instructions_per_second}\")"
      ],
      "metadata": {
        "colab": {
          "base_uri": "https://localhost:8080/"
        },
        "id": "YYa3rQlza23f",
        "outputId": "2ff0b124-5715-48a7-b135-5a4d9c43a1d8"
      },
      "execution_count": null,
      "outputs": [
        {
          "output_type": "stream",
          "name": "stdout",
          "text": [
            "Time per instruction C++: 3.344651952461799e-05\n",
            "Instructions per second C++: 29898.477157360412\n",
            "Time per instruction Python: 1.1660649819494584e-05\n",
            "Instructions per second Python: 85758.51393188855\n"
          ]
        }
      ]
    },
    {
      "cell_type": "markdown",
      "source": [
        "If we replace T in the previous equations we have:\n",
        "\n",
        "Max n that c++ program can solve in a second: 74.5\n",
        "\n",
        "Max n that python program can solve in a second: 126.64"
      ],
      "metadata": {
        "id": "MVRQHkmta_Vy"
      }
    },
    {
      "cell_type": "markdown",
      "metadata": {
        "id": "fEZR-3V4ZjCv"
      },
      "source": [
        "# For the follwing solutions required  the same tests and analysis performed for the first solution"
      ]
    },
    {
      "cell_type": "markdown",
      "metadata": {
        "id": "MKQKSC-vKePK"
      },
      "source": [
        "## Solutions in C++ and Python that uses\n",
        "$$\\frac{n^2 - n}{2} = O(n^2)\\ \\ \\text{products}$$"
      ]
    },
    {
      "cell_type": "code",
      "execution_count": null,
      "metadata": {
        "colab": {
          "base_uri": "https://localhost:8080/"
        },
        "id": "jkkHHoxSK65p",
        "outputId": "c2853a41-9f7d-4cfc-adca-693b2be20395"
      },
      "outputs": [
        {
          "output_type": "stream",
          "name": "stdout",
          "text": [
            "Writing max_pairwise_product.cpp\n"
          ]
        }
      ],
      "source": [
        "%%writefile max_pairwise_product.cpp\n",
        "#include <iostream>\n",
        "#include <vector>\n",
        "#include <algorithm>\n",
        "\n",
        "int MaxPairwiseProduct(const std::vector<int>& numbers) {\n",
        "    int max_product = 0;\n",
        "    int n = numbers.size();\n",
        "\n",
        "    for (int first = 0; first < n; ++first) {\n",
        "        for (int second = first + 1; second < n; ++second) {\n",
        "            max_product = std::max(max_product,\n",
        "                numbers[first] * numbers[second]);\n",
        "        }\n",
        "    }\n",
        "\n",
        "    return max_product;\n",
        "}\n",
        "\n",
        "int main() {\n",
        "    int n;\n",
        "    std::cin >> n;\n",
        "    std::vector<int> numbers(n);\n",
        "    for (int i = 0; i < n; ++i) {\n",
        "        std::cin >> numbers[i];\n",
        "    }\n",
        "\n",
        "    std::cout << MaxPairwiseProduct(numbers) << \"\\n\";\n",
        "    return 0;\n",
        "}"
      ]
    },
    {
      "cell_type": "code",
      "execution_count": null,
      "metadata": {
        "colab": {
          "base_uri": "https://localhost:8080/"
        },
        "id": "sU8-Ote7K8vz",
        "outputId": "ffcb0244-84ce-40cd-a7b4-b971a5b53cba"
      },
      "outputs": [
        {
          "output_type": "stream",
          "name": "stdout",
          "text": [
            "Writing max_pairwise_product_long.cpp\n"
          ]
        }
      ],
      "source": [
        "%%writefile max_pairwise_product_long.cpp\n",
        "#include <iostream>\n",
        "#include <vector>\n",
        "#include <algorithm>\n",
        "\n",
        "long long MaxPairwiseProduct(const std::vector<int>& numbers) {              //INSTRUCTIONS executed by line\n",
        "    long long max_product = 0LL;                                             //1\n",
        "\t  long long aux_product = 0LL;                                             //1\n",
        "    int n = numbers.size();                                                  //1\n",
        "\n",
        "    for (int first = 0; first < n; ++first) {                                //2+2n\n",
        "        for (int second = first + 1; second < n; ++second) {                 //2n + (n-1)n\n",
        "\t\t\t       aux_product =  (long long) numbers[first] * numbers[second];    //(n-1)n/2\n",
        "            if (max_product < aux_product)  {                                //(n-1)n/2\n",
        "\t\t\t\t        max_product = aux_product;                                   //[1,(n-1)n/2)  upper bound\n",
        "             }\n",
        "        }\n",
        "    }\n",
        "                                                                             // --------------\n",
        "    return max_product;                                                      // 5 + 4n + [2(n-1)n+1, 2.5 (n-1)n) upper bound\n",
        "}\n",
        "\n",
        "int main() {                                              //INSTRUCTIONS executed by line\n",
        "    int n;                                                //1\n",
        "    std::cin >> n;                                        //1\n",
        "    std::vector<int> numbers(n);                          //n\n",
        "    for (int i = 0; i < n; ++i) {                         //2 + 2n\n",
        "        std::cin >> numbers[i];                           //n\n",
        "    }\n",
        "\n",
        "    std::cout << MaxPairwiseProduct(numbers) << \"\\n\";     //1 + 1  + 5 + 4n + [2(n-1)n+1, 2.5 (n-1)n) upper bound\n",
        "    return 0;                                             // --------------\n",
        "}                                                         // 11 + 7n + [2(n-1)n+1, 2.5 (n-1)n) upper bound\n"
      ]
    },
    {
      "cell_type": "code",
      "execution_count": null,
      "metadata": {
        "colab": {
          "base_uri": "https://localhost:8080/"
        },
        "id": "5QWT3fneK8nw",
        "outputId": "3428b629-6aa8-478f-e76c-1a6eeec4a04a"
      },
      "outputs": [
        {
          "output_type": "stream",
          "name": "stdout",
          "text": [
            "39999800000\n",
            "\n",
            "real\t2m25.623s\n",
            "user\t2m21.670s\n",
            "sys\t0m0.116s\n"
          ]
        }
      ],
      "source": [
        "!g++ max_pairwise_product_long.cpp -o max_pairwise_product_long\n",
        "!time ./max_pairwise_product_long < input11.txt"
      ]
    },
    {
      "cell_type": "code",
      "execution_count": null,
      "metadata": {
        "colab": {
          "base_uri": "https://localhost:8080/"
        },
        "id": "mxIVvm1RK8dB",
        "outputId": "aafd0f0e-a111-4a33-d76d-e391c93f12b8"
      },
      "outputs": [
        {
          "output_type": "stream",
          "name": "stdout",
          "text": [
            "Overwriting stress_test.sh\n"
          ]
        }
      ],
      "source": [
        "%%writefile stress_test.sh\n",
        "#!/bin/bash\n",
        "g++ max_pairwise_product_long_full.cpp -o max_pairwise_product_long_full\n",
        "\n",
        "for i in {1..10}\n",
        "do\n",
        "    ./max_pairwise_product_long_full < input$i.txt > output$i.txt\n",
        "done"
      ]
    },
    {
      "cell_type": "code",
      "execution_count": null,
      "metadata": {
        "colab": {
          "base_uri": "https://localhost:8080/"
        },
        "id": "LBtBJR0-Pf31",
        "outputId": "5002aac0-65c2-4823-b612-7d28af8ea119"
      },
      "outputs": [
        {
          "output_type": "stream",
          "name": "stdout",
          "text": [
            "80001000012 100000900011.0\n"
          ]
        }
      ],
      "source": [
        "print(11 + 7*(200000) + 2*(200000)*(199999) + 1, 11 + 7*(200000) + 2.5*(200000)*(199999))"
      ]
    },
    {
      "cell_type": "markdown",
      "metadata": {
        "id": "zxCvxiB-XQJh"
      },
      "source": [
        "### Estimate and verify the maximun n that can be solved in 1 second\n",
        "\n"
      ]
    },
    {
      "cell_type": "code",
      "execution_count": null,
      "metadata": {
        "colab": {
          "base_uri": "https://localhost:8080/"
        },
        "id": "BqCCYX4EPiav",
        "outputId": "cdb61909-d973-4f09-cd20-5790bf7efc14"
      },
      "outputs": [
        {
          "output_type": "execute_result",
          "data": {
            "text/plain": [
              "7.049964749823752e-10"
            ]
          },
          "metadata": {},
          "execution_count": 95
        }
      ],
      "source": [
        "# Estimated time by instruction\n",
        "\n",
        "141/200001000010"
      ]
    },
    {
      "cell_type": "code",
      "execution_count": null,
      "metadata": {
        "colab": {
          "base_uri": "https://localhost:8080/"
        },
        "id": "Su8drkhrZwcp",
        "outputId": "d0de23de-d17e-4654-ce48-9e10e23dfd5a"
      },
      "outputs": [
        {
          "output_type": "execute_result",
          "data": {
            "text/plain": [
              "1418446808.5815604"
            ]
          },
          "metadata": {},
          "execution_count": 96
        }
      ],
      "source": [
        "# Estimated number of instructions by second\n",
        "\n",
        "1/(141/200001000010)"
      ]
    },
    {
      "cell_type": "markdown",
      "source": [
        "Python"
      ],
      "metadata": {
        "id": "a7AZ0r0Gbc6B"
      }
    },
    {
      "cell_type": "code",
      "source": [
        "%%writefile max_pairwise_product.py\n",
        "n = int(input())                        #1\n",
        "list = input().split()                  #1\n",
        "list = [int(x) for x in list]           #n\n",
        "\n",
        "maxProduct = 0                          #1\n",
        "auxProduct = 0                          #1\n",
        "for i in range(0,n):                    #1+2n\n",
        "  for j in range(i+1,n):                #((n**2)-n)/2\n",
        "    if i!=j:                            #((n**2)-n)/2\n",
        "      auxProduct = list[i]*list[j]      #((n**2)-n)/2\n",
        "    if maxProduct < auxProduct:         #((n**2)-n)/2\n",
        "      maxProduct = auxProduct           #[0,((n**2)-n)/2] upper bound\n",
        "\n",
        "                                        # --------------\n",
        "print(maxProduct)                       #5 + n + [5*n**2+1, 11*n**2/2  - n/2]  upper bound"
      ],
      "metadata": {
        "colab": {
          "base_uri": "https://localhost:8080/"
        },
        "id": "w2mM1MG3bcAj",
        "outputId": "efbc3423-06e1-417e-b41b-53499d0af650"
      },
      "execution_count": null,
      "outputs": [
        {
          "output_type": "stream",
          "name": "stdout",
          "text": [
            "Writing max_pairwise_product.py\n"
          ]
        }
      ]
    },
    {
      "cell_type": "code",
      "source": [
        "!chmod +x max_pairwise_product.py\n",
        "\n",
        "!python max_pairwise_product.py < input3.txt > output3.txt\n",
        "!python max_pairwise_product.py < input4.txt > output4.txt\n",
        "!python max_pairwise_product.py < input5.txt > output5.txt\n",
        "!python max_pairwise_product.py < input6.txt > output6.txt\n",
        "!python max_pairwise_product.py < input7.txt > output7.txt\n",
        "!python max_pairwise_product.py < input8.txt > output8.txt\n",
        "!python max_pairwise_product.py < input9.txt > output9.txt\n",
        "!python max_pairwise_product.py < input10.txt > output10.txt"
      ],
      "metadata": {
        "id": "CtqG3rVbbhLz"
      },
      "execution_count": null,
      "outputs": []
    },
    {
      "cell_type": "code",
      "source": [
        "import time\n",
        "\n",
        "start_time = time.time()\n",
        "!python max_pairwise_product.py < inputPy.txt\n",
        "\n",
        "end_time = time.time()\n",
        "execution_time = end_time - start_time\n",
        "print(f\"Execution time: {execution_time} segs\")\n",
        "print(f\"Execution time: {execution_time/60} min\")"
      ],
      "metadata": {
        "colab": {
          "base_uri": "https://localhost:8080/"
        },
        "id": "UinryxS0bmCT",
        "outputId": "1694a0b4-12db-4f91-f683-df51485be595"
      },
      "execution_count": null,
      "outputs": [
        {
          "output_type": "stream",
          "name": "stdout",
          "text": [
            "399980000\n",
            "Execution time: 67.44228339195251 segs\n",
            "Execution time: 1.1240380565325419 min\n"
          ]
        }
      ]
    },
    {
      "cell_type": "code",
      "source": [
        "%%writefile max_pairwise_product_count.py\n",
        "op = 0\n",
        "xd =0\n",
        "n = int(input())                        #1\n",
        "op+=1\n",
        "list = input().split()                  #1\n",
        "op+=1\n",
        "list = [int(x) for x in list]           #n\n",
        "op += n\n",
        "\n",
        "maxProduct = 0                          #1\n",
        "op+=1\n",
        "auxProduct = 0                          #1\n",
        "op+=1\n",
        "for i in range(0,n):                    #1+2n\n",
        "  op+=1\n",
        "  op+=2\n",
        "  for j in range(i+1,n):                #((n**2)-n)/2\n",
        "    op+=1\n",
        "    if i!=j:                            #((n**2)-n)/2\n",
        "      auxProduct = list[i]*list[j]      #((n**2)-n)/2\n",
        "      op+=1\n",
        "      op+=1\n",
        "    op+=1\n",
        "    if maxProduct < auxProduct:         #n * (n - 1) / 2\n",
        "      maxProduct = auxProduct           #n * (n - 1) / 3\n",
        "      op+=1\n",
        "\n",
        "                                        # --------------For worst case\n",
        "print(\"Result: \"+str(maxProduct))\n",
        "print(\"Number of instructions: \"+str(op))                       #5 + 4n +2( n * (n - 1)) + (n * (n - 1) / 3)"
      ],
      "metadata": {
        "colab": {
          "base_uri": "https://localhost:8080/"
        },
        "id": "FwDeOe9mb9-q",
        "outputId": "77b18a9c-a4a0-41c6-aee8-f8ebdfe3ab25"
      },
      "execution_count": null,
      "outputs": [
        {
          "output_type": "stream",
          "name": "stdout",
          "text": [
            "Writing max_pairwise_product_count.py\n"
          ]
        }
      ]
    },
    {
      "cell_type": "code",
      "source": [
        "!python max_pairwise_product_count.py < input1.txt"
      ],
      "metadata": {
        "colab": {
          "base_uri": "https://localhost:8080/"
        },
        "id": "yBb_NsUPb_iB",
        "outputId": "7b791d5e-ae98-4edb-f36c-1e62b447cc1c"
      },
      "execution_count": null,
      "outputs": [
        {
          "output_type": "stream",
          "name": "stdout",
          "text": [
            "Result: 90\n",
            "Number of instructions: 254\n"
          ]
        }
      ]
    },
    {
      "cell_type": "code",
      "source": [
        "!python max_pairwise_product_count.py < inputPy.txt"
      ],
      "metadata": {
        "colab": {
          "base_uri": "https://localhost:8080/"
        },
        "id": "NJnrPa89cb-H",
        "outputId": "d9fd45c8-b9e0-4067-b016-de67b444d084"
      },
      "execution_count": null,
      "outputs": [
        {
          "output_type": "stream",
          "name": "stdout",
          "text": [
            "Result: 399980000\n",
            "Number of instructions: 800261148\n"
          ]
        }
      ]
    },
    {
      "cell_type": "markdown",
      "source": [
        "Calculate estimated time by instruction and number of instructions by second"
      ],
      "metadata": {
        "id": "-DsTNmNychhj"
      }
    },
    {
      "cell_type": "code",
      "source": [
        "%%time\n",
        "!g++ max_pairwise_product_long.cpp -o max_pairwise_product_long\n",
        "!./max_pairwise_product_long < input1.txt"
      ],
      "metadata": {
        "colab": {
          "base_uri": "https://localhost:8080/"
        },
        "id": "eg5poBZYcjL1",
        "outputId": "3d6578c6-2345-49f6-83ef-eff9ac837555"
      },
      "execution_count": null,
      "outputs": [
        {
          "output_type": "stream",
          "name": "stdout",
          "text": [
            "90\n",
            "CPU times: user 18.9 ms, sys: 4.62 ms, total: 23.5 ms\n",
            "Wall time: 923 ms\n"
          ]
        }
      ]
    },
    {
      "cell_type": "code",
      "source": [
        "%%time\n",
        "!python max_pairwise_product_count.py < input1.txt"
      ],
      "metadata": {
        "colab": {
          "base_uri": "https://localhost:8080/"
        },
        "id": "3rEeuUp6ck6b",
        "outputId": "fab6f1d9-4650-4139-bcd8-b1619231a557"
      },
      "execution_count": null,
      "outputs": [
        {
          "output_type": "stream",
          "name": "stdout",
          "text": [
            "Result: 90\n",
            "Number of instructions: 254\n",
            "CPU times: user 5.47 ms, sys: 1.74 ms, total: 7.21 ms\n",
            "Wall time: 109 ms\n"
          ]
        }
      ]
    },
    {
      "cell_type": "code",
      "source": [
        "time_per_ins = 0.0189 / 231\n",
        "instructions_per_second = 1 / time_per_ins\n",
        "print(f\"Time per instruction C++: {time_per_ins}\")\n",
        "print(f\"Instructions per second C++: {instructions_per_second}\")\n",
        "time_per_ins = 0.0055 / 254\n",
        "instructions_per_second = 1 / time_per_ins\n",
        "print(f\"Time per instruction Python: {time_per_ins}\")\n",
        "print(f\"Instructions per second Python: {instructions_per_second}\")"
      ],
      "metadata": {
        "colab": {
          "base_uri": "https://localhost:8080/"
        },
        "id": "4M1MpMWwcngv",
        "outputId": "9e399257-539d-4cfa-af02-0dcc936cc1d9"
      },
      "execution_count": null,
      "outputs": [
        {
          "output_type": "stream",
          "name": "stdout",
          "text": [
            "Time per instruction C++: 8.181818181818182e-05\n",
            "Instructions per second C++: 12222.222222222223\n",
            "Time per instruction Python: 2.1653543307086614e-05\n",
            "Instructions per second Python: 46181.818181818184\n"
          ]
        }
      ]
    },
    {
      "cell_type": "markdown",
      "metadata": {
        "id": "1Hsbd-uHOb_j"
      },
      "source": [
        "# Sort solution in C++ and Python\n",
        "\n",
        "$$ O(n \\lg n)$$\n",
        "\n",
        "**Which sorting algorithm is used in GCC?**\n",
        "https://stackoverflow.com/questions/7221257/which-sorting-algorithm-is-used-in-gcc\n",
        "\n",
        "* ...  the algorithm is called introsort, a combination between Insertionsort, Quicksort & Heapsort. ...\n",
        "\n",
        "**Introsort**\n",
        "https://en.wikipedia.org/wiki/Introsort\n",
        "\n",
        "Introsort or introspective sort is a hybrid sorting algorithm that provides both fast average performance and (asymptotically) optimal worst-case performance. It begins with quicksort, it switches to heapsort when the recursion depth exceeds a level based on (the logarithm of) the number of elements being sorted and it switches to insertion sort when the number of elements is below some threshold\n",
        "\n",
        "*   Class\tSorting algorithm\n",
        "*   Data structure\tArray\n",
        "*   Worst-case performance\t$O(n \\lg n)$\n",
        "*   Average performance\t$O(n \\lg n)$\n",
        "\n",
        "**Tinsort**\n",
        "https://en.wikipedia.org/wiki/Timsort\n",
        "\n",
        "Timsort is a hybrid, stable sorting algorithm, derived from merge sort and insertion sort, designed to perform well on many kinds of real-world data. It was implemented by Tim Peters in 2002 for use in the Python programming language.\n",
        "\n",
        "*   Class\tSorting algorithm\n",
        "*   Data structure\tArray\n",
        "*   Worst-case performance\t$O(n \\lg n)$\n",
        "*   Best-case performance $O(n)$\n",
        "*   Average performance\t$O(n \\lg n)$\n",
        "*   Worst-case space complexity $O(n)$"
      ]
    },
    {
      "cell_type": "code",
      "execution_count": null,
      "metadata": {
        "colab": {
          "base_uri": "https://localhost:8080/"
        },
        "id": "jnIRWyUEDu_C",
        "outputId": "db95d05a-7ad2-4688-93a8-3b241ae7fe64"
      },
      "outputs": [
        {
          "output_type": "stream",
          "name": "stdout",
          "text": [
            "Overwriting max_pairwise_sort_nlogn.cpp\n"
          ]
        }
      ],
      "source": [
        "%%writefile max_pairwise_sort_nlogn.cpp\n",
        "#include <iostream>\n",
        "#include <vector>\n",
        "#include <algorithm>\n",
        "\n",
        "using namespace std;\n",
        "\n",
        "int main() {\n",
        "    int n;                                     // 1\n",
        "    cin >> n;                                  // 1\n",
        "    vector<int> numbers(n);                    // n\n",
        "\n",
        "    for (int i = 0; i < n; ++i) {              //1 + 2n\n",
        "        cin >> numbers[i];                     // 1\n",
        "    }\n",
        "\n",
        "    sort(numbers.begin(), numbers.end());      // n*long\n",
        "    cout << numbers[numbers.size() - 1] * numbers[numbers.size() - 2] << \"\\n\"; // 1\n",
        "    return 0;                                  // 1\n",
        "}"
      ]
    },
    {
      "cell_type": "code",
      "execution_count": null,
      "metadata": {
        "colab": {
          "base_uri": "https://localhost:8080/"
        },
        "id": "Bxjs9oZhPu2h",
        "outputId": "ea24f3d2-964f-48f3-c031-3dc7e883e8f5"
      },
      "outputs": [
        {
          "output_type": "stream",
          "name": "stdout",
          "text": [
            "Overwriting max_pairwise_sort_nlogn.py\n"
          ]
        }
      ],
      "source": [
        "%%writefile max_pairwise_sort_nlogn.py\n",
        "# Read input values\n",
        "n = int(input())              # 1\n",
        "numbers = list(map(int, input().split()))  # n\n",
        "\n",
        "# Sort the list\n",
        "numbers.sort()                # n*log(n)\n",
        "\n",
        "# Calculate the maximum pairwise product\n",
        "result = numbers[-1] * numbers[-2]  # 1\n",
        "\n",
        "# Print the result\n",
        "print(f\"{result}\")"
      ]
    },
    {
      "cell_type": "markdown",
      "metadata": {
        "id": "v8pdV9ABOb_k"
      },
      "source": [
        "Test with inputs 1 and 2\n",
        "\n"
      ]
    },
    {
      "cell_type": "code",
      "execution_count": null,
      "metadata": {
        "colab": {
          "base_uri": "https://localhost:8080/"
        },
        "id": "kdXAyLG4Ob_k",
        "outputId": "bbde11c0-7308-49f0-fba7-7ac954a2c1d7"
      },
      "outputs": [
        {
          "output_type": "stream",
          "name": "stdout",
          "text": [
            "90\n",
            "90\n"
          ]
        }
      ],
      "source": [
        "!g++ max_pairwise_sort_nlogn.cpp -o max_pairwise_sort_nlogn\n",
        "!./max_pairwise_sort_nlogn < input1.txt\n",
        "!./max_pairwise_sort_nlogn < input2.txt"
      ]
    },
    {
      "cell_type": "code",
      "source": [
        "!python max_pairwise_sort_nlogn.py < input1.txt\n",
        "!python max_pairwise_sort_nlogn.py < input2.txt"
      ],
      "metadata": {
        "colab": {
          "base_uri": "https://localhost:8080/"
        },
        "id": "NG46Alt3QYwh",
        "outputId": "f14148c5-5294-4ebd-ce7c-4feb3ee828db"
      },
      "execution_count": null,
      "outputs": [
        {
          "output_type": "stream",
          "name": "stdout",
          "text": [
            "90\n",
            "90\n"
          ]
        }
      ]
    },
    {
      "cell_type": "markdown",
      "metadata": {
        "id": "Sw-5X1q1Ob_k"
      },
      "source": [
        "Test and time it with input 3"
      ]
    },
    {
      "cell_type": "code",
      "execution_count": null,
      "metadata": {
        "id": "ryHJ30WIOb_k",
        "colab": {
          "base_uri": "https://localhost:8080/"
        },
        "outputId": "63df584b-2c36-44da-9f35-99b02528147a"
      },
      "outputs": [
        {
          "output_type": "stream",
          "name": "stdout",
          "text": [
            "1345294336\n"
          ]
        }
      ],
      "source": [
        "!g++ max_pairwise_sort_nlogn.cpp -o max_pairwise_sort_nlogn\n",
        "!./max_pairwise_sort_nlogn < input3.txt"
      ]
    },
    {
      "cell_type": "markdown",
      "metadata": {
        "id": "oJGdPl1HOb_k"
      },
      "source": [
        "20 stress tests"
      ]
    },
    {
      "cell_type": "code",
      "execution_count": null,
      "metadata": {
        "id": "pXHtO1dEOb_k"
      },
      "outputs": [],
      "source": [
        "#CREATE 20 random texts\n",
        "import random\n",
        "\n",
        "for i in range(1,21):\n",
        "    fileName = f\"stress_input_{i}.txt\"\n",
        "\n",
        "    with open(fileName, \"w\") as file:\n",
        "      n = random.randint(3, 40)\n",
        "      file.write(f\"{n}\"+ \"\\n\")\n",
        "      for i in range(1,n):\n",
        "          file.write(str(random.randint(1, 100)) + \" \")"
      ]
    },
    {
      "cell_type": "code",
      "source": [
        "!g++ max_pairwise_sort_nlogn.cpp -o max_pairwise_sort_nlogn\n",
        "!./max_pairwise_sort_nlogn < stress_input_1.txt\n",
        "!./max_pairwise_sort_nlogn < stress_input_2.txt\n",
        "!./max_pairwise_sort_nlogn < stress_input_3.txt\n",
        "!./max_pairwise_sort_nlogn < stress_input_4.txt\n",
        "!./max_pairwise_sort_nlogn < stress_input_5.txt\n",
        "!./max_pairwise_sort_nlogn < stress_input_6.txt\n",
        "!./max_pairwise_sort_nlogn < stress_input_7.txt\n",
        "!./max_pairwise_sort_nlogn < stress_input_8.txt\n",
        "!./max_pairwise_sort_nlogn < stress_input_9.txt\n",
        "!./max_pairwise_sort_nlogn < stress_input_10.txt\n",
        "!./max_pairwise_sort_nlogn < stress_input_11.txt\n",
        "!./max_pairwise_sort_nlogn < stress_input_12.txt\n",
        "!./max_pairwise_sort_nlogn < stress_input_13.txt\n",
        "!./max_pairwise_sort_nlogn < stress_input_14.txt\n",
        "!./max_pairwise_sort_nlogn < stress_input_15.txt\n",
        "!./max_pairwise_sort_nlogn < stress_input_16.txt\n",
        "!./max_pairwise_sort_nlogn < stress_input_17.txt\n",
        "!./max_pairwise_sort_nlogn < stress_input_18.txt\n",
        "!./max_pairwise_sort_nlogn < stress_input_19.txt\n",
        "!./max_pairwise_sort_nlogn < stress_input_20.txt"
      ],
      "metadata": {
        "colab": {
          "base_uri": "https://localhost:8080/"
        },
        "id": "snUY-pa7e2jZ",
        "outputId": "36fb4753-cdd4-447e-856d-17e6eea8c37f"
      },
      "execution_count": null,
      "outputs": [
        {
          "output_type": "stream",
          "name": "stdout",
          "text": [
            "9200\n",
            "9800\n",
            "9108\n",
            "7488\n",
            "6525\n",
            "7176\n",
            "9024\n",
            "8928\n",
            "9400\n",
            "8836\n",
            "10000\n",
            "6370\n",
            "9506\n",
            "8464\n",
            "1504\n",
            "8648\n",
            "9900\n",
            "7125\n",
            "6417\n",
            "9506\n"
          ]
        }
      ]
    },
    {
      "cell_type": "code",
      "source": [
        "!python max_pairwise_sort_nlogn.py < stress_input_1.txt\n",
        "!python max_pairwise_sort_nlogn.py < stress_input_2.txt\n",
        "!python max_pairwise_sort_nlogn.py < stress_input_3.txt\n",
        "!python max_pairwise_sort_nlogn.py < stress_input_4.txt\n",
        "!python max_pairwise_sort_nlogn.py < stress_input_5.txt\n",
        "!python max_pairwise_sort_nlogn.py < stress_input_6.txt\n",
        "!python max_pairwise_sort_nlogn.py < stress_input_7.txt\n",
        "!python max_pairwise_sort_nlogn.py < stress_input_8.txt\n",
        "!python max_pairwise_sort_nlogn.py < stress_input_9.txt\n",
        "!python max_pairwise_sort_nlogn.py < stress_input_10.txt\n",
        "!python max_pairwise_sort_nlogn.py < stress_input_11.txt\n",
        "!python max_pairwise_sort_nlogn.py < stress_input_12.txt\n",
        "!python max_pairwise_sort_nlogn.py < stress_input_13.txt\n",
        "!python max_pairwise_sort_nlogn.py < stress_input_14.txt\n",
        "!python max_pairwise_sort_nlogn.py < stress_input_15.txt\n",
        "!python max_pairwise_sort_nlogn.py < stress_input_16.txt\n",
        "!python max_pairwise_sort_nlogn.py < stress_input_17.txt\n",
        "!python max_pairwise_sort_nlogn.py < stress_input_18.txt\n",
        "!python max_pairwise_sort_nlogn.py < stress_input_19.txt\n",
        "!python max_pairwise_sort_nlogn.py < stress_input_20.txt"
      ],
      "metadata": {
        "colab": {
          "base_uri": "https://localhost:8080/"
        },
        "id": "o20iShJwe7H_",
        "outputId": "02fdb39a-41af-4f21-e5a3-34c2351fd507"
      },
      "execution_count": null,
      "outputs": [
        {
          "output_type": "stream",
          "name": "stdout",
          "text": [
            "9200\n",
            "9800\n",
            "9108\n",
            "7488\n",
            "6525\n",
            "7176\n",
            "9024\n",
            "8928\n",
            "9400\n",
            "8836\n",
            "10000\n",
            "6370\n",
            "9506\n",
            "8464\n",
            "1504\n",
            "8648\n",
            "9900\n",
            "7125\n",
            "6417\n",
            "9506\n"
          ]
        }
      ]
    },
    {
      "cell_type": "markdown",
      "metadata": {
        "id": "2beTmWFPOb_k"
      },
      "source": [
        "Count executed instructions in code and verify with inputs 1,2 and 3\n"
      ]
    },
    {
      "cell_type": "code",
      "execution_count": null,
      "metadata": {
        "id": "iuByv4x1Ob_k",
        "colab": {
          "base_uri": "https://localhost:8080/"
        },
        "outputId": "feec17de-5514-4cec-f782-9c7e936e2981"
      },
      "outputs": [
        {
          "output_type": "stream",
          "name": "stdout",
          "text": [
            "Overwriting max_pairwise_sort_nlogn_count.cpp\n"
          ]
        }
      ],
      "source": [
        "%%writefile max_pairwise_sort_nlogn_count.cpp\n",
        "#include <iostream>\n",
        "#include <vector>\n",
        "#include <algorithm>\n",
        "#include <bits/stdc++.h>\n",
        "\n",
        "using namespace std;\n",
        "\n",
        "int main() {\n",
        "\n",
        "    uint64_t execints = 0;\n",
        "\n",
        "    int n;                                     // 1\n",
        "    execints++;\n",
        "    cin >> n;                                  // 1\n",
        "    execints++;\n",
        "    vector<int> numbers(n);                    // n\n",
        "    execints += n;\n",
        "\n",
        "    for (int i = 0; i < n; ++i) {              //1 + 2n\n",
        "        execints += 2;\n",
        "        cin >> numbers[i];                     // 1\n",
        "        execints++;\n",
        "    }\n",
        "\n",
        "    sort(numbers.begin(), numbers.end());      // n*long\n",
        "\n",
        "    execints += n * log2(n);\n",
        "\n",
        "    cout <<  numbers[n - 1] * numbers[n - 2] << \"\\n\"; // 3\n",
        "\n",
        "    execints += 3;\n",
        "\n",
        "    cout << \"Executed instructions: \" << execints << \"\\n\";\n",
        "\n",
        "    return 0;                                  // 1\n",
        "}"
      ]
    },
    {
      "cell_type": "code",
      "source": [
        "%%writefile max_pairwise_sort_nlogn_count.py\n",
        "\n",
        "import math\n",
        "\n",
        "\n",
        "# Read input values\n",
        "\n",
        "execints = 0\n",
        "n = int(input())              # 1\n",
        "\n",
        "execints += 1\n",
        "numbers = list(map(int, input().split()))  # 4n (n input read + map o(n) + create list + cast to int values)\n",
        "\n",
        "execints += 4 * n\n",
        "\n",
        "# Sort the list\n",
        "numbers.sort()                # n*log(n)\n",
        "\n",
        "execints += math.log2(n)\n",
        "\n",
        "# Calculate the maximum pairwise product\n",
        "result = numbers[-1] * numbers[-2]  # 3\n",
        "\n",
        "execints += 3\n",
        "\n",
        "# Print the result\n",
        "print(f\"Executed instructions: {int(execints)}\")"
      ],
      "metadata": {
        "colab": {
          "base_uri": "https://localhost:8080/"
        },
        "id": "2Qynt_rje_5P",
        "outputId": "3b822476-31f6-41f2-f668-2869a24ecf02"
      },
      "execution_count": null,
      "outputs": [
        {
          "output_type": "stream",
          "name": "stdout",
          "text": [
            "Overwriting max_pairwise_sort_nlogn_count.py\n"
          ]
        }
      ]
    },
    {
      "cell_type": "code",
      "source": [
        "!g++ max_pairwise_sort_nlogn_count.cpp -o max_pairwise_sort_nlogn_count\n",
        "!./max_pairwise_sort_nlogn_count < input1.txt\n",
        "!./max_pairwise_sort_nlogn_count < input2.txt\n",
        "!./max_pairwise_sort_nlogn_count < input3.txt"
      ],
      "metadata": {
        "colab": {
          "base_uri": "https://localhost:8080/"
        },
        "id": "vqj8ayLJfCIX",
        "outputId": "0ca6a253-5544-4ba2-8d66-d9a03e82bf8b"
      },
      "execution_count": null,
      "outputs": [
        {
          "output_type": "stream",
          "name": "stdout",
          "text": [
            "90\n",
            "Executed instructions: 78\n",
            "90\n",
            "Executed instructions: 78\n",
            "1345294336\n",
            "Executed instructions: 44\n"
          ]
        }
      ]
    },
    {
      "cell_type": "code",
      "source": [
        "!python max_pairwise_sort_nlogn_count.py < input1.txt\n",
        "!python max_pairwise_sort_nlogn_count.py < input2.txt\n",
        "!python max_pairwise_sort_nlogn_count.py < input3.txt"
      ],
      "metadata": {
        "colab": {
          "base_uri": "https://localhost:8080/"
        },
        "id": "cgmJRWXhfWps",
        "outputId": "a4044b7c-b924-4a18-9645-88f8bee9d800"
      },
      "execution_count": null,
      "outputs": [
        {
          "output_type": "stream",
          "name": "stdout",
          "text": [
            "Executed instructions: 47\n",
            "Executed instructions: 47\n",
            "Executed instructions: 30\n"
          ]
        }
      ]
    },
    {
      "cell_type": "markdown",
      "metadata": {
        "id": "x2CXhkwTOb_l"
      },
      "source": [
        "Calculate estimated time by instruction and number of instructions by second"
      ]
    },
    {
      "cell_type": "code",
      "source": [
        "%%time\n",
        "!g++ max_pairwise_sort_nlogn_count.cpp -o max_pairwise_sort_nlogn_count\n",
        "!./max_pairwise_sort_nlogn_count < input1.txt"
      ],
      "metadata": {
        "colab": {
          "base_uri": "https://localhost:8080/"
        },
        "id": "ldcwuMTof-GU",
        "outputId": "023515b9-556a-41d0-bceb-534e6a4b7250"
      },
      "execution_count": null,
      "outputs": [
        {
          "output_type": "stream",
          "name": "stdout",
          "text": [
            "90\n",
            "Executed instructions: 78\n",
            "CPU times: user 33.5 ms, sys: 4.76 ms, total: 38.3 ms\n",
            "Wall time: 2.42 s\n"
          ]
        }
      ]
    },
    {
      "cell_type": "code",
      "execution_count": null,
      "metadata": {
        "id": "nTjxyTMtOb_l",
        "colab": {
          "base_uri": "https://localhost:8080/"
        },
        "outputId": "ad826974-4c35-40ca-910f-6162e0ffda89"
      },
      "outputs": [
        {
          "output_type": "stream",
          "name": "stdout",
          "text": [
            "Executed instructions: 47\n",
            "CPU times: user 5.34 ms, sys: 1.07 ms, total: 6.4 ms\n",
            "Wall time: 106 ms\n"
          ]
        }
      ],
      "source": [
        "%%time\n",
        "!python max_pairwise_sort_nlogn_count.py < input1.txt"
      ]
    },
    {
      "cell_type": "code",
      "source": [
        "time_per_ins = 0.0335 / 78\n",
        "instructions_per_second = 1 / time_per_ins\n",
        "print(f\"Time per instruction C++: {time_per_ins}\")\n",
        "print(f\"Instructions per second C++: {instructions_per_second}\")\n",
        "time_per_ins = 0.00534 / 47\n",
        "instructions_per_second = 1 / time_per_ins\n",
        "print(f\"Time per instruction Python: {time_per_ins}\")\n",
        "print(f\"Instructions per second Python: {instructions_per_second}\")"
      ],
      "metadata": {
        "colab": {
          "base_uri": "https://localhost:8080/"
        },
        "id": "2HmRkW6kgDOV",
        "outputId": "12e8fcec-7b50-4c00-af97-d1e7f49af3e8"
      },
      "execution_count": null,
      "outputs": [
        {
          "output_type": "stream",
          "name": "stdout",
          "text": [
            "Time per instruction C++: 0.0004294871794871795\n",
            "Instructions per second C++: 2328.3582089552237\n",
            "Time per instruction Python: 0.00011361702127659575\n",
            "Instructions per second Python: 8801.498127340823\n"
          ]
        }
      ]
    },
    {
      "cell_type": "markdown",
      "metadata": {
        "id": "VMKC5duEOQfk"
      },
      "source": [
        "## Efficient solution with largest and second-largest in an list, array or vector in C++ and Python\n",
        "\n",
        " $$T(n) < 10 n  = O(n)$$\n",
        "\n",
        "\n",
        "\n"
      ]
    },
    {
      "cell_type": "markdown",
      "metadata": {
        "id": "nLcKBwbU0QsE"
      },
      "source": [
        "Add in each line a coment with the number of intstrcution that are executed in that line"
      ]
    },
    {
      "cell_type": "code",
      "execution_count": null,
      "metadata": {
        "id": "knls5Fh3NSt_",
        "colab": {
          "base_uri": "https://localhost:8080/"
        },
        "outputId": "7ea96e27-da30-4215-91f6-1f1ca13df9ec"
      },
      "outputs": [
        {
          "output_type": "stream",
          "name": "stdout",
          "text": [
            "Overwriting max_pairwise_sort_efficient.cpp\n"
          ]
        }
      ],
      "source": [
        "%%writefile max_pairwise_sort_efficient.cpp\n",
        "#include <iostream>\n",
        "#include <vector>\n",
        "#include <algorithm>\n",
        "#include <limits.h>\n",
        "\n",
        "using namespace std;\n",
        "\n",
        "int main() {\n",
        "    cout << \"--- C++ ---\" << \"\\n\";\n",
        "    int n;                                     // 1\n",
        "    cin >> n;                                  // 1\n",
        "    int maxNumber = INT_MIN;                   // 1\n",
        "    int secondMaxNumber = INT_MIN;             // 1\n",
        "\n",
        "    vector<int> numbers(n);                    // n\n",
        "\n",
        "    for (int i = 0; i < n; ++i) {              // 1 + 2n\n",
        "        cin >> numbers[i];                     // n\n",
        "    }\n",
        "\n",
        "\n",
        "    for (int i = 0; i < n; ++i) {              //1 + 2n\n",
        "        int aux = numbers[i];                           // n\n",
        "\n",
        "        if (aux > maxNumber){                  // n\n",
        "          secondMaxNumber = maxNumber;         // [0, n] in the worst case it would be n times\n",
        "          maxNumber = aux;                     // [0, n] in the worst case it would be n times\n",
        "\n",
        "        } else if (aux > secondMaxNumber) {    // n\n",
        "          secondMaxNumber = aux;               // [0, n] in the worst case it would be n times\n",
        "        }\n",
        "\n",
        "    }\n",
        "\n",
        "    cout <<  \"Product: \" << maxNumber * secondMaxNumber << \"\\n\"; // 1\n",
        "    return 0;                                  // 1\n",
        "}"
      ]
    },
    {
      "cell_type": "code",
      "source": [
        "%%writefile max_pairwise_sort_efficient.py\n",
        "print(\"--- Python ---\")\n",
        "n = int(input())\n",
        "numbers = list(map(int, input().split()))\n",
        "\n",
        "max_number = float(\"-inf\")                   # 1\n",
        "second_max_number = float(\"-inf\")            # 1\n",
        "\n",
        "for num in numbers:                          # 1 + 2n\n",
        "    if num > max_number:                     # n\n",
        "        second_max_number = max_number       # [0, n] in the worst case it would be n times\n",
        "        max_number = num                     # [0, n] in the worst case it would be n times\n",
        "    elif num > second_max_number:            # n\n",
        "        second_max_number = num              # [0, n] in the worst case it would be n times\n",
        "\n",
        "product = max_number * second_max_number     # 1\n",
        "print(f\"Product: {product}\")                 # 1"
      ],
      "metadata": {
        "colab": {
          "base_uri": "https://localhost:8080/"
        },
        "id": "MbEDxG25-R1Z",
        "outputId": "6359ecd8-17f1-4803-89a4-978215681049"
      },
      "execution_count": null,
      "outputs": [
        {
          "output_type": "stream",
          "name": "stdout",
          "text": [
            "Overwriting max_pairwise_sort_efficient.py\n"
          ]
        }
      ]
    },
    {
      "cell_type": "markdown",
      "metadata": {
        "id": "-JCijbWxNSii"
      },
      "source": [
        "Test with inputs 1 and 2\n",
        "\n"
      ]
    },
    {
      "cell_type": "code",
      "execution_count": null,
      "metadata": {
        "id": "TrTGAfqlNVXT",
        "colab": {
          "base_uri": "https://localhost:8080/"
        },
        "outputId": "ec212e88-353c-4ef8-979f-779cdbffa2ee"
      },
      "outputs": [
        {
          "output_type": "stream",
          "name": "stdout",
          "text": [
            "--- C++ ---\n",
            "Product: 90\n",
            "--- C++ ---\n",
            "Product: 90\n"
          ]
        }
      ],
      "source": [
        "!g++ max_pairwise_sort_efficient.cpp -o max_pairwise_sort_efficient\n",
        "!./max_pairwise_sort_efficient < input1.txt\n",
        "!./max_pairwise_sort_efficient < input2.txt"
      ]
    },
    {
      "cell_type": "code",
      "source": [
        "! python max_pairwise_sort_efficient.py < input1.txt\n",
        "! python max_pairwise_sort_efficient.py < input2.txt"
      ],
      "metadata": {
        "colab": {
          "base_uri": "https://localhost:8080/"
        },
        "id": "0LbPDFAW-hfP",
        "outputId": "69f501c5-3e3a-45b8-bf1b-1fcb2ef0c9a1"
      },
      "execution_count": null,
      "outputs": [
        {
          "output_type": "stream",
          "name": "stdout",
          "text": [
            "--- Python ---\n",
            "Product: 90\n",
            "--- Python ---\n",
            "Product: 90\n"
          ]
        }
      ]
    },
    {
      "cell_type": "markdown",
      "metadata": {
        "id": "PRX51wADNR8b"
      },
      "source": [
        "Test and time it with input 3"
      ]
    },
    {
      "cell_type": "code",
      "execution_count": null,
      "metadata": {
        "id": "v4z7-Is_NRt7",
        "colab": {
          "base_uri": "https://localhost:8080/"
        },
        "outputId": "68d319c4-7370-429a-b33d-c17890e3bf89"
      },
      "outputs": [
        {
          "output_type": "stream",
          "name": "stdout",
          "text": [
            "--- C++ ---\n",
            "Product: 1345294336\n",
            "--- Python ---\n",
            "Product: 40000000000\n"
          ]
        }
      ],
      "source": [
        "!g++ max_pairwise_sort_efficient.cpp -o max_pairwise_sort_efficient\n",
        "!./max_pairwise_sort_efficient < input3.txt\n",
        "! python max_pairwise_sort_efficient.py < input3.txt"
      ]
    },
    {
      "cell_type": "markdown",
      "metadata": {
        "id": "rpdfs0_TNZJf"
      },
      "source": [
        "20 stress tests"
      ]
    },
    {
      "cell_type": "code",
      "execution_count": null,
      "metadata": {
        "id": "Lu4tYcKzNcTT"
      },
      "outputs": [],
      "source": [
        "#CREATE 20 random texts\n",
        "import random\n",
        "\n",
        "for i in range(1,21):\n",
        "    fileName = f\"stress_input_{i}.txt\"\n",
        "\n",
        "    with open(fileName, \"w\") as file:\n",
        "      n = random.randint(3, 40)\n",
        "      file.write(f\"{n}\"+ \"\\n\")\n",
        "      for i in range(1,n):\n",
        "          file.write(str(random.randint(1, 100)) + \" \")"
      ]
    },
    {
      "cell_type": "code",
      "source": [
        "!g++ max_pairwise_sort_efficient.cpp -o max_pairwise_sort_efficient\n",
        "!./max_pairwise_sort_efficient < stress_input_1.txt\n",
        "!./max_pairwise_sort_efficient < stress_input_2.txt\n",
        "!./max_pairwise_sort_efficient < stress_input_3.txt\n",
        "!./max_pairwise_sort_efficient < stress_input_4.txt\n",
        "!./max_pairwise_sort_efficient < stress_input_5.txt\n",
        "!./max_pairwise_sort_efficient < stress_input_6.txt\n",
        "!./max_pairwise_sort_efficient < stress_input_7.txt\n",
        "!./max_pairwise_sort_efficient < stress_input_8.txt\n",
        "!./max_pairwise_sort_efficient < stress_input_9.txt\n",
        "!./max_pairwise_sort_efficient < stress_input_10.txt\n",
        "!./max_pairwise_sort_efficient < stress_input_11.txt\n",
        "!./max_pairwise_sort_efficient < stress_input_12.txt\n",
        "!./max_pairwise_sort_efficient < stress_input_13.txt\n",
        "!./max_pairwise_sort_efficient < stress_input_14.txt\n",
        "!./max_pairwise_sort_efficient < stress_input_15.txt\n",
        "!./max_pairwise_sort_efficient < stress_input_16.txt\n",
        "!./max_pairwise_sort_efficient < stress_input_17.txt\n",
        "!./max_pairwise_sort_efficient < stress_input_18.txt\n",
        "!./max_pairwise_sort_efficient < stress_input_19.txt\n",
        "!./max_pairwise_sort_efficient < stress_input_20.txt"
      ],
      "metadata": {
        "colab": {
          "base_uri": "https://localhost:8080/"
        },
        "id": "sUzKvNsz_ITu",
        "outputId": "245d8270-0e87-4710-aea9-9c5440d5a01a"
      },
      "execution_count": null,
      "outputs": [
        {
          "output_type": "stream",
          "name": "stdout",
          "text": [
            "--- C++ ---\n",
            "Product: 7569\n",
            "--- C++ ---\n",
            "Product: 9702\n",
            "--- C++ ---\n",
            "Product: 8352\n",
            "--- C++ ---\n",
            "Product: 9312\n",
            "--- C++ ---\n",
            "Product: 9212\n",
            "--- C++ ---\n",
            "Product: 5832\n",
            "--- C++ ---\n",
            "Product: 3392\n",
            "--- C++ ---\n",
            "Product: 7920\n",
            "--- C++ ---\n",
            "Product: 8280\n",
            "--- C++ ---\n",
            "Product: 9215\n",
            "--- C++ ---\n",
            "Product: 9800\n",
            "--- C++ ---\n",
            "Product: 8536\n",
            "--- C++ ---\n",
            "Product: 9900\n",
            "--- C++ ---\n",
            "Product: 9200\n",
            "--- C++ ---\n",
            "Product: 9702\n",
            "--- C++ ---\n",
            "Product: 8556\n",
            "--- C++ ---\n",
            "Product: 5694\n",
            "--- C++ ---\n",
            "Product: 6400\n",
            "--- C++ ---\n",
            "Product: 8827\n",
            "--- C++ ---\n",
            "Product: 6351\n"
          ]
        }
      ]
    },
    {
      "cell_type": "code",
      "source": [
        "! python max_pairwise_sort_efficient.py < stress_input_1.txt\n",
        "! python max_pairwise_sort_efficient.py < stress_input_2.txt\n",
        "! python max_pairwise_sort_efficient.py < stress_input_3.txt\n",
        "! python max_pairwise_sort_efficient.py < stress_input_4.txt\n",
        "! python max_pairwise_sort_efficient.py < stress_input_5.txt\n",
        "! python max_pairwise_sort_efficient.py < stress_input_6.txt\n",
        "! python max_pairwise_sort_efficient.py < stress_input_7.txt\n",
        "! python max_pairwise_sort_efficient.py < stress_input_8.txt\n",
        "! python max_pairwise_sort_efficient.py < stress_input_9.txt\n",
        "! python max_pairwise_sort_efficient.py < stress_input_10.txt\n",
        "! python max_pairwise_sort_efficient.py < stress_input_11.txt\n",
        "! python max_pairwise_sort_efficient.py < stress_input_12.txt\n",
        "! python max_pairwise_sort_efficient.py < stress_input_13.txt\n",
        "! python max_pairwise_sort_efficient.py < stress_input_14.txt\n",
        "! python max_pairwise_sort_efficient.py < stress_input_15.txt\n",
        "! python max_pairwise_sort_efficient.py < stress_input_16.txt\n",
        "! python max_pairwise_sort_efficient.py < stress_input_17.txt\n",
        "! python max_pairwise_sort_efficient.py < stress_input_18.txt\n",
        "! python max_pairwise_sort_efficient.py < stress_input_19.txt\n",
        "! python max_pairwise_sort_efficient.py < stress_input_20.txt"
      ],
      "metadata": {
        "colab": {
          "base_uri": "https://localhost:8080/"
        },
        "id": "frVOGZMD_L3Q",
        "outputId": "a650c301-66b9-4ba1-f428-ae7c3113c39f"
      },
      "execution_count": null,
      "outputs": [
        {
          "output_type": "stream",
          "name": "stdout",
          "text": [
            "--- Python ---\n",
            "Product: 7569\n",
            "--- Python ---\n",
            "Product: 9702\n",
            "--- Python ---\n",
            "Product: 8352\n",
            "--- Python ---\n",
            "Product: 9312\n",
            "--- Python ---\n",
            "Product: 9212\n",
            "--- Python ---\n",
            "Product: 5832\n",
            "--- Python ---\n",
            "Product: 3392\n",
            "--- Python ---\n",
            "Product: 7920\n",
            "--- Python ---\n",
            "Product: 8280\n",
            "--- Python ---\n",
            "Product: 9215\n",
            "--- Python ---\n",
            "Product: 9800\n",
            "--- Python ---\n",
            "Product: 8536\n",
            "--- Python ---\n",
            "Product: 9900\n",
            "--- Python ---\n",
            "Product: 9200\n",
            "--- Python ---\n",
            "Product: 9702\n",
            "--- Python ---\n",
            "Product: 8556\n",
            "--- Python ---\n",
            "Product: 5694\n",
            "--- Python ---\n",
            "Product: 6400\n",
            "--- Python ---\n",
            "Product: 8827\n",
            "--- Python ---\n",
            "Product: 6351\n"
          ]
        }
      ]
    },
    {
      "cell_type": "markdown",
      "metadata": {
        "id": "L8U4151JNbxk"
      },
      "source": [
        "Count executed instructions in code and verify with inputs 1,2 and 3\n"
      ]
    },
    {
      "cell_type": "code",
      "source": [
        "%%writefile max_pairwise_sort_efficient_count.cpp\n",
        "#include <iostream>\n",
        "#include <vector>\n",
        "#include <algorithm>\n",
        "#include <limits.h>\n",
        "\n",
        "using namespace std;\n",
        "\n",
        "int main() {\n",
        "    cout << \"--- C++ ---\" << \"\\n\";\n",
        "    int exexins = 0;\n",
        "    int n;                                     // 1\n",
        "    exexins++;\n",
        "    cin >> n;                                  // 1\n",
        "    exexins++;\n",
        "    int maxNumber = INT_MIN;                   // 1\n",
        "    exexins++;\n",
        "    int secondMaxNumber = INT_MIN;             // 1\n",
        "    exexins++;\n",
        "\n",
        "    vector<int> numbers(n);                    // n\n",
        "\n",
        "    exexins += n;\n",
        "\n",
        "    for (int i = 0; i < n; ++i) {              // 1 + 2n\n",
        "        cin >> numbers[i];                     // n\n",
        "        exexins++;\n",
        "    }\n",
        "\n",
        "\n",
        "    exexins++;\n",
        "    for (int i = 0; i < n; ++i) {              //1 + 2n\n",
        "        exexins += 2;\n",
        "\n",
        "        int aux = numbers[i];                           // n\n",
        "        exexins++;\n",
        "\n",
        "\n",
        "        exexins++; // if\n",
        "        exexins++; // else if\n",
        "        if (aux > maxNumber){                  // n\n",
        "          secondMaxNumber = maxNumber;         // [0, n] in the worst case it would be n times\n",
        "          exexins++;\n",
        "          maxNumber = aux;                     // [0, n] in the worst case it would be n times\n",
        "          exexins++;\n",
        "        } else if (aux > secondMaxNumber) {    // n\n",
        "          secondMaxNumber = aux;               // [0, n] in the worst case it would be n times\n",
        "          exexins++;\n",
        "        }\n",
        "\n",
        "    }\n",
        "\n",
        "    cout <<  \"Executed instructions: \" << exexins << \" n: \"<< n << \" Product: \" << maxNumber * secondMaxNumber << \"\\n\"; // 1\n",
        "    return 0;                                  // 1\n",
        "}"
      ],
      "metadata": {
        "colab": {
          "base_uri": "https://localhost:8080/"
        },
        "id": "ITdQBB1i_PWW",
        "outputId": "fd697aa5-4216-497c-d3b1-3f58275cd881"
      },
      "execution_count": null,
      "outputs": [
        {
          "output_type": "stream",
          "name": "stdout",
          "text": [
            "Writing max_pairwise_sort_efficient_count.cpp\n"
          ]
        }
      ]
    },
    {
      "cell_type": "code",
      "execution_count": null,
      "metadata": {
        "id": "dh85RM8vNhFz",
        "colab": {
          "base_uri": "https://localhost:8080/"
        },
        "outputId": "4bea9718-670c-428f-98af-91e5e1e3185a"
      },
      "outputs": [
        {
          "output_type": "stream",
          "name": "stdout",
          "text": [
            "--- C++ ---\n",
            "Executed instructions: 95 n: 10 Product: 90\n",
            "--- C++ ---\n",
            "Executed instructions: 78 n: 10 Product: 90\n",
            "--- C++ ---\n",
            "Executed instructions: 55 n: 6 Product: 1345294336\n"
          ]
        }
      ],
      "source": [
        "!g++ max_pairwise_sort_efficient_count.cpp -o max_pairwise_sort_efficient_count\n",
        "!./max_pairwise_sort_efficient_count < input1.txt\n",
        "!./max_pairwise_sort_efficient_count < input2.txt\n",
        "!./max_pairwise_sort_efficient_count < input3.txt"
      ]
    },
    {
      "cell_type": "code",
      "source": [
        "%%writefile max_pairwise_sort_efficient_count.py\n",
        "print(\"--- Python ---\")\n",
        "exexins = 0\n",
        "n = int(input())                             # 1\n",
        "exexins += 1\n",
        "numbers = list(map(int, input().split()))    # 4n (n input read + map o(n) + create list + cast to int values)\n",
        "exexins = 4 * n\n",
        "\n",
        "max_number = float(\"-inf\")                   # 1\n",
        "exexins += 1\n",
        "second_max_number = float(\"-inf\")            # 1\n",
        "exexins += 1\n",
        "\n",
        "exexins += 1\n",
        "for num in numbers:                          # 1 + 2n\n",
        "    exexins += 2\n",
        "\n",
        "    exexins += 1 # if\n",
        "    exexins += 1 # elif\n",
        "    if num > max_number:                     # n\n",
        "        second_max_number = max_number       # [0, n] in the worst case it would be n times\n",
        "        exexins += 1\n",
        "        max_number = num                     # [0, n] in the worst case it would be n times\n",
        "        exexins += 1\n",
        "    elif num > second_max_number:            # n\n",
        "        second_max_number = num              # [0, n] in the worst case it would be n times\n",
        "        exexins += 1\n",
        "\n",
        "product = max_number * second_max_number     # 1\n",
        "exexins += 1\n",
        "print(f\"Executed instructions: {exexins} n: {n} Product: {product}\")                 # 1"
      ],
      "metadata": {
        "colab": {
          "base_uri": "https://localhost:8080/"
        },
        "id": "jVlaqx-M_X2m",
        "outputId": "fc84a05b-58ce-4b74-d2e5-e788916d8c9b"
      },
      "execution_count": null,
      "outputs": [
        {
          "output_type": "stream",
          "name": "stdout",
          "text": [
            "Writing max_pairwise_sort_efficient_count.py\n"
          ]
        }
      ]
    },
    {
      "cell_type": "code",
      "source": [
        "!python max_pairwise_sort_efficient_count.py < input1.txt\n",
        "!python max_pairwise_sort_efficient_count.py < input2.txt\n",
        "!python max_pairwise_sort_efficient_count.py < input3.txt"
      ],
      "metadata": {
        "colab": {
          "base_uri": "https://localhost:8080/"
        },
        "id": "kpK2z_-0_aXp",
        "outputId": "63409261-a8d2-4fa4-affa-704b1a3253bb"
      },
      "execution_count": null,
      "outputs": [
        {
          "output_type": "stream",
          "name": "stdout",
          "text": [
            "--- Python ---\n",
            "Executed instructions: 104 n: 10 Product: 90\n",
            "--- Python ---\n",
            "Executed instructions: 87 n: 10 Product: 90\n",
            "--- Python ---\n",
            "Executed instructions: 60 n: 6 Product: 40000000000\n"
          ]
        }
      ]
    },
    {
      "cell_type": "markdown",
      "metadata": {
        "id": "K6ybgCmpNygr"
      },
      "source": [
        "Calculate estimated time by instruction and number of instructions by second"
      ]
    },
    {
      "cell_type": "code",
      "execution_count": null,
      "metadata": {
        "id": "kwe3G1O3Nz1w",
        "colab": {
          "base_uri": "https://localhost:8080/"
        },
        "outputId": "dd4f0c15-f4e0-45b3-f82a-2a2e76be71b0"
      },
      "outputs": [
        {
          "output_type": "stream",
          "name": "stdout",
          "text": [
            "--- C++ ---\n",
            "Executed instructions: 95 n: 10 Product: 90\n",
            "CPU times: user 12.3 ms, sys: 5.42 ms, total: 17.7 ms\n",
            "Wall time: 912 ms\n"
          ]
        }
      ],
      "source": [
        "%%time\n",
        "!g++ max_pairwise_sort_efficient_count.cpp -o max_pairwise_sort_efficient_count\n",
        "!./max_pairwise_sort_efficient_count < input1.txt"
      ]
    },
    {
      "cell_type": "code",
      "source": [
        "%%time\n",
        "!python max_pairwise_sort_efficient_count.py < input1.txt"
      ],
      "metadata": {
        "colab": {
          "base_uri": "https://localhost:8080/"
        },
        "id": "FOTehPDs_hJy",
        "outputId": "5d7b9df5-a9b3-45f5-9407-aef4d0c824d9"
      },
      "execution_count": null,
      "outputs": [
        {
          "output_type": "stream",
          "name": "stdout",
          "text": [
            "--- Python ---\n",
            "Executed instructions: 104 n: 10 Product: 90\n",
            "CPU times: user 6.23 ms, sys: 5 µs, total: 6.24 ms\n",
            "Wall time: 105 ms\n"
          ]
        }
      ]
    },
    {
      "cell_type": "code",
      "execution_count": null,
      "metadata": {
        "id": "z3xjzg1YaKk6",
        "colab": {
          "base_uri": "https://localhost:8080/"
        },
        "outputId": "f08e9d61-f7f5-4ea2-ab99-66177a4d51a7"
      },
      "outputs": [
        {
          "output_type": "stream",
          "name": "stdout",
          "text": [
            "Time per instruction C++: 0.0001447058823529412\n",
            "Instructions per second C++: 6910.569105691056\n",
            "Time per instruction Python: 5.9903846153846154e-05\n",
            "Instructions per second Python: 16693.41894060995\n"
          ]
        }
      ],
      "source": [
        "time_per_ins = 0.0123 / 85\n",
        "instructions_per_second = 1 / time_per_ins\n",
        "print(f\"Time per instruction C++: {time_per_ins}\")\n",
        "print(f\"Instructions per second C++: {instructions_per_second}\")\n",
        "time_per_ins = 0.00623 / 104\n",
        "instructions_per_second = 1 / time_per_ins\n",
        "print(f\"Time per instruction Python: {time_per_ins}\")\n",
        "print(f\"Instructions per second Python: {instructions_per_second}\")"
      ]
    },
    {
      "cell_type": "markdown",
      "metadata": {
        "id": "sUpIWcykOGpT"
      },
      "source": [
        "## Super efficient solution\n",
        "\n",
        "Whitout storing the list in memory, only stpring the largest and second largest and whitout calling a function, add in each line a coment with the number of instructions that are executed in that line\n",
        "\n",
        "in C++ and Python\n",
        "\n",
        "\n",
        " $$T(n) < 13 n  = O(n)$$\n"
      ]
    },
    {
      "cell_type": "code",
      "execution_count": null,
      "metadata": {
        "id": "hBLt_xBQLy8E",
        "colab": {
          "base_uri": "https://localhost:8080/"
        },
        "outputId": "e06f16ff-bfcf-4182-91c5-050f6444dea9"
      },
      "outputs": [
        {
          "output_type": "stream",
          "name": "stdout",
          "text": [
            "Writing max_pairwise_sort_super_efficient.cpp\n"
          ]
        }
      ],
      "source": [
        "%%writefile max_pairwise_sort_super_efficient.cpp\n",
        "#include <iostream>\n",
        "#include <vector>\n",
        "#include <algorithm>\n",
        "#include <limits.h>\n",
        "\n",
        "using namespace std;\n",
        "\n",
        "int main() {\n",
        "    cout << \"--- C++ ---\" << \"\\n\";\n",
        "    int n;                                     // 1\n",
        "    cin >> n;                                  // 1\n",
        "    int maxNumber = INT_MIN;                   // 1\n",
        "    int secondMaxNumber = INT_MIN;             // 1\n",
        "\n",
        "\n",
        "    for (int i = 0; i < n; ++i) {              //1 + 2n\n",
        "        int aux = 0;                           // n\n",
        "        cin >> aux;                            // n\n",
        "\n",
        "        if (aux > maxNumber){                  // n\n",
        "          secondMaxNumber = maxNumber;         // [0, n] in the worst case it would be n times\n",
        "          maxNumber = aux;                     // [0, n] in the worst case it would be n times\n",
        "\n",
        "        } else if (aux > secondMaxNumber) {    // n\n",
        "          secondMaxNumber = aux;               // [0, n] in the worst case it would be n times\n",
        "        }\n",
        "\n",
        "    }\n",
        "\n",
        "    cout <<  \"Product: \" << maxNumber * secondMaxNumber << \"\\n\"; // 1\n",
        "    return 0;                                  // 1\n",
        "}"
      ]
    },
    {
      "cell_type": "markdown",
      "metadata": {
        "id": "683gc3roHqzb"
      },
      "source": [
        "Test with inputs 1 and 2\n",
        "\n",
        "\n"
      ]
    },
    {
      "cell_type": "code",
      "execution_count": null,
      "metadata": {
        "id": "b7d4LA8OIc2_",
        "colab": {
          "base_uri": "https://localhost:8080/"
        },
        "outputId": "1a89a71f-e5c3-44d7-8419-83110f24172b"
      },
      "outputs": [
        {
          "output_type": "stream",
          "name": "stdout",
          "text": [
            "--- C++ ---\n",
            "Product: 90\n",
            "--- C++ ---\n",
            "Product: 90\n"
          ]
        }
      ],
      "source": [
        "!g++ max_pairwise_sort_super_efficient.cpp -o max_pairwise_sort_super_efficient\n",
        "!./max_pairwise_sort_super_efficient < input1.txt\n",
        "!./max_pairwise_sort_super_efficient < input2.txt"
      ]
    },
    {
      "cell_type": "markdown",
      "metadata": {
        "id": "36Ugn1odIeJz"
      },
      "source": [
        "Test and time it with input 3"
      ]
    },
    {
      "cell_type": "code",
      "execution_count": null,
      "metadata": {
        "id": "jDyMbCnxHqSN",
        "colab": {
          "base_uri": "https://localhost:8080/"
        },
        "outputId": "a781d636-a8ce-4901-9773-e5c7108c7c18"
      },
      "outputs": [
        {
          "output_type": "stream",
          "name": "stdout",
          "text": [
            "--- C++ ---\n",
            "Product: 1345294336\n"
          ]
        }
      ],
      "source": [
        "!g++ max_pairwise_sort_super_efficient.cpp -o max_pairwise_sort_super_efficient\n",
        "!./max_pairwise_sort_super_efficient < input3.txt"
      ]
    },
    {
      "cell_type": "markdown",
      "metadata": {
        "id": "bhqiKQG6fjKM"
      },
      "source": [
        "20 stress tests"
      ]
    },
    {
      "cell_type": "code",
      "execution_count": null,
      "metadata": {
        "id": "2KsiXKhALzwm"
      },
      "outputs": [],
      "source": [
        "#CREATE 20 random texts\n",
        "import random\n",
        "\n",
        "for i in range(1,21):\n",
        "    fileName = f\"stress_input_{i}.txt\"\n",
        "\n",
        "    with open(fileName, \"w\") as file:\n",
        "      n = random.randint(3, 40)\n",
        "      file.write(f\"{n}\"+ \"\\n\")\n",
        "      for i in range(1,n):\n",
        "          file.write(str(random.randint(1, 100)) + \" \")"
      ]
    },
    {
      "cell_type": "code",
      "source": [
        "!g++ max_pairwise_sort_super_efficient.cpp -o max_pairwise_sort_super_efficient\n",
        "!./max_pairwise_sort_super_efficient < stress_input_1.txt\n",
        "!./max_pairwise_sort_super_efficient < stress_input_2.txt\n",
        "!./max_pairwise_sort_super_efficient < stress_input_3.txt\n",
        "!./max_pairwise_sort_super_efficient < stress_input_4.txt\n",
        "!./max_pairwise_sort_super_efficient < stress_input_5.txt\n",
        "!./max_pairwise_sort_super_efficient < stress_input_6.txt\n",
        "!./max_pairwise_sort_super_efficient < stress_input_7.txt\n",
        "!./max_pairwise_sort_super_efficient < stress_input_8.txt\n",
        "!./max_pairwise_sort_super_efficient < stress_input_9.txt\n",
        "!./max_pairwise_sort_super_efficient < stress_input_10.txt\n",
        "!./max_pairwise_sort_super_efficient < stress_input_11.txt\n",
        "!./max_pairwise_sort_super_efficient < stress_input_12.txt\n",
        "!./max_pairwise_sort_super_efficient < stress_input_13.txt\n",
        "!./max_pairwise_sort_super_efficient < stress_input_14.txt\n",
        "!./max_pairwise_sort_super_efficient < stress_input_15.txt\n",
        "!./max_pairwise_sort_super_efficient < stress_input_16.txt\n",
        "!./max_pairwise_sort_super_efficient < stress_input_17.txt\n",
        "!./max_pairwise_sort_super_efficient < stress_input_18.txt\n",
        "!./max_pairwise_sort_super_efficient < stress_input_19.txt\n",
        "!./max_pairwise_sort_super_efficient < stress_input_20.txt"
      ],
      "metadata": {
        "colab": {
          "base_uri": "https://localhost:8080/"
        },
        "id": "55eRYC_zAUyP",
        "outputId": "b49a1e6d-a083-43ef-cc27-15588049bead"
      },
      "execution_count": null,
      "outputs": [
        {
          "output_type": "stream",
          "name": "stdout",
          "text": [
            "--- C++ ---\n",
            "Product: 9700\n",
            "--- C++ ---\n",
            "Product: 4891\n",
            "--- C++ ---\n",
            "Product: 7722\n",
            "--- C++ ---\n",
            "Product: 4422\n",
            "--- C++ ---\n",
            "Product: 8835\n",
            "--- C++ ---\n",
            "Product: 8096\n",
            "--- C++ ---\n",
            "Product: 8460\n",
            "--- C++ ---\n",
            "Product: 9600\n",
            "--- C++ ---\n",
            "Product: 6716\n",
            "--- C++ ---\n",
            "Product: 3430\n",
            "--- C++ ---\n",
            "Product: 9120\n",
            "--- C++ ---\n",
            "Product: 9600\n",
            "--- C++ ---\n",
            "Product: 8550\n",
            "--- C++ ---\n",
            "Product: 6560\n",
            "--- C++ ---\n",
            "Product: 9801\n",
            "--- C++ ---\n",
            "Product: 9120\n",
            "--- C++ ---\n",
            "Product: 9603\n",
            "--- C++ ---\n",
            "Product: 5628\n",
            "--- C++ ---\n",
            "Product: 8827\n",
            "--- C++ ---\n",
            "Product: 9405\n"
          ]
        }
      ]
    },
    {
      "cell_type": "markdown",
      "metadata": {
        "id": "fEXj8GHJH5p1"
      },
      "source": [
        "Count executed instructions in code and verify with inputs 1,2 and 3"
      ]
    },
    {
      "cell_type": "code",
      "execution_count": null,
      "metadata": {
        "id": "LF1DHjKXIAsF",
        "colab": {
          "base_uri": "https://localhost:8080/"
        },
        "outputId": "674e90eb-298d-45b2-bbaf-879e147a3d49"
      },
      "outputs": [
        {
          "output_type": "stream",
          "name": "stdout",
          "text": [
            "Writing max_pairwise_sort_super_efficient_count.cpp\n"
          ]
        }
      ],
      "source": [
        "%%writefile max_pairwise_sort_super_efficient_count.cpp\n",
        "#include <iostream>\n",
        "#include <vector>\n",
        "#include <algorithm>\n",
        "#include <limits.h>\n",
        "\n",
        "using namespace std;\n",
        "\n",
        "int main() {\n",
        "    cout << \"--- C++ ---\" << \"\\n\";\n",
        "    int exexins = 0;\n",
        "    int n;                                     // 1\n",
        "    exexins++;\n",
        "    cin >> n;                                  // 1\n",
        "    exexins++;\n",
        "    int maxNumber = INT_MIN;                   // 1\n",
        "    exexins++;\n",
        "    int secondMaxNumber = INT_MIN;             // 1\n",
        "    exexins++;\n",
        "\n",
        "\n",
        "    exexins++;\n",
        "    for (int i = 0; i < n; ++i) {              //1 + 2n\n",
        "        exexins += 2;\n",
        "        int aux = 0;                           // n\n",
        "        exexins++;\n",
        "\n",
        "        cin>> aux;                            // n\n",
        "        exexins++;\n",
        "\n",
        "\n",
        "        exexins++; // if\n",
        "        exexins++; // else if\n",
        "        if (aux > maxNumber){                  // n\n",
        "          secondMaxNumber = maxNumber;         // [0, n] in the worst case it would be n times\n",
        "          exexins++;\n",
        "          maxNumber = aux;                     // [0, n] in the worst case it would be n times\n",
        "          exexins++;\n",
        "        } else if (aux > secondMaxNumber) {    // n\n",
        "          secondMaxNumber = aux;               // [0, n] in the worst case it would be n times\n",
        "          exexins++;\n",
        "        }\n",
        "\n",
        "    }\n",
        "\n",
        "    cout <<  \"Executed instructions: \" << exexins << \" n: \"<< n << \" Product: \" << maxNumber * secondMaxNumber << \"\\n\"; // 1\n",
        "    return 0;                                  // 1\n",
        "}"
      ]
    },
    {
      "cell_type": "code",
      "source": [
        "!g++ max_pairwise_sort_super_efficient_count.cpp -o max_pairwise_sort_super_efficient_count\n",
        "!./max_pairwise_sort_super_efficient_count < input1.txt\n",
        "!./max_pairwise_sort_super_efficient_count < input2.txt\n",
        "!./max_pairwise_sort_super_efficient_count < input3.txt"
      ],
      "metadata": {
        "colab": {
          "base_uri": "https://localhost:8080/"
        },
        "id": "4e0tjdFjAi6i",
        "outputId": "c422ff8e-d976-4daf-84e2-6a635a35b51f"
      },
      "execution_count": null,
      "outputs": [
        {
          "output_type": "stream",
          "name": "stdout",
          "text": [
            "--- C++ ---\n",
            "Executed instructions: 85 n: 10 Product: 90\n",
            "--- C++ ---\n",
            "Executed instructions: 68 n: 10 Product: 90\n",
            "--- C++ ---\n",
            "Executed instructions: 49 n: 6 Product: 1345294336\n"
          ]
        }
      ]
    },
    {
      "cell_type": "markdown",
      "metadata": {
        "id": "yae7sSm2IG9U"
      },
      "source": [
        "Calculate estimated time by instruction and number of instructions by second"
      ]
    },
    {
      "cell_type": "code",
      "execution_count": null,
      "metadata": {
        "id": "suouY7BYL2dz",
        "colab": {
          "base_uri": "https://localhost:8080/"
        },
        "outputId": "38594780-05c8-4fc2-fc8d-5d3beaf52a1e"
      },
      "outputs": [
        {
          "output_type": "stream",
          "name": "stdout",
          "text": [
            "--- C++ ---\n",
            "Executed instructions: 85 n: 10 Product: 90\n",
            "CPU times: user 15.6 ms, sys: 2.08 ms, total: 17.7 ms\n",
            "Wall time: 813 ms\n"
          ]
        }
      ],
      "source": [
        "%%time\n",
        "!g++ max_pairwise_sort_super_efficient_count.cpp -o max_pairwise_sort_super_efficient_count\n",
        "!./max_pairwise_sort_super_efficient_count < input1.txt"
      ]
    },
    {
      "cell_type": "code",
      "source": [
        "time_per_ins = 0.0156 / 85\n",
        "instructions_per_second = 1 / time_per_ins\n",
        "print(f\"Time per instruction C++: {time_per_ins}\")\n",
        "print(f\"Instructions per second C++: {instructions_per_second}\")"
      ],
      "metadata": {
        "colab": {
          "base_uri": "https://localhost:8080/"
        },
        "id": "UN9fWocjBqA9",
        "outputId": "463730b2-6d6d-49f3-ccb6-6f54fd6af5ae"
      },
      "execution_count": null,
      "outputs": [
        {
          "output_type": "stream",
          "name": "stdout",
          "text": [
            "Time per instruction C++: 0.00018352941176470587\n",
            "Instructions per second C++: 5448.717948717949\n"
          ]
        }
      ]
    },
    {
      "cell_type": "markdown",
      "metadata": {
        "id": "sy33CNNfPxcE"
      },
      "source": [
        "### Super efficient solution in Python\n",
        "\n",
        "Whitout storing the list in memory and whitout calling a function, add in each line a coment with the number of intstrcution that are executed in that line"
      ]
    },
    {
      "cell_type": "code",
      "execution_count": null,
      "metadata": {
        "id": "_mOjJwKrPxcJ",
        "colab": {
          "base_uri": "https://localhost:8080/"
        },
        "outputId": "3fe53600-629c-4be1-8f5e-be8556f16c5e"
      },
      "outputs": [
        {
          "output_type": "stream",
          "name": "stdout",
          "text": [
            "Overwriting max_pairwise_sort_super_efficient.py\n"
          ]
        }
      ],
      "source": [
        "%%writefile max_pairwise_sort_super_efficient.py\n",
        "print(\"--- Python ---\")\n",
        "n = int(input())                            # 1\n",
        "max_number = float(\"-inf\")                  # 1\n",
        "second_max_number = float(\"-inf\")           # 1\n",
        "\n",
        "for num in input().split():                 # 3 + 2n\n",
        "\n",
        "    num = int(num)                          # n\n",
        "\n",
        "    if num > max_number:                    # n\n",
        "        second_max_number = max_number      # [0, n] in the worst case it would be n times\n",
        "        max_number = num                    # [0, n] in the worst case it would be n times\n",
        "    elif num > second_max_number:           # n\n",
        "        second_max_number = num             # [0, n] in the worst case it would be n times\n",
        "\n",
        "print(f\"Product: {max_number * second_max_number}\")"
      ]
    },
    {
      "cell_type": "markdown",
      "metadata": {
        "id": "K08Eow0hPxcJ"
      },
      "source": [
        "Test with inputs 1 and 2\n",
        "\n",
        "\n"
      ]
    },
    {
      "cell_type": "code",
      "execution_count": null,
      "metadata": {
        "id": "1_mUee2cPxcJ",
        "colab": {
          "base_uri": "https://localhost:8080/"
        },
        "outputId": "25f3205e-08d1-495d-e091-58ba3fdbc63e"
      },
      "outputs": [
        {
          "output_type": "stream",
          "name": "stdout",
          "text": [
            "--- Python ---\n",
            "Product: 90\n",
            "--- Python ---\n",
            "Product: 90\n"
          ]
        }
      ],
      "source": [
        "!python max_pairwise_sort_super_efficient.py < input1.txt\n",
        "!python max_pairwise_sort_super_efficient.py < input2.txt"
      ]
    },
    {
      "cell_type": "markdown",
      "metadata": {
        "id": "CE5DB3CmPxcJ"
      },
      "source": [
        "Test and time it with input 3"
      ]
    },
    {
      "cell_type": "code",
      "execution_count": null,
      "metadata": {
        "id": "lyLhFOoePxcJ",
        "colab": {
          "base_uri": "https://localhost:8080/"
        },
        "outputId": "d737f2ae-e254-41ff-8d37-78d29a8d3cf4"
      },
      "outputs": [
        {
          "output_type": "stream",
          "name": "stdout",
          "text": [
            "--- Python ---\n",
            "Product: 40000000000\n"
          ]
        }
      ],
      "source": [
        "!python max_pairwise_sort_super_efficient.py < input3.txt"
      ]
    },
    {
      "cell_type": "markdown",
      "metadata": {
        "id": "HZEI236lPxcK"
      },
      "source": [
        "20 stress tests"
      ]
    },
    {
      "cell_type": "code",
      "execution_count": null,
      "metadata": {
        "id": "_LoV-p4zPxcK",
        "colab": {
          "base_uri": "https://localhost:8080/"
        },
        "outputId": "f438a041-df80-41e5-fa93-d1348cfeac0f"
      },
      "outputs": [
        {
          "output_type": "stream",
          "name": "stdout",
          "text": [
            "--- Python ---\n",
            "Product: 9700\n",
            "--- Python ---\n",
            "Product: 4891\n",
            "--- Python ---\n",
            "Product: 7722\n",
            "--- Python ---\n",
            "Product: 4422\n",
            "--- Python ---\n",
            "Product: 8835\n",
            "--- Python ---\n",
            "Product: 8096\n",
            "--- Python ---\n",
            "Product: 8460\n",
            "--- Python ---\n",
            "Product: 9600\n",
            "--- Python ---\n",
            "Product: 6716\n",
            "--- Python ---\n",
            "Product: 3430\n",
            "--- Python ---\n",
            "Product: 9120\n",
            "--- Python ---\n",
            "Product: 9600\n",
            "--- Python ---\n",
            "Product: 8550\n",
            "--- Python ---\n",
            "Product: 6560\n",
            "--- Python ---\n",
            "Product: 9801\n",
            "--- Python ---\n",
            "Product: 9120\n",
            "--- Python ---\n",
            "Product: 9603\n",
            "--- Python ---\n",
            "Product: 5628\n",
            "--- Python ---\n",
            "Product: 8827\n",
            "--- Python ---\n",
            "Product: 9405\n"
          ]
        }
      ],
      "source": [
        "!python max_pairwise_sort_super_efficient.py < stress_input_1.txt\n",
        "!python max_pairwise_sort_super_efficient.py < stress_input_2.txt\n",
        "!python max_pairwise_sort_super_efficient.py < stress_input_3.txt\n",
        "!python max_pairwise_sort_super_efficient.py < stress_input_4.txt\n",
        "!python max_pairwise_sort_super_efficient.py < stress_input_5.txt\n",
        "!python max_pairwise_sort_super_efficient.py < stress_input_6.txt\n",
        "!python max_pairwise_sort_super_efficient.py < stress_input_7.txt\n",
        "!python max_pairwise_sort_super_efficient.py < stress_input_8.txt\n",
        "!python max_pairwise_sort_super_efficient.py < stress_input_9.txt\n",
        "!python max_pairwise_sort_super_efficient.py < stress_input_10.txt\n",
        "!python max_pairwise_sort_super_efficient.py < stress_input_11.txt\n",
        "!python max_pairwise_sort_super_efficient.py < stress_input_12.txt\n",
        "!python max_pairwise_sort_super_efficient.py < stress_input_13.txt\n",
        "!python max_pairwise_sort_super_efficient.py < stress_input_14.txt\n",
        "!python max_pairwise_sort_super_efficient.py < stress_input_15.txt\n",
        "!python max_pairwise_sort_super_efficient.py < stress_input_16.txt\n",
        "!python max_pairwise_sort_super_efficient.py < stress_input_17.txt\n",
        "!python max_pairwise_sort_super_efficient.py < stress_input_18.txt\n",
        "!python max_pairwise_sort_super_efficient.py < stress_input_19.txt\n",
        "!python max_pairwise_sort_super_efficient.py < stress_input_20.txt"
      ]
    },
    {
      "cell_type": "markdown",
      "metadata": {
        "id": "IRVdP3iuPxcK"
      },
      "source": [
        "Count executed instructions in code and verify with inputs 1,2 and 3"
      ]
    },
    {
      "cell_type": "code",
      "execution_count": null,
      "metadata": {
        "id": "RghJOg78PxcK",
        "colab": {
          "base_uri": "https://localhost:8080/"
        },
        "outputId": "0857f3e7-9009-489d-bc45-dae0fe8e7252"
      },
      "outputs": [
        {
          "output_type": "stream",
          "name": "stdout",
          "text": [
            "Overwriting max_pairwise_sort_super_efficient_count.py\n"
          ]
        }
      ],
      "source": [
        "%%writefile max_pairwise_sort_super_efficient_count.py\n",
        "print(\"--- Python ---\")\n",
        "exexins = 0\n",
        "n = int(input())                            # 1\n",
        "exexins += 1\n",
        "max_number = float(\"-inf\")                  # 1\n",
        "exexins += 1\n",
        "second_max_number = float(\"-inf\")           # 1\n",
        "exexins += 1\n",
        "\n",
        "exexins += 3\n",
        "for num in input().split():                 # 3 + 2n\n",
        "    exexins += 2\n",
        "    num = int(num)                          # n\n",
        "    exexins += 1\n",
        "\n",
        "    exexins += 1 # if\n",
        "    exexins += 1 # elif\n",
        "    if num > max_number:                    # n\n",
        "        second_max_number = max_number      # [0, n] in the worst case it would be n times\n",
        "        exexins += 1\n",
        "        max_number = num                    # [0, n] in the worst case it would be n times\n",
        "        exexins += 1\n",
        "    elif num > second_max_number:           # n\n",
        "        second_max_number = num             # [0, n] in the worst case it would be n times\n",
        "        exexins += 1\n",
        "\n",
        "print(f\"Executed instructions: {exexins} n: {n} Product: {max_number * second_max_number}\")"
      ]
    },
    {
      "cell_type": "code",
      "source": [
        "!python max_pairwise_sort_super_efficient_count.py < input1.txt\n",
        "!python max_pairwise_sort_super_efficient_count.py < input2.txt\n",
        "!python max_pairwise_sort_super_efficient_count.py < input3.txt"
      ],
      "metadata": {
        "colab": {
          "base_uri": "https://localhost:8080/"
        },
        "id": "hk0xO3u4Buyf",
        "outputId": "73dff347-0ef5-4935-83c8-f7d109af49d2"
      },
      "execution_count": null,
      "outputs": [
        {
          "output_type": "stream",
          "name": "stdout",
          "text": [
            "--- Python ---\n",
            "Executed instructions: 76 n: 10 Product: 90\n",
            "--- Python ---\n",
            "Executed instructions: 59 n: 10 Product: 90\n",
            "--- Python ---\n",
            "Executed instructions: 44 n: 6 Product: 40000000000\n"
          ]
        }
      ]
    },
    {
      "cell_type": "markdown",
      "metadata": {
        "id": "R6qeUjPaPxcK"
      },
      "source": [
        "Calculate estimated time by instruction and number of instructions by second"
      ]
    },
    {
      "cell_type": "code",
      "source": [
        "%%time\n",
        "!python max_pairwise_sort_super_efficient_count.py < input1.txt"
      ],
      "metadata": {
        "colab": {
          "base_uri": "https://localhost:8080/"
        },
        "id": "oxd8egsUBxTE",
        "outputId": "006e801e-6edc-4f4c-e261-25819a9b19b0"
      },
      "execution_count": null,
      "outputs": [
        {
          "output_type": "stream",
          "name": "stdout",
          "text": [
            "--- Python ---\n",
            "Executed instructions: 76 n: 10 Product: 90\n",
            "CPU times: user 7.97 ms, sys: 994 µs, total: 8.97 ms\n",
            "Wall time: 107 ms\n"
          ]
        }
      ]
    },
    {
      "cell_type": "code",
      "source": [
        "time_per_ins = 0.00797 / 76\n",
        "instructions_per_second = 1 / time_per_ins\n",
        "print(f\"Time per instruction Python: {time_per_ins}\")\n",
        "print(f\"Instructions per second Python: {instructions_per_second}\")"
      ],
      "metadata": {
        "colab": {
          "base_uri": "https://localhost:8080/"
        },
        "id": "N4TBFRhPCIHt",
        "outputId": "3060c752-2c79-4e99-89dd-ab057382b3e2"
      },
      "execution_count": null,
      "outputs": [
        {
          "output_type": "stream",
          "name": "stdout",
          "text": [
            "Time per instruction Python: 0.00010486842105263158\n",
            "Instructions per second Python: 9535.759096612297\n"
          ]
        }
      ]
    },
    {
      "cell_type": "markdown",
      "metadata": {
        "id": "uZGdjUwuaO4v"
      },
      "source": [
        "### Estimate and verify the maximun n that can be solved in 1 second"
      ]
    },
    {
      "cell_type": "code",
      "execution_count": null,
      "metadata": {
        "id": "FjqFevOaaOVz"
      },
      "outputs": [],
      "source": [
        "##Falta"
      ]
    },
    {
      "cell_type": "markdown",
      "metadata": {
        "id": "4hHRQMXzW6oR"
      },
      "source": [
        "## Perform 100 randomized automated tests in C++ and Python with a porgram  compares the answers,for the same 100 random input instances, of the super efficient solution $(T(n) < 10 n = O(n))$ against the sorting solution  $(T(n)  = O(n \\lg{n}))$,  if the answers are not the same stops and displays \"Error\" listing  the input and the two answers; if the 100 tests are completed without stoping displays \"Pass\"."
      ]
    },
    {
      "cell_type": "code",
      "source": [
        "#CREATE 100 random texts\n",
        "import random\n",
        "\n",
        "for i in range(1,101):\n",
        "    fileName = f\"stress_input_{i}.txt\"\n",
        "\n",
        "    with open(fileName, \"w\") as file:\n",
        "      n = random.randint(3, 40)\n",
        "      file.write(f\"{n}\"+ \"\\n\")\n",
        "      for i in range(1,n):\n",
        "          file.write(str(random.randint(1, 100)) + \" \")"
      ],
      "metadata": {
        "id": "3jaxsk6-Dn0j"
      },
      "execution_count": null,
      "outputs": []
    },
    {
      "cell_type": "markdown",
      "source": [
        "#C++\n",
        "##Super efficient solution (𝑇(𝑛)<10𝑛=𝑂(𝑛))"
      ],
      "metadata": {
        "id": "zpSNJiZ7DrWB"
      }
    },
    {
      "cell_type": "code",
      "source": [
        "%%writefile max_pairwise_sort_super_efficient.cpp\n",
        "#include <iostream>\n",
        "#include <vector>\n",
        "#include <algorithm>\n",
        "#include <limits.h>\n",
        "\n",
        "using namespace std;\n",
        "\n",
        "int main() {\n",
        "    int n;                                     // 1\n",
        "    cin >> n;                                  // 1\n",
        "    int maxNumber = INT_MIN;                   // 1\n",
        "    int secondMaxNumber = INT_MIN;             // 1\n",
        "\n",
        "\n",
        "    for (int i = 0; i < n; ++i) {              //1 + 2n\n",
        "        int aux = 0;                           // n\n",
        "        cin >> aux;                            // n\n",
        "\n",
        "        if (aux > maxNumber){                  // n\n",
        "          secondMaxNumber = maxNumber;         // [0, n] in the worst case it would be n times\n",
        "          maxNumber = aux;                     // [0, n] in the worst case it would be n times\n",
        "\n",
        "        } else if (aux > secondMaxNumber) {    // n\n",
        "          secondMaxNumber = aux;               // [0, n] in the worst case it would be n times\n",
        "        }\n",
        "\n",
        "    }\n",
        "\n",
        "    cout <<  \"n: \" << n << \" Product: \" << maxNumber * secondMaxNumber << \"\\n\"; // 1\n",
        "    return 0;                                  // 1\n",
        "}"
      ],
      "metadata": {
        "colab": {
          "base_uri": "https://localhost:8080/"
        },
        "id": "A5NGTumJDqyC",
        "outputId": "b199ecb6-3230-427b-a03f-4bfcd4c2fc51"
      },
      "execution_count": null,
      "outputs": [
        {
          "output_type": "stream",
          "name": "stdout",
          "text": [
            "Overwriting max_pairwise_sort_super_efficient.cpp\n"
          ]
        }
      ]
    },
    {
      "cell_type": "code",
      "source": [
        "%%time\n",
        "!g++ max_pairwise_sort_super_efficient.cpp -o max_pairwise_sort_super_efficient\n",
        "!./max_pairwise_sort_super_efficient < stress_input_1.txt\n",
        "!./max_pairwise_sort_super_efficient < stress_input_2.txt\n",
        "!./max_pairwise_sort_super_efficient < stress_input_3.txt\n",
        "!./max_pairwise_sort_super_efficient < stress_input_4.txt\n",
        "!./max_pairwise_sort_super_efficient < stress_input_5.txt\n",
        "!./max_pairwise_sort_super_efficient < stress_input_6.txt\n",
        "!./max_pairwise_sort_super_efficient < stress_input_7.txt\n",
        "!./max_pairwise_sort_super_efficient < stress_input_8.txt\n",
        "!./max_pairwise_sort_super_efficient < stress_input_9.txt\n",
        "!./max_pairwise_sort_super_efficient < stress_input_10.txt\n",
        "\n",
        "!./max_pairwise_sort_super_efficient < stress_input_11.txt\n",
        "!./max_pairwise_sort_super_efficient < stress_input_12.txt\n",
        "!./max_pairwise_sort_super_efficient < stress_input_13.txt\n",
        "!./max_pairwise_sort_super_efficient < stress_input_14.txt\n",
        "!./max_pairwise_sort_super_efficient < stress_input_15.txt\n",
        "!./max_pairwise_sort_super_efficient < stress_input_16.txt\n",
        "!./max_pairwise_sort_super_efficient < stress_input_17.txt\n",
        "!./max_pairwise_sort_super_efficient < stress_input_18.txt\n",
        "!./max_pairwise_sort_super_efficient < stress_input_19.txt\n",
        "!./max_pairwise_sort_super_efficient < stress_input_20.txt\n",
        "\n",
        "!./max_pairwise_sort_super_efficient < stress_input_21.txt\n",
        "!./max_pairwise_sort_super_efficient < stress_input_22.txt\n",
        "!./max_pairwise_sort_super_efficient < stress_input_23.txt\n",
        "!./max_pairwise_sort_super_efficient < stress_input_24.txt\n",
        "!./max_pairwise_sort_super_efficient < stress_input_25.txt\n",
        "!./max_pairwise_sort_super_efficient < stress_input_26.txt\n",
        "!./max_pairwise_sort_super_efficient < stress_input_27.txt\n",
        "!./max_pairwise_sort_super_efficient < stress_input_28.txt\n",
        "!./max_pairwise_sort_super_efficient < stress_input_29.txt\n",
        "!./max_pairwise_sort_super_efficient < stress_input_30.txt\n",
        "\n",
        "!./max_pairwise_sort_super_efficient < stress_input_31.txt\n",
        "!./max_pairwise_sort_super_efficient < stress_input_32.txt\n",
        "!./max_pairwise_sort_super_efficient < stress_input_33.txt\n",
        "!./max_pairwise_sort_super_efficient < stress_input_34.txt\n",
        "!./max_pairwise_sort_super_efficient < stress_input_35.txt\n",
        "!./max_pairwise_sort_super_efficient < stress_input_36.txt\n",
        "!./max_pairwise_sort_super_efficient < stress_input_37.txt\n",
        "!./max_pairwise_sort_super_efficient < stress_input_38.txt\n",
        "!./max_pairwise_sort_super_efficient < stress_input_39.txt\n",
        "!./max_pairwise_sort_super_efficient < stress_input_40.txt\n",
        "\n",
        "!./max_pairwise_sort_super_efficient < stress_input_41.txt\n",
        "!./max_pairwise_sort_super_efficient < stress_input_42.txt\n",
        "!./max_pairwise_sort_super_efficient < stress_input_43.txt\n",
        "!./max_pairwise_sort_super_efficient < stress_input_44.txt\n",
        "!./max_pairwise_sort_super_efficient < stress_input_45.txt\n",
        "!./max_pairwise_sort_super_efficient < stress_input_46.txt\n",
        "!./max_pairwise_sort_super_efficient < stress_input_47.txt\n",
        "!./max_pairwise_sort_super_efficient < stress_input_48.txt\n",
        "!./max_pairwise_sort_super_efficient < stress_input_49.txt\n",
        "!./max_pairwise_sort_super_efficient < stress_input_50.txt\n",
        "\n",
        "!./max_pairwise_sort_super_efficient < stress_input_51.txt\n",
        "!./max_pairwise_sort_super_efficient < stress_input_52.txt\n",
        "!./max_pairwise_sort_super_efficient < stress_input_53.txt\n",
        "!./max_pairwise_sort_super_efficient < stress_input_54.txt\n",
        "!./max_pairwise_sort_super_efficient < stress_input_55.txt\n",
        "!./max_pairwise_sort_super_efficient < stress_input_56.txt\n",
        "!./max_pairwise_sort_super_efficient < stress_input_57.txt\n",
        "!./max_pairwise_sort_super_efficient < stress_input_58.txt\n",
        "!./max_pairwise_sort_super_efficient < stress_input_59.txt\n",
        "!./max_pairwise_sort_super_efficient < stress_input_60.txt\n",
        "\n",
        "!./max_pairwise_sort_super_efficient < stress_input_61.txt\n",
        "!./max_pairwise_sort_super_efficient < stress_input_62.txt\n",
        "!./max_pairwise_sort_super_efficient < stress_input_63.txt\n",
        "!./max_pairwise_sort_super_efficient < stress_input_64.txt\n",
        "!./max_pairwise_sort_super_efficient < stress_input_65.txt\n",
        "!./max_pairwise_sort_super_efficient < stress_input_66.txt\n",
        "!./max_pairwise_sort_super_efficient < stress_input_67.txt\n",
        "!./max_pairwise_sort_super_efficient < stress_input_68.txt\n",
        "!./max_pairwise_sort_super_efficient < stress_input_69.txt\n",
        "!./max_pairwise_sort_super_efficient < stress_input_70.txt\n",
        "\n",
        "!./max_pairwise_sort_super_efficient < stress_input_71.txt\n",
        "!./max_pairwise_sort_super_efficient < stress_input_72.txt\n",
        "!./max_pairwise_sort_super_efficient < stress_input_73.txt\n",
        "!./max_pairwise_sort_super_efficient < stress_input_74.txt\n",
        "!./max_pairwise_sort_super_efficient < stress_input_75.txt\n",
        "!./max_pairwise_sort_super_efficient < stress_input_76.txt\n",
        "!./max_pairwise_sort_super_efficient < stress_input_77.txt\n",
        "!./max_pairwise_sort_super_efficient < stress_input_78.txt\n",
        "!./max_pairwise_sort_super_efficient < stress_input_79.txt\n",
        "!./max_pairwise_sort_super_efficient < stress_input_80.txt\n",
        "\n",
        "!./max_pairwise_sort_super_efficient < stress_input_81.txt\n",
        "!./max_pairwise_sort_super_efficient < stress_input_82.txt\n",
        "!./max_pairwise_sort_super_efficient < stress_input_83.txt\n",
        "!./max_pairwise_sort_super_efficient < stress_input_84.txt\n",
        "!./max_pairwise_sort_super_efficient < stress_input_85.txt\n",
        "!./max_pairwise_sort_super_efficient < stress_input_86.txt\n",
        "!./max_pairwise_sort_super_efficient < stress_input_87.txt\n",
        "!./max_pairwise_sort_super_efficient < stress_input_88.txt\n",
        "!./max_pairwise_sort_super_efficient < stress_input_89.txt\n",
        "!./max_pairwise_sort_super_efficient < stress_input_90.txt\n",
        "\n",
        "!./max_pairwise_sort_super_efficient < stress_input_91.txt\n",
        "!./max_pairwise_sort_super_efficient < stress_input_92.txt\n",
        "!./max_pairwise_sort_super_efficient < stress_input_93.txt\n",
        "!./max_pairwise_sort_super_efficient < stress_input_94.txt\n",
        "!./max_pairwise_sort_super_efficient < stress_input_95.txt\n",
        "!./max_pairwise_sort_super_efficient < stress_input_96.txt\n",
        "!./max_pairwise_sort_super_efficient < stress_input_97.txt\n",
        "!./max_pairwise_sort_super_efficient < stress_input_98.txt\n",
        "!./max_pairwise_sort_super_efficient < stress_input_99.txt\n",
        "!./max_pairwise_sort_super_efficient < stress_input_100.txt"
      ],
      "metadata": {
        "colab": {
          "base_uri": "https://localhost:8080/"
        },
        "id": "vH9whsRkD3XQ",
        "outputId": "a2fca136-16b1-4816-dad7-6d09fb035287"
      },
      "execution_count": null,
      "outputs": [
        {
          "output_type": "stream",
          "name": "stdout",
          "text": [
            "n: 12 Product: 4118\n",
            "n: 39 Product: 9408\n",
            "n: 21 Product: 10000\n",
            "n: 29 Product: 8463\n",
            "n: 7 Product: 3750\n",
            "n: 25 Product: 9800\n",
            "n: 16 Product: 9506\n",
            "n: 36 Product: 8277\n",
            "n: 8 Product: 6716\n",
            "n: 19 Product: 9200\n",
            "n: 4 Product: 1827\n",
            "n: 13 Product: 7546\n",
            "n: 8 Product: 3363\n",
            "n: 23 Product: 9900\n",
            "n: 33 Product: 9024\n",
            "n: 30 Product: 9310\n",
            "n: 5 Product: 8700\n",
            "n: 34 Product: 9408\n",
            "n: 15 Product: 9215\n",
            "n: 6 Product: 5626\n",
            "n: 29 Product: 9700\n",
            "n: 32 Product: 9016\n",
            "n: 20 Product: 9506\n",
            "n: 38 Product: 9800\n",
            "n: 39 Product: 9506\n",
            "n: 30 Product: 8928\n",
            "n: 10 Product: 8256\n",
            "n: 40 Product: 8372\n",
            "n: 26 Product: 9200\n",
            "n: 3 Product: 800\n",
            "n: 5 Product: 3325\n",
            "n: 14 Product: 8544\n",
            "n: 22 Product: 9300\n",
            "n: 15 Product: 8930\n",
            "n: 4 Product: 6603\n",
            "n: 40 Product: 9700\n",
            "n: 22 Product: 9702\n",
            "n: 34 Product: 9409\n",
            "n: 31 Product: 8910\n",
            "n: 37 Product: 9900\n",
            "n: 37 Product: 9400\n",
            "n: 27 Product: 9504\n",
            "n: 32 Product: 9312\n",
            "n: 13 Product: 8360\n",
            "n: 16 Product: 6300\n",
            "n: 5 Product: 6786\n",
            "n: 34 Product: 7482\n",
            "n: 20 Product: 9900\n",
            "n: 6 Product: 2294\n",
            "n: 19 Product: 9600\n",
            "n: 35 Product: 9700\n",
            "n: 36 Product: 9600\n",
            "n: 7 Product: 6900\n",
            "n: 32 Product: 9215\n",
            "n: 24 Product: 7744\n",
            "n: 3 Product: 594\n",
            "n: 10 Product: 8633\n",
            "n: 20 Product: 7719\n",
            "n: 26 Product: 9504\n",
            "n: 40 Product: 9408\n",
            "n: 21 Product: 8245\n",
            "n: 37 Product: 9900\n",
            "n: 6 Product: 4176\n",
            "n: 15 Product: 9400\n",
            "n: 3 Product: 4730\n",
            "n: 18 Product: 6480\n",
            "n: 21 Product: 9408\n",
            "n: 39 Product: 9215\n",
            "n: 27 Product: 9900\n",
            "n: 11 Product: 6160\n",
            "n: 13 Product: 8360\n",
            "n: 3 Product: 1700\n",
            "n: 4 Product: 6888\n",
            "n: 25 Product: 7980\n",
            "n: 35 Product: 9120\n",
            "n: 23 Product: 9603\n",
            "n: 16 Product: 7546\n",
            "n: 18 Product: 7120\n",
            "n: 17 Product: 8075\n",
            "n: 29 Product: 9310\n",
            "n: 35 Product: 9024\n",
            "n: 35 Product: 9600\n",
            "n: 10 Product: 6786\n",
            "n: 26 Product: 9215\n",
            "n: 28 Product: 8930\n",
            "n: 14 Product: 6435\n",
            "n: 3 Product: 3268\n",
            "n: 17 Product: 7120\n",
            "n: 39 Product: 9801\n",
            "n: 13 Product: 8232\n",
            "n: 9 Product: 7623\n",
            "n: 29 Product: 9215\n",
            "n: 19 Product: 8360\n",
            "n: 9 Product: 7134\n",
            "n: 25 Product: 8832\n",
            "n: 11 Product: 8835\n",
            "n: 32 Product: 9900\n",
            "n: 19 Product: 8835\n",
            "n: 7 Product: 6952\n",
            "n: 19 Product: 7735\n",
            "CPU times: user 573 ms, sys: 92.8 ms, total: 666 ms\n",
            "Wall time: 11.2 s\n"
          ]
        }
      ]
    },
    {
      "cell_type": "markdown",
      "source": [
        "##Sortin solution (𝑇(𝑛)=𝑂(𝑛𝑙𝑛𝑔))"
      ],
      "metadata": {
        "id": "ABrbZ1MvEMNU"
      }
    },
    {
      "cell_type": "code",
      "source": [
        "%%writefile max_pairwise_sort_nlogn.cpp\n",
        "#include <iostream>\n",
        "#include <vector>\n",
        "#include <algorithm>\n",
        "\n",
        "using namespace std;\n",
        "\n",
        "int main() {\n",
        "    int n;                                     // 1\n",
        "    cin >> n;                                  // 1\n",
        "    vector<int> numbers(n);                    // n\n",
        "\n",
        "    for (int i = 0; i < n; ++i) {              //1 + 2n\n",
        "        cin >> numbers[i];                     // 1\n",
        "    }\n",
        "\n",
        "    sort(numbers.begin(), numbers.end());      // n*long\n",
        "    cout <<  \"n: \" << n << \" Product: \" << numbers[numbers.size() - 1] * numbers[numbers.size() - 2] << \"\\n\"; // 1\n",
        "    return 0;                                  // 1\n",
        "}"
      ],
      "metadata": {
        "colab": {
          "base_uri": "https://localhost:8080/"
        },
        "id": "i0XeyRhqD1vm",
        "outputId": "ef72dc12-2522-42a1-84e5-83a69e1c0ca4"
      },
      "execution_count": null,
      "outputs": [
        {
          "output_type": "stream",
          "name": "stdout",
          "text": [
            "Writing max_pairwise_sort_nlogn.cpp\n"
          ]
        }
      ]
    },
    {
      "cell_type": "code",
      "source": [
        "%%time\n",
        "!g++ max_pairwise_sort_nlogn.cpp -o max_pairwise_sort_nlogn\n",
        "!./max_pairwise_sort_nlogn < stress_input_1.txt\n",
        "!./max_pairwise_sort_nlogn < stress_input_2.txt\n",
        "!./max_pairwise_sort_nlogn < stress_input_3.txt\n",
        "!./max_pairwise_sort_nlogn < stress_input_4.txt\n",
        "!./max_pairwise_sort_nlogn < stress_input_5.txt\n",
        "!./max_pairwise_sort_nlogn < stress_input_6.txt\n",
        "!./max_pairwise_sort_nlogn < stress_input_7.txt\n",
        "!./max_pairwise_sort_nlogn < stress_input_8.txt\n",
        "!./max_pairwise_sort_nlogn < stress_input_9.txt\n",
        "!./max_pairwise_sort_nlogn < stress_input_10.txt\n",
        "\n",
        "!./max_pairwise_sort_nlogn < stress_input_11.txt\n",
        "!./max_pairwise_sort_nlogn < stress_input_12.txt\n",
        "!./max_pairwise_sort_nlogn < stress_input_13.txt\n",
        "!./max_pairwise_sort_nlogn < stress_input_14.txt\n",
        "!./max_pairwise_sort_nlogn < stress_input_15.txt\n",
        "!./max_pairwise_sort_nlogn < stress_input_16.txt\n",
        "!./max_pairwise_sort_nlogn < stress_input_17.txt\n",
        "!./max_pairwise_sort_nlogn < stress_input_18.txt\n",
        "!./max_pairwise_sort_nlogn < stress_input_19.txt\n",
        "!./max_pairwise_sort_nlogn < stress_input_20.txt\n",
        "\n",
        "!./max_pairwise_sort_nlogn < stress_input_21.txt\n",
        "!./max_pairwise_sort_nlogn < stress_input_22.txt\n",
        "!./max_pairwise_sort_nlogn < stress_input_23.txt\n",
        "!./max_pairwise_sort_nlogn < stress_input_24.txt\n",
        "!./max_pairwise_sort_nlogn < stress_input_25.txt\n",
        "!./max_pairwise_sort_nlogn < stress_input_26.txt\n",
        "!./max_pairwise_sort_nlogn < stress_input_27.txt\n",
        "!./max_pairwise_sort_nlogn < stress_input_28.txt\n",
        "!./max_pairwise_sort_nlogn < stress_input_29.txt\n",
        "!./max_pairwise_sort_nlogn < stress_input_30.txt\n",
        "\n",
        "!./max_pairwise_sort_nlogn < stress_input_31.txt\n",
        "!./max_pairwise_sort_nlogn < stress_input_32.txt\n",
        "!./max_pairwise_sort_nlogn < stress_input_33.txt\n",
        "!./max_pairwise_sort_nlogn < stress_input_34.txt\n",
        "!./max_pairwise_sort_nlogn < stress_input_35.txt\n",
        "!./max_pairwise_sort_nlogn < stress_input_36.txt\n",
        "!./max_pairwise_sort_nlogn < stress_input_37.txt\n",
        "!./max_pairwise_sort_nlogn < stress_input_38.txt\n",
        "!./max_pairwise_sort_nlogn < stress_input_39.txt\n",
        "!./max_pairwise_sort_nlogn < stress_input_40.txt\n",
        "\n",
        "!./max_pairwise_sort_nlogn < stress_input_41.txt\n",
        "!./max_pairwise_sort_nlogn < stress_input_42.txt\n",
        "!./max_pairwise_sort_nlogn < stress_input_43.txt\n",
        "!./max_pairwise_sort_nlogn < stress_input_44.txt\n",
        "!./max_pairwise_sort_nlogn < stress_input_45.txt\n",
        "!./max_pairwise_sort_nlogn < stress_input_46.txt\n",
        "!./max_pairwise_sort_nlogn < stress_input_47.txt\n",
        "!./max_pairwise_sort_nlogn < stress_input_48.txt\n",
        "!./max_pairwise_sort_nlogn < stress_input_49.txt\n",
        "!./max_pairwise_sort_nlogn < stress_input_50.txt\n",
        "\n",
        "!./max_pairwise_sort_nlogn < stress_input_51.txt\n",
        "!./max_pairwise_sort_nlogn < stress_input_52.txt\n",
        "!./max_pairwise_sort_nlogn < stress_input_53.txt\n",
        "!./max_pairwise_sort_nlogn < stress_input_54.txt\n",
        "!./max_pairwise_sort_nlogn < stress_input_55.txt\n",
        "!./max_pairwise_sort_nlogn < stress_input_56.txt\n",
        "!./max_pairwise_sort_nlogn < stress_input_57.txt\n",
        "!./max_pairwise_sort_nlogn < stress_input_58.txt\n",
        "!./max_pairwise_sort_nlogn < stress_input_59.txt\n",
        "!./max_pairwise_sort_nlogn < stress_input_60.txt\n",
        "\n",
        "!./max_pairwise_sort_nlogn < stress_input_61.txt\n",
        "!./max_pairwise_sort_nlogn < stress_input_62.txt\n",
        "!./max_pairwise_sort_nlogn < stress_input_63.txt\n",
        "!./max_pairwise_sort_nlogn < stress_input_64.txt\n",
        "!./max_pairwise_sort_nlogn < stress_input_65.txt\n",
        "!./max_pairwise_sort_nlogn < stress_input_66.txt\n",
        "!./max_pairwise_sort_nlogn < stress_input_67.txt\n",
        "!./max_pairwise_sort_nlogn < stress_input_68.txt\n",
        "!./max_pairwise_sort_nlogn < stress_input_69.txt\n",
        "!./max_pairwise_sort_nlogn < stress_input_70.txt\n",
        "\n",
        "!./max_pairwise_sort_nlogn < stress_input_71.txt\n",
        "!./max_pairwise_sort_nlogn < stress_input_72.txt\n",
        "!./max_pairwise_sort_nlogn < stress_input_73.txt\n",
        "!./max_pairwise_sort_nlogn < stress_input_74.txt\n",
        "!./max_pairwise_sort_nlogn < stress_input_75.txt\n",
        "!./max_pairwise_sort_nlogn < stress_input_76.txt\n",
        "!./max_pairwise_sort_nlogn < stress_input_77.txt\n",
        "!./max_pairwise_sort_nlogn < stress_input_78.txt\n",
        "!./max_pairwise_sort_nlogn < stress_input_79.txt\n",
        "!./max_pairwise_sort_nlogn < stress_input_80.txt\n",
        "\n",
        "!./max_pairwise_sort_nlogn < stress_input_81.txt\n",
        "!./max_pairwise_sort_nlogn < stress_input_82.txt\n",
        "!./max_pairwise_sort_nlogn < stress_input_83.txt\n",
        "!./max_pairwise_sort_nlogn < stress_input_84.txt\n",
        "!./max_pairwise_sort_nlogn < stress_input_85.txt\n",
        "!./max_pairwise_sort_nlogn < stress_input_86.txt\n",
        "!./max_pairwise_sort_nlogn < stress_input_87.txt\n",
        "!./max_pairwise_sort_nlogn < stress_input_88.txt\n",
        "!./max_pairwise_sort_nlogn < stress_input_89.txt\n",
        "!./max_pairwise_sort_nlogn < stress_input_90.txt\n",
        "\n",
        "!./max_pairwise_sort_nlogn < stress_input_91.txt\n",
        "!./max_pairwise_sort_nlogn < stress_input_92.txt\n",
        "!./max_pairwise_sort_nlogn < stress_input_93.txt\n",
        "!./max_pairwise_sort_nlogn < stress_input_94.txt\n",
        "!./max_pairwise_sort_nlogn < stress_input_95.txt\n",
        "!./max_pairwise_sort_nlogn < stress_input_96.txt\n",
        "!./max_pairwise_sort_nlogn < stress_input_97.txt\n",
        "!./max_pairwise_sort_nlogn < stress_input_98.txt\n",
        "!./max_pairwise_sort_nlogn < stress_input_99.txt\n",
        "!./max_pairwise_sort_nlogn < stress_input_100.txt"
      ],
      "metadata": {
        "colab": {
          "base_uri": "https://localhost:8080/"
        },
        "id": "0U1hdYlLESKl",
        "outputId": "01352538-63ff-4938-e9db-8824e91e99aa"
      },
      "execution_count": null,
      "outputs": [
        {
          "output_type": "stream",
          "name": "stdout",
          "text": [
            "n: 12 Product: 4118\n",
            "n: 39 Product: 9408\n",
            "n: 21 Product: 10000\n",
            "n: 29 Product: 8463\n",
            "n: 7 Product: 3750\n",
            "n: 25 Product: 9800\n",
            "n: 16 Product: 9506\n",
            "n: 36 Product: 8277\n",
            "n: 8 Product: 6716\n",
            "n: 19 Product: 9200\n",
            "n: 4 Product: 1827\n",
            "n: 13 Product: 7546\n",
            "n: 8 Product: 3363\n",
            "n: 23 Product: 9900\n",
            "n: 33 Product: 9024\n",
            "n: 30 Product: 9310\n",
            "n: 5 Product: 8700\n",
            "n: 34 Product: 9408\n",
            "n: 15 Product: 9215\n",
            "n: 6 Product: 5626\n",
            "n: 29 Product: 9700\n",
            "n: 32 Product: 9016\n",
            "n: 20 Product: 9506\n",
            "n: 38 Product: 9800\n",
            "n: 39 Product: 9506\n",
            "n: 30 Product: 8928\n",
            "n: 10 Product: 8256\n",
            "n: 40 Product: 8372\n",
            "n: 26 Product: 9200\n",
            "n: 3 Product: 800\n",
            "n: 5 Product: 3325\n",
            "n: 14 Product: 8544\n",
            "n: 22 Product: 9300\n",
            "n: 15 Product: 8930\n",
            "n: 4 Product: 6603\n",
            "n: 40 Product: 9700\n",
            "n: 22 Product: 9702\n",
            "n: 34 Product: 9409\n",
            "n: 31 Product: 8910\n",
            "n: 37 Product: 9900\n",
            "n: 37 Product: 9400\n",
            "n: 27 Product: 9504\n",
            "n: 32 Product: 9312\n",
            "n: 13 Product: 8360\n",
            "n: 16 Product: 6300\n",
            "n: 5 Product: 6786\n",
            "n: 34 Product: 7482\n",
            "n: 20 Product: 9900\n",
            "n: 6 Product: 2294\n",
            "n: 19 Product: 9600\n",
            "n: 35 Product: 9700\n",
            "n: 36 Product: 9600\n",
            "n: 7 Product: 6900\n",
            "n: 32 Product: 9215\n",
            "n: 24 Product: 7744\n",
            "n: 3 Product: 594\n",
            "n: 10 Product: 8633\n",
            "n: 20 Product: 7719\n",
            "n: 26 Product: 9504\n",
            "n: 40 Product: 9408\n",
            "n: 21 Product: 8245\n",
            "n: 37 Product: 9900\n",
            "n: 6 Product: 4176\n",
            "n: 15 Product: 9400\n",
            "n: 3 Product: 4730\n",
            "n: 18 Product: 6480\n",
            "n: 21 Product: 9408\n",
            "n: 39 Product: 9215\n",
            "n: 27 Product: 9900\n",
            "n: 11 Product: 6160\n",
            "n: 13 Product: 8360\n",
            "n: 3 Product: 1700\n",
            "n: 4 Product: 6888\n",
            "n: 25 Product: 7980\n",
            "n: 35 Product: 9120\n",
            "n: 23 Product: 9603\n",
            "n: 16 Product: 7546\n",
            "n: 18 Product: 7120\n",
            "n: 17 Product: 8075\n",
            "n: 29 Product: 9310\n",
            "n: 35 Product: 9024\n",
            "n: 35 Product: 9600\n",
            "n: 10 Product: 6786\n",
            "n: 26 Product: 9215\n",
            "n: 28 Product: 8930\n",
            "n: 14 Product: 6435\n",
            "n: 3 Product: 3268\n",
            "n: 17 Product: 7120\n",
            "n: 39 Product: 9801\n",
            "n: 13 Product: 8232\n",
            "n: 9 Product: 7623\n",
            "n: 29 Product: 9215\n",
            "n: 19 Product: 8360\n",
            "n: 9 Product: 7134\n",
            "n: 25 Product: 8832\n",
            "n: 11 Product: 8835\n",
            "n: 32 Product: 9900\n",
            "n: 19 Product: 8835\n",
            "n: 7 Product: 6952\n",
            "n: 19 Product: 7735\n",
            "CPU times: user 553 ms, sys: 97.2 ms, total: 650 ms\n",
            "Wall time: 11.2 s\n"
          ]
        }
      ]
    },
    {
      "cell_type": "markdown",
      "source": [
        "#Python\n",
        "##Super efficient solution (𝑇(𝑛)<10𝑛=𝑂(𝑛))"
      ],
      "metadata": {
        "id": "8aZawPjSEYWs"
      }
    },
    {
      "cell_type": "code",
      "source": [
        "%%writefile max_pairwise_sort_super_efficient.py\n",
        "n = int(input())                            # 1\n",
        "max_number = float(\"-inf\")                  # 1\n",
        "second_max_number = float(\"-inf\")           # 1\n",
        "\n",
        "for num in input().split():                 # 3 + 2n\n",
        "\n",
        "    num = int(num)                          # n\n",
        "\n",
        "    if num > max_number:                    # n\n",
        "        second_max_number = max_number      # [0, n] in the worst case it would be n times\n",
        "        max_number = num                    # [0, n] in the worst case it would be n times\n",
        "    elif num > second_max_number:           # n\n",
        "        second_max_number = num             # [0, n] in the worst case it would be n times\n",
        "\n",
        "print(f\"n: {n} Product: {max_number * second_max_number}\")"
      ],
      "metadata": {
        "colab": {
          "base_uri": "https://localhost:8080/"
        },
        "id": "RdrmlCymEbaO",
        "outputId": "6ca03ac1-d42a-4e70-ed18-3caf49db2ba8"
      },
      "execution_count": null,
      "outputs": [
        {
          "output_type": "stream",
          "name": "stdout",
          "text": [
            "Overwriting max_pairwise_sort_super_efficient.py\n"
          ]
        }
      ]
    },
    {
      "cell_type": "code",
      "source": [
        "%%time\n",
        "!python max_pairwise_sort_super_efficient.py < stress_input_1.txt\n",
        "!python max_pairwise_sort_super_efficient.py < stress_input_2.txt\n",
        "!python max_pairwise_sort_super_efficient.py < stress_input_3.txt\n",
        "!python max_pairwise_sort_super_efficient.py < stress_input_4.txt\n",
        "!python max_pairwise_sort_super_efficient.py < stress_input_5.txt\n",
        "!python max_pairwise_sort_super_efficient.py < stress_input_6.txt\n",
        "!python max_pairwise_sort_super_efficient.py < stress_input_7.txt\n",
        "!python max_pairwise_sort_super_efficient.py < stress_input_8.txt\n",
        "!python max_pairwise_sort_super_efficient.py < stress_input_9.txt\n",
        "!python max_pairwise_sort_super_efficient.py < stress_input_10.txt\n",
        "\n",
        "!python max_pairwise_sort_super_efficient.py < stress_input_11.txt\n",
        "!python max_pairwise_sort_super_efficient.py < stress_input_12.txt\n",
        "!python max_pairwise_sort_super_efficient.py < stress_input_13.txt\n",
        "!python max_pairwise_sort_super_efficient.py < stress_input_14.txt\n",
        "!python max_pairwise_sort_super_efficient.py < stress_input_15.txt\n",
        "!python max_pairwise_sort_super_efficient.py < stress_input_16.txt\n",
        "!python max_pairwise_sort_super_efficient.py < stress_input_17.txt\n",
        "!python max_pairwise_sort_super_efficient.py < stress_input_18.txt\n",
        "!python max_pairwise_sort_super_efficient.py < stress_input_19.txt\n",
        "!python max_pairwise_sort_super_efficient.py < stress_input_20.txt\n",
        "\n",
        "!python max_pairwise_sort_super_efficient.py < stress_input_21.txt\n",
        "!python max_pairwise_sort_super_efficient.py < stress_input_22.txt\n",
        "!python max_pairwise_sort_super_efficient.py < stress_input_23.txt\n",
        "!python max_pairwise_sort_super_efficient.py < stress_input_24.txt\n",
        "!python max_pairwise_sort_super_efficient.py < stress_input_25.txt\n",
        "!python max_pairwise_sort_super_efficient.py < stress_input_26.txt\n",
        "!python max_pairwise_sort_super_efficient.py < stress_input_27.txt\n",
        "!python max_pairwise_sort_super_efficient.py < stress_input_28.txt\n",
        "!python max_pairwise_sort_super_efficient.py < stress_input_29.txt\n",
        "!python max_pairwise_sort_super_efficient.py < stress_input_30.txt\n",
        "\n",
        "!python max_pairwise_sort_super_efficient.py < stress_input_31.txt\n",
        "!python max_pairwise_sort_super_efficient.py < stress_input_32.txt\n",
        "!python max_pairwise_sort_super_efficient.py < stress_input_33.txt\n",
        "!python max_pairwise_sort_super_efficient.py < stress_input_34.txt\n",
        "!python max_pairwise_sort_super_efficient.py < stress_input_35.txt\n",
        "!python max_pairwise_sort_super_efficient.py < stress_input_36.txt\n",
        "!python max_pairwise_sort_super_efficient.py < stress_input_37.txt\n",
        "!python max_pairwise_sort_super_efficient.py < stress_input_38.txt\n",
        "!python max_pairwise_sort_super_efficient.py < stress_input_39.txt\n",
        "!python max_pairwise_sort_super_efficient.py < stress_input_40.txt\n",
        "\n",
        "!python max_pairwise_sort_super_efficient.py < stress_input_41.txt\n",
        "!python max_pairwise_sort_super_efficient.py < stress_input_42.txt\n",
        "!python max_pairwise_sort_super_efficient.py < stress_input_43.txt\n",
        "!python max_pairwise_sort_super_efficient.py < stress_input_44.txt\n",
        "!python max_pairwise_sort_super_efficient.py < stress_input_45.txt\n",
        "!python max_pairwise_sort_super_efficient.py < stress_input_46.txt\n",
        "!python max_pairwise_sort_super_efficient.py < stress_input_47.txt\n",
        "!python max_pairwise_sort_super_efficient.py < stress_input_48.txt\n",
        "!python max_pairwise_sort_super_efficient.py < stress_input_49.txt\n",
        "!python max_pairwise_sort_super_efficient.py < stress_input_50.txt\n",
        "\n",
        "!python max_pairwise_sort_super_efficient.py < stress_input_51.txt\n",
        "!python max_pairwise_sort_super_efficient.py < stress_input_52.txt\n",
        "!python max_pairwise_sort_super_efficient.py < stress_input_53.txt\n",
        "!python max_pairwise_sort_super_efficient.py < stress_input_54.txt\n",
        "!python max_pairwise_sort_super_efficient.py < stress_input_55.txt\n",
        "!python max_pairwise_sort_super_efficient.py < stress_input_56.txt\n",
        "!python max_pairwise_sort_super_efficient.py < stress_input_57.txt\n",
        "!python max_pairwise_sort_super_efficient.py < stress_input_58.txt\n",
        "!python max_pairwise_sort_super_efficient.py < stress_input_59.txt\n",
        "!python max_pairwise_sort_super_efficient.py < stress_input_60.txt\n",
        "\n",
        "!python max_pairwise_sort_super_efficient.py < stress_input_61.txt\n",
        "!python max_pairwise_sort_super_efficient.py < stress_input_62.txt\n",
        "!python max_pairwise_sort_super_efficient.py < stress_input_63.txt\n",
        "!python max_pairwise_sort_super_efficient.py < stress_input_64.txt\n",
        "!python max_pairwise_sort_super_efficient.py < stress_input_65.txt\n",
        "!python max_pairwise_sort_super_efficient.py < stress_input_66.txt\n",
        "!python max_pairwise_sort_super_efficient.py < stress_input_67.txt\n",
        "!python max_pairwise_sort_super_efficient.py < stress_input_68.txt\n",
        "!python max_pairwise_sort_super_efficient.py < stress_input_69.txt\n",
        "!python max_pairwise_sort_super_efficient.py < stress_input_70.txt\n",
        "\n",
        "!python max_pairwise_sort_super_efficient.py < stress_input_71.txt\n",
        "!python max_pairwise_sort_super_efficient.py < stress_input_72.txt\n",
        "!python max_pairwise_sort_super_efficient.py < stress_input_73.txt\n",
        "!python max_pairwise_sort_super_efficient.py < stress_input_74.txt\n",
        "!python max_pairwise_sort_super_efficient.py < stress_input_75.txt\n",
        "!python max_pairwise_sort_super_efficient.py < stress_input_76.txt\n",
        "!python max_pairwise_sort_super_efficient.py < stress_input_77.txt\n",
        "!python max_pairwise_sort_super_efficient.py < stress_input_78.txt\n",
        "!python max_pairwise_sort_super_efficient.py < stress_input_79.txt\n",
        "!python max_pairwise_sort_super_efficient.py < stress_input_80.txt\n",
        "\n",
        "!python max_pairwise_sort_super_efficient.py < stress_input_81.txt\n",
        "!python max_pairwise_sort_super_efficient.py < stress_input_82.txt\n",
        "!python max_pairwise_sort_super_efficient.py < stress_input_83.txt\n",
        "!python max_pairwise_sort_super_efficient.py < stress_input_84.txt\n",
        "!python max_pairwise_sort_super_efficient.py < stress_input_85.txt\n",
        "!python max_pairwise_sort_super_efficient.py < stress_input_86.txt\n",
        "!python max_pairwise_sort_super_efficient.py < stress_input_87.txt\n",
        "!python max_pairwise_sort_super_efficient.py < stress_input_88.txt\n",
        "!python max_pairwise_sort_super_efficient.py < stress_input_89.txt\n",
        "!python max_pairwise_sort_super_efficient.py < stress_input_90.txt\n",
        "\n",
        "!python max_pairwise_sort_super_efficient.py < stress_input_91.txt\n",
        "!python max_pairwise_sort_super_efficient.py < stress_input_92.txt\n",
        "!python max_pairwise_sort_super_efficient.py < stress_input_93.txt\n",
        "!python max_pairwise_sort_super_efficient.py < stress_input_94.txt\n",
        "!python max_pairwise_sort_super_efficient.py < stress_input_95.txt\n",
        "!python max_pairwise_sort_super_efficient.py < stress_input_96.txt\n",
        "!python max_pairwise_sort_super_efficient.py < stress_input_97.txt\n",
        "!python max_pairwise_sort_super_efficient.py < stress_input_98.txt\n",
        "!python max_pairwise_sort_super_efficient.py < stress_input_99.txt\n",
        "!python max_pairwise_sort_super_efficient.py < stress_input_100.txt"
      ],
      "metadata": {
        "colab": {
          "base_uri": "https://localhost:8080/"
        },
        "id": "vbLnKuWoEgFU",
        "outputId": "29406d64-6e9d-4e11-d7b3-7aae07a34ff0"
      },
      "execution_count": null,
      "outputs": [
        {
          "output_type": "stream",
          "name": "stdout",
          "text": [
            "n: 12 Product: 4118\n",
            "n: 39 Product: 9408\n",
            "n: 21 Product: 10000\n",
            "n: 29 Product: 8463\n",
            "n: 7 Product: 3750\n",
            "n: 25 Product: 9800\n",
            "n: 16 Product: 9506\n",
            "n: 36 Product: 8277\n",
            "n: 8 Product: 6716\n",
            "n: 19 Product: 9200\n",
            "n: 4 Product: 1827\n",
            "n: 13 Product: 7546\n",
            "n: 8 Product: 3363\n",
            "n: 23 Product: 9900\n",
            "n: 33 Product: 9024\n",
            "n: 30 Product: 9310\n",
            "n: 5 Product: 8700\n",
            "n: 34 Product: 9408\n",
            "n: 15 Product: 9215\n",
            "n: 6 Product: 5626\n",
            "n: 29 Product: 9700\n",
            "n: 32 Product: 9016\n",
            "n: 20 Product: 9506\n",
            "n: 38 Product: 9800\n",
            "n: 39 Product: 9506\n",
            "n: 30 Product: 8928\n",
            "n: 10 Product: 8256\n",
            "n: 40 Product: 8372\n",
            "n: 26 Product: 9200\n",
            "n: 3 Product: 800\n",
            "n: 5 Product: 3325\n",
            "n: 14 Product: 8544\n",
            "n: 22 Product: 9300\n",
            "n: 15 Product: 8930\n",
            "n: 4 Product: 6603\n",
            "n: 40 Product: 9700\n",
            "n: 22 Product: 9702\n",
            "n: 34 Product: 9409\n",
            "n: 31 Product: 8910\n",
            "n: 37 Product: 9900\n",
            "n: 37 Product: 9400\n",
            "n: 27 Product: 9504\n",
            "n: 32 Product: 9312\n",
            "n: 13 Product: 8360\n",
            "n: 16 Product: 6300\n",
            "n: 5 Product: 6786\n",
            "n: 34 Product: 7482\n",
            "n: 20 Product: 9900\n",
            "n: 6 Product: 2294\n",
            "n: 19 Product: 9600\n",
            "n: 35 Product: 9700\n",
            "n: 36 Product: 9600\n",
            "n: 7 Product: 6900\n",
            "n: 32 Product: 9215\n",
            "n: 24 Product: 7744\n",
            "n: 3 Product: 594\n",
            "n: 10 Product: 8633\n",
            "n: 20 Product: 7719\n",
            "n: 26 Product: 9504\n",
            "n: 40 Product: 9408\n",
            "n: 21 Product: 8245\n",
            "n: 37 Product: 9900\n",
            "n: 6 Product: 4176\n",
            "n: 15 Product: 9400\n",
            "n: 3 Product: 4730\n",
            "n: 18 Product: 6480\n",
            "n: 21 Product: 9408\n",
            "n: 39 Product: 9215\n",
            "n: 27 Product: 9900\n",
            "n: 11 Product: 6160\n",
            "n: 13 Product: 8360\n",
            "n: 3 Product: 1700\n",
            "n: 4 Product: 6888\n",
            "n: 25 Product: 7980\n",
            "n: 35 Product: 9120\n",
            "n: 23 Product: 9603\n",
            "n: 16 Product: 7546\n",
            "n: 18 Product: 7120\n",
            "n: 17 Product: 8075\n",
            "n: 29 Product: 9310\n",
            "n: 35 Product: 9024\n",
            "n: 35 Product: 9600\n",
            "n: 10 Product: 6786\n",
            "n: 26 Product: 9215\n",
            "n: 28 Product: 8930\n",
            "n: 14 Product: 6435\n",
            "n: 3 Product: 3268\n",
            "n: 17 Product: 7120\n",
            "n: 39 Product: 9801\n",
            "n: 13 Product: 8232\n",
            "n: 9 Product: 7623\n",
            "n: 29 Product: 9215\n",
            "n: 19 Product: 8360\n",
            "n: 9 Product: 7134\n",
            "n: 25 Product: 8832\n",
            "n: 11 Product: 8835\n",
            "n: 32 Product: 9900\n",
            "n: 19 Product: 8835\n",
            "n: 7 Product: 6952\n",
            "n: 19 Product: 7735\n",
            "CPU times: user 545 ms, sys: 82.1 ms, total: 627 ms\n",
            "Wall time: 10.6 s\n"
          ]
        }
      ]
    },
    {
      "cell_type": "markdown",
      "source": [
        "##Sortin solution (𝑇(𝑛)=𝑂(𝑛𝑙𝑛𝑔))"
      ],
      "metadata": {
        "id": "Wy3EsoRvE-M1"
      }
    },
    {
      "cell_type": "code",
      "source": [
        "%%writefile max_pairwise_sort_nlogn.py\n",
        "# Read input values\n",
        "n = int(input())              # 1\n",
        "numbers = list(map(int, input().split()))  # n\n",
        "\n",
        "# Sort the list\n",
        "numbers.sort()                # n*log(n)\n",
        "\n",
        "# Calculate the maximum pairwise product\n",
        "result = numbers[-1] * numbers[-2]  # 1\n",
        "\n",
        "# Print the result\n",
        "print(f\"n: {n} Product: {result}\")"
      ],
      "metadata": {
        "colab": {
          "base_uri": "https://localhost:8080/"
        },
        "id": "2g6eI7d5E8SN",
        "outputId": "8dc31f84-d8ac-4837-e0b0-641636ab6d72"
      },
      "execution_count": null,
      "outputs": [
        {
          "output_type": "stream",
          "name": "stdout",
          "text": [
            "Writing max_pairwise_sort_nlogn.py\n"
          ]
        }
      ]
    },
    {
      "cell_type": "code",
      "source": [
        "%%time\n",
        "!python max_pairwise_sort_nlogn.py < stress_input_1.txt\n",
        "!python max_pairwise_sort_nlogn.py < stress_input_2.txt\n",
        "!python max_pairwise_sort_nlogn.py < stress_input_3.txt\n",
        "!python max_pairwise_sort_nlogn.py < stress_input_4.txt\n",
        "!python max_pairwise_sort_nlogn.py < stress_input_5.txt\n",
        "!python max_pairwise_sort_nlogn.py < stress_input_6.txt\n",
        "!python max_pairwise_sort_nlogn.py < stress_input_7.txt\n",
        "!python max_pairwise_sort_nlogn.py < stress_input_8.txt\n",
        "!python max_pairwise_sort_nlogn.py < stress_input_9.txt\n",
        "!python max_pairwise_sort_nlogn.py < stress_input_10.txt\n",
        "\n",
        "!python max_pairwise_sort_nlogn.py < stress_input_11.txt\n",
        "!python max_pairwise_sort_nlogn.py < stress_input_12.txt\n",
        "!python max_pairwise_sort_nlogn.py < stress_input_13.txt\n",
        "!python max_pairwise_sort_nlogn.py < stress_input_14.txt\n",
        "!python max_pairwise_sort_nlogn.py < stress_input_15.txt\n",
        "!python max_pairwise_sort_nlogn.py < stress_input_16.txt\n",
        "!python max_pairwise_sort_nlogn.py < stress_input_17.txt\n",
        "!python max_pairwise_sort_nlogn.py < stress_input_18.txt\n",
        "!python max_pairwise_sort_nlogn.py < stress_input_19.txt\n",
        "!python max_pairwise_sort_nlogn.py < stress_input_20.txt\n",
        "\n",
        "!python max_pairwise_sort_nlogn.py < stress_input_21.txt\n",
        "!python max_pairwise_sort_nlogn.py < stress_input_22.txt\n",
        "!python max_pairwise_sort_nlogn.py < stress_input_23.txt\n",
        "!python max_pairwise_sort_nlogn.py < stress_input_24.txt\n",
        "!python max_pairwise_sort_nlogn.py < stress_input_25.txt\n",
        "!python max_pairwise_sort_nlogn.py < stress_input_26.txt\n",
        "!python max_pairwise_sort_nlogn.py < stress_input_27.txt\n",
        "!python max_pairwise_sort_nlogn.py < stress_input_28.txt\n",
        "!python max_pairwise_sort_nlogn.py < stress_input_29.txt\n",
        "!python max_pairwise_sort_nlogn.py < stress_input_30.txt\n",
        "\n",
        "!python max_pairwise_sort_nlogn.py < stress_input_31.txt\n",
        "!python max_pairwise_sort_nlogn.py < stress_input_32.txt\n",
        "!python max_pairwise_sort_nlogn.py < stress_input_33.txt\n",
        "!python max_pairwise_sort_nlogn.py < stress_input_34.txt\n",
        "!python max_pairwise_sort_nlogn.py < stress_input_35.txt\n",
        "!python max_pairwise_sort_nlogn.py < stress_input_36.txt\n",
        "!python max_pairwise_sort_nlogn.py < stress_input_37.txt\n",
        "!python max_pairwise_sort_nlogn.py < stress_input_38.txt\n",
        "!python max_pairwise_sort_nlogn.py < stress_input_39.txt\n",
        "!python max_pairwise_sort_nlogn.py < stress_input_40.txt\n",
        "\n",
        "!python max_pairwise_sort_nlogn.py < stress_input_41.txt\n",
        "!python max_pairwise_sort_nlogn.py < stress_input_42.txt\n",
        "!python max_pairwise_sort_nlogn.py < stress_input_43.txt\n",
        "!python max_pairwise_sort_nlogn.py < stress_input_44.txt\n",
        "!python max_pairwise_sort_nlogn.py < stress_input_45.txt\n",
        "!python max_pairwise_sort_nlogn.py < stress_input_46.txt\n",
        "!python max_pairwise_sort_nlogn.py < stress_input_47.txt\n",
        "!python max_pairwise_sort_nlogn.py < stress_input_48.txt\n",
        "!python max_pairwise_sort_nlogn.py < stress_input_49.txt\n",
        "!python max_pairwise_sort_nlogn.py < stress_input_50.txt\n",
        "\n",
        "!python max_pairwise_sort_nlogn.py < stress_input_51.txt\n",
        "!python max_pairwise_sort_nlogn.py < stress_input_52.txt\n",
        "!python max_pairwise_sort_nlogn.py < stress_input_53.txt\n",
        "!python max_pairwise_sort_nlogn.py < stress_input_54.txt\n",
        "!python max_pairwise_sort_nlogn.py < stress_input_55.txt\n",
        "!python max_pairwise_sort_nlogn.py < stress_input_56.txt\n",
        "!python max_pairwise_sort_nlogn.py < stress_input_57.txt\n",
        "!python max_pairwise_sort_nlogn.py < stress_input_58.txt\n",
        "!python max_pairwise_sort_nlogn.py < stress_input_59.txt\n",
        "!python max_pairwise_sort_nlogn.py < stress_input_60.txt\n",
        "\n",
        "!python max_pairwise_sort_nlogn.py < stress_input_61.txt\n",
        "!python max_pairwise_sort_nlogn.py < stress_input_62.txt\n",
        "!python max_pairwise_sort_nlogn.py < stress_input_63.txt\n",
        "!python max_pairwise_sort_nlogn.py < stress_input_64.txt\n",
        "!python max_pairwise_sort_nlogn.py < stress_input_65.txt\n",
        "!python max_pairwise_sort_nlogn.py < stress_input_66.txt\n",
        "!python max_pairwise_sort_nlogn.py < stress_input_67.txt\n",
        "!python max_pairwise_sort_nlogn.py < stress_input_68.txt\n",
        "!python max_pairwise_sort_nlogn.py < stress_input_69.txt\n",
        "!python max_pairwise_sort_nlogn.py < stress_input_70.txt\n",
        "\n",
        "!python max_pairwise_sort_nlogn.py < stress_input_71.txt\n",
        "!python max_pairwise_sort_nlogn.py < stress_input_72.txt\n",
        "!python max_pairwise_sort_nlogn.py < stress_input_73.txt\n",
        "!python max_pairwise_sort_nlogn.py < stress_input_74.txt\n",
        "!python max_pairwise_sort_nlogn.py < stress_input_75.txt\n",
        "!python max_pairwise_sort_nlogn.py < stress_input_76.txt\n",
        "!python max_pairwise_sort_nlogn.py < stress_input_77.txt\n",
        "!python max_pairwise_sort_nlogn.py < stress_input_78.txt\n",
        "!python max_pairwise_sort_nlogn.py < stress_input_79.txt\n",
        "!python max_pairwise_sort_nlogn.py < stress_input_80.txt\n",
        "\n",
        "!python max_pairwise_sort_nlogn.py < stress_input_81.txt\n",
        "!python max_pairwise_sort_nlogn.py < stress_input_82.txt\n",
        "!python max_pairwise_sort_nlogn.py < stress_input_83.txt\n",
        "!python max_pairwise_sort_nlogn.py < stress_input_84.txt\n",
        "!python max_pairwise_sort_nlogn.py < stress_input_85.txt\n",
        "!python max_pairwise_sort_nlogn.py < stress_input_86.txt\n",
        "!python max_pairwise_sort_nlogn.py < stress_input_87.txt\n",
        "!python max_pairwise_sort_nlogn.py < stress_input_88.txt\n",
        "!python max_pairwise_sort_nlogn.py < stress_input_89.txt\n",
        "!python max_pairwise_sort_nlogn.py < stress_input_90.txt\n",
        "\n",
        "!python max_pairwise_sort_nlogn.py < stress_input_91.txt\n",
        "!python max_pairwise_sort_nlogn.py < stress_input_92.txt\n",
        "!python max_pairwise_sort_nlogn.py < stress_input_93.txt\n",
        "!python max_pairwise_sort_nlogn.py < stress_input_94.txt\n",
        "!python max_pairwise_sort_nlogn.py < stress_input_95.txt\n",
        "!python max_pairwise_sort_nlogn.py < stress_input_96.txt\n",
        "!python max_pairwise_sort_nlogn.py < stress_input_97.txt\n",
        "!python max_pairwise_sort_nlogn.py < stress_input_98.txt\n",
        "!python max_pairwise_sort_nlogn.py < stress_input_99.txt\n",
        "!python max_pairwise_sort_nlogn.py < stress_input_100.txt"
      ],
      "metadata": {
        "colab": {
          "base_uri": "https://localhost:8080/"
        },
        "id": "__Hyw0vWFFNX",
        "outputId": "1ecb423f-914e-4656-d2b9-f2911c7d9671"
      },
      "execution_count": null,
      "outputs": [
        {
          "output_type": "stream",
          "name": "stdout",
          "text": [
            "n: 12 Product: 4118\n",
            "n: 39 Product: 9408\n",
            "n: 21 Product: 10000\n",
            "n: 29 Product: 8463\n",
            "n: 7 Product: 3750\n",
            "n: 25 Product: 9800\n",
            "n: 16 Product: 9506\n",
            "n: 36 Product: 8277\n",
            "n: 8 Product: 6716\n",
            "n: 19 Product: 9200\n",
            "n: 4 Product: 1827\n",
            "n: 13 Product: 7546\n",
            "n: 8 Product: 3363\n",
            "n: 23 Product: 9900\n",
            "n: 33 Product: 9024\n",
            "n: 30 Product: 9310\n",
            "n: 5 Product: 8700\n",
            "n: 34 Product: 9408\n",
            "n: 15 Product: 9215\n",
            "n: 6 Product: 5626\n",
            "n: 29 Product: 9700\n",
            "n: 32 Product: 9016\n",
            "n: 20 Product: 9506\n",
            "n: 38 Product: 9800\n",
            "n: 39 Product: 9506\n",
            "n: 30 Product: 8928\n",
            "n: 10 Product: 8256\n",
            "n: 40 Product: 8372\n",
            "n: 26 Product: 9200\n",
            "n: 3 Product: 800\n",
            "n: 5 Product: 3325\n",
            "n: 14 Product: 8544\n",
            "n: 22 Product: 9300\n",
            "n: 15 Product: 8930\n",
            "n: 4 Product: 6603\n",
            "n: 40 Product: 9700\n",
            "n: 22 Product: 9702\n",
            "n: 34 Product: 9409\n",
            "n: 31 Product: 8910\n",
            "n: 37 Product: 9900\n",
            "n: 37 Product: 9400\n",
            "n: 27 Product: 9504\n",
            "n: 32 Product: 9312\n",
            "n: 13 Product: 8360\n",
            "n: 16 Product: 6300\n",
            "n: 5 Product: 6786\n",
            "n: 34 Product: 7482\n",
            "n: 20 Product: 9900\n",
            "n: 6 Product: 2294\n",
            "n: 19 Product: 9600\n",
            "n: 35 Product: 9700\n",
            "n: 36 Product: 9600\n",
            "n: 7 Product: 6900\n",
            "n: 32 Product: 9215\n",
            "n: 24 Product: 7744\n",
            "n: 3 Product: 594\n",
            "n: 10 Product: 8633\n",
            "n: 20 Product: 7719\n",
            "n: 26 Product: 9504\n",
            "n: 40 Product: 9408\n",
            "n: 21 Product: 8245\n",
            "n: 37 Product: 9900\n",
            "n: 6 Product: 4176\n",
            "n: 15 Product: 9400\n",
            "n: 3 Product: 4730\n",
            "n: 18 Product: 6480\n",
            "n: 21 Product: 9408\n",
            "n: 39 Product: 9215\n",
            "n: 27 Product: 9900\n",
            "n: 11 Product: 6160\n",
            "n: 13 Product: 8360\n",
            "n: 3 Product: 1700\n",
            "n: 4 Product: 6888\n",
            "n: 25 Product: 7980\n",
            "n: 35 Product: 9120\n",
            "n: 23 Product: 9603\n",
            "n: 16 Product: 7546\n",
            "n: 18 Product: 7120\n",
            "n: 17 Product: 8075\n",
            "n: 29 Product: 9310\n",
            "n: 35 Product: 9024\n",
            "n: 35 Product: 9600\n",
            "n: 10 Product: 6786\n",
            "n: 26 Product: 9215\n",
            "n: 28 Product: 8930\n",
            "n: 14 Product: 6435\n",
            "n: 3 Product: 3268\n",
            "n: 17 Product: 7120\n",
            "n: 39 Product: 9801\n",
            "n: 13 Product: 8232\n",
            "n: 9 Product: 7623\n",
            "n: 29 Product: 9215\n",
            "n: 19 Product: 8360\n",
            "n: 9 Product: 7134\n",
            "n: 25 Product: 8832\n",
            "n: 11 Product: 8835\n",
            "n: 32 Product: 9900\n",
            "n: 19 Product: 8835\n",
            "n: 7 Product: 6952\n",
            "n: 19 Product: 7735\n",
            "CPU times: user 509 ms, sys: 91.1 ms, total: 600 ms\n",
            "Wall time: 10.5 s\n"
          ]
        }
      ]
    },
    {
      "cell_type": "markdown",
      "source": [
        "#Resultados"
      ],
      "metadata": {
        "id": "hUvAMrK1FJ-a"
      }
    },
    {
      "cell_type": "code",
      "source": [
        "# Import the Pandas library\n",
        "import pandas as pd\n",
        "\n",
        "# Create a sample DataFrame\n",
        "data = {'Language': ['C++', 'Python'],\n",
        "        'Super effienct (ms)': [573, 553],\n",
        "        'Sort solution (ms)': [545, 509]}\n",
        "\n",
        "df = pd.DataFrame(data)\n",
        "\n",
        "# Display the table\n",
        "display(df)"
      ],
      "metadata": {
        "colab": {
          "base_uri": "https://localhost:8080/",
          "height": 112
        },
        "id": "DliwYCDsFCHF",
        "outputId": "106160a5-6be2-4088-8881-4c81256b56c4"
      },
      "execution_count": null,
      "outputs": [
        {
          "output_type": "display_data",
          "data": {
            "text/plain": [
              "  Language  Super effienct (ms)  Sort solution (ms)\n",
              "0      C++                  573                 545\n",
              "1   Python                  553                 509"
            ],
            "text/html": [
              "\n",
              "  <div id=\"df-2093b2b3-1497-4b73-ab84-163f29b823c2\" class=\"colab-df-container\">\n",
              "    <div>\n",
              "<style scoped>\n",
              "    .dataframe tbody tr th:only-of-type {\n",
              "        vertical-align: middle;\n",
              "    }\n",
              "\n",
              "    .dataframe tbody tr th {\n",
              "        vertical-align: top;\n",
              "    }\n",
              "\n",
              "    .dataframe thead th {\n",
              "        text-align: right;\n",
              "    }\n",
              "</style>\n",
              "<table border=\"1\" class=\"dataframe\">\n",
              "  <thead>\n",
              "    <tr style=\"text-align: right;\">\n",
              "      <th></th>\n",
              "      <th>Language</th>\n",
              "      <th>Super effienct (ms)</th>\n",
              "      <th>Sort solution (ms)</th>\n",
              "    </tr>\n",
              "  </thead>\n",
              "  <tbody>\n",
              "    <tr>\n",
              "      <th>0</th>\n",
              "      <td>C++</td>\n",
              "      <td>573</td>\n",
              "      <td>545</td>\n",
              "    </tr>\n",
              "    <tr>\n",
              "      <th>1</th>\n",
              "      <td>Python</td>\n",
              "      <td>553</td>\n",
              "      <td>509</td>\n",
              "    </tr>\n",
              "  </tbody>\n",
              "</table>\n",
              "</div>\n",
              "    <div class=\"colab-df-buttons\">\n",
              "\n",
              "  <div class=\"colab-df-container\">\n",
              "    <button class=\"colab-df-convert\" onclick=\"convertToInteractive('df-2093b2b3-1497-4b73-ab84-163f29b823c2')\"\n",
              "            title=\"Convert this dataframe to an interactive table.\"\n",
              "            style=\"display:none;\">\n",
              "\n",
              "  <svg xmlns=\"http://www.w3.org/2000/svg\" height=\"24px\" viewBox=\"0 -960 960 960\">\n",
              "    <path d=\"M120-120v-720h720v720H120Zm60-500h600v-160H180v160Zm220 220h160v-160H400v160Zm0 220h160v-160H400v160ZM180-400h160v-160H180v160Zm440 0h160v-160H620v160ZM180-180h160v-160H180v160Zm440 0h160v-160H620v160Z\"/>\n",
              "  </svg>\n",
              "    </button>\n",
              "\n",
              "  <style>\n",
              "    .colab-df-container {\n",
              "      display:flex;\n",
              "      gap: 12px;\n",
              "    }\n",
              "\n",
              "    .colab-df-convert {\n",
              "      background-color: #E8F0FE;\n",
              "      border: none;\n",
              "      border-radius: 50%;\n",
              "      cursor: pointer;\n",
              "      display: none;\n",
              "      fill: #1967D2;\n",
              "      height: 32px;\n",
              "      padding: 0 0 0 0;\n",
              "      width: 32px;\n",
              "    }\n",
              "\n",
              "    .colab-df-convert:hover {\n",
              "      background-color: #E2EBFA;\n",
              "      box-shadow: 0px 1px 2px rgba(60, 64, 67, 0.3), 0px 1px 3px 1px rgba(60, 64, 67, 0.15);\n",
              "      fill: #174EA6;\n",
              "    }\n",
              "\n",
              "    .colab-df-buttons div {\n",
              "      margin-bottom: 4px;\n",
              "    }\n",
              "\n",
              "    [theme=dark] .colab-df-convert {\n",
              "      background-color: #3B4455;\n",
              "      fill: #D2E3FC;\n",
              "    }\n",
              "\n",
              "    [theme=dark] .colab-df-convert:hover {\n",
              "      background-color: #434B5C;\n",
              "      box-shadow: 0px 1px 3px 1px rgba(0, 0, 0, 0.15);\n",
              "      filter: drop-shadow(0px 1px 2px rgba(0, 0, 0, 0.3));\n",
              "      fill: #FFFFFF;\n",
              "    }\n",
              "  </style>\n",
              "\n",
              "    <script>\n",
              "      const buttonEl =\n",
              "        document.querySelector('#df-2093b2b3-1497-4b73-ab84-163f29b823c2 button.colab-df-convert');\n",
              "      buttonEl.style.display =\n",
              "        google.colab.kernel.accessAllowed ? 'block' : 'none';\n",
              "\n",
              "      async function convertToInteractive(key) {\n",
              "        const element = document.querySelector('#df-2093b2b3-1497-4b73-ab84-163f29b823c2');\n",
              "        const dataTable =\n",
              "          await google.colab.kernel.invokeFunction('convertToInteractive',\n",
              "                                                    [key], {});\n",
              "        if (!dataTable) return;\n",
              "\n",
              "        const docLinkHtml = 'Like what you see? Visit the ' +\n",
              "          '<a target=\"_blank\" href=https://colab.research.google.com/notebooks/data_table.ipynb>data table notebook</a>'\n",
              "          + ' to learn more about interactive tables.';\n",
              "        element.innerHTML = '';\n",
              "        dataTable['output_type'] = 'display_data';\n",
              "        await google.colab.output.renderOutput(dataTable, element);\n",
              "        const docLink = document.createElement('div');\n",
              "        docLink.innerHTML = docLinkHtml;\n",
              "        element.appendChild(docLink);\n",
              "      }\n",
              "    </script>\n",
              "  </div>\n",
              "\n",
              "\n",
              "<div id=\"df-df9651d5-6dd5-48f9-9389-b8ab7b955708\">\n",
              "  <button class=\"colab-df-quickchart\" onclick=\"quickchart('df-df9651d5-6dd5-48f9-9389-b8ab7b955708')\"\n",
              "            title=\"Suggest charts\"\n",
              "            style=\"display:none;\">\n",
              "\n",
              "<svg xmlns=\"http://www.w3.org/2000/svg\" height=\"24px\"viewBox=\"0 0 24 24\"\n",
              "     width=\"24px\">\n",
              "    <g>\n",
              "        <path d=\"M19 3H5c-1.1 0-2 .9-2 2v14c0 1.1.9 2 2 2h14c1.1 0 2-.9 2-2V5c0-1.1-.9-2-2-2zM9 17H7v-7h2v7zm4 0h-2V7h2v10zm4 0h-2v-4h2v4z\"/>\n",
              "    </g>\n",
              "</svg>\n",
              "  </button>\n",
              "\n",
              "<style>\n",
              "  .colab-df-quickchart {\n",
              "      --bg-color: #E8F0FE;\n",
              "      --fill-color: #1967D2;\n",
              "      --hover-bg-color: #E2EBFA;\n",
              "      --hover-fill-color: #174EA6;\n",
              "      --disabled-fill-color: #AAA;\n",
              "      --disabled-bg-color: #DDD;\n",
              "  }\n",
              "\n",
              "  [theme=dark] .colab-df-quickchart {\n",
              "      --bg-color: #3B4455;\n",
              "      --fill-color: #D2E3FC;\n",
              "      --hover-bg-color: #434B5C;\n",
              "      --hover-fill-color: #FFFFFF;\n",
              "      --disabled-bg-color: #3B4455;\n",
              "      --disabled-fill-color: #666;\n",
              "  }\n",
              "\n",
              "  .colab-df-quickchart {\n",
              "    background-color: var(--bg-color);\n",
              "    border: none;\n",
              "    border-radius: 50%;\n",
              "    cursor: pointer;\n",
              "    display: none;\n",
              "    fill: var(--fill-color);\n",
              "    height: 32px;\n",
              "    padding: 0;\n",
              "    width: 32px;\n",
              "  }\n",
              "\n",
              "  .colab-df-quickchart:hover {\n",
              "    background-color: var(--hover-bg-color);\n",
              "    box-shadow: 0 1px 2px rgba(60, 64, 67, 0.3), 0 1px 3px 1px rgba(60, 64, 67, 0.15);\n",
              "    fill: var(--button-hover-fill-color);\n",
              "  }\n",
              "\n",
              "  .colab-df-quickchart-complete:disabled,\n",
              "  .colab-df-quickchart-complete:disabled:hover {\n",
              "    background-color: var(--disabled-bg-color);\n",
              "    fill: var(--disabled-fill-color);\n",
              "    box-shadow: none;\n",
              "  }\n",
              "\n",
              "  .colab-df-spinner {\n",
              "    border: 2px solid var(--fill-color);\n",
              "    border-color: transparent;\n",
              "    border-bottom-color: var(--fill-color);\n",
              "    animation:\n",
              "      spin 1s steps(1) infinite;\n",
              "  }\n",
              "\n",
              "  @keyframes spin {\n",
              "    0% {\n",
              "      border-color: transparent;\n",
              "      border-bottom-color: var(--fill-color);\n",
              "      border-left-color: var(--fill-color);\n",
              "    }\n",
              "    20% {\n",
              "      border-color: transparent;\n",
              "      border-left-color: var(--fill-color);\n",
              "      border-top-color: var(--fill-color);\n",
              "    }\n",
              "    30% {\n",
              "      border-color: transparent;\n",
              "      border-left-color: var(--fill-color);\n",
              "      border-top-color: var(--fill-color);\n",
              "      border-right-color: var(--fill-color);\n",
              "    }\n",
              "    40% {\n",
              "      border-color: transparent;\n",
              "      border-right-color: var(--fill-color);\n",
              "      border-top-color: var(--fill-color);\n",
              "    }\n",
              "    60% {\n",
              "      border-color: transparent;\n",
              "      border-right-color: var(--fill-color);\n",
              "    }\n",
              "    80% {\n",
              "      border-color: transparent;\n",
              "      border-right-color: var(--fill-color);\n",
              "      border-bottom-color: var(--fill-color);\n",
              "    }\n",
              "    90% {\n",
              "      border-color: transparent;\n",
              "      border-bottom-color: var(--fill-color);\n",
              "    }\n",
              "  }\n",
              "</style>\n",
              "\n",
              "  <script>\n",
              "    async function quickchart(key) {\n",
              "      const quickchartButtonEl =\n",
              "        document.querySelector('#' + key + ' button');\n",
              "      quickchartButtonEl.disabled = true;  // To prevent multiple clicks.\n",
              "      quickchartButtonEl.classList.add('colab-df-spinner');\n",
              "      try {\n",
              "        const charts = await google.colab.kernel.invokeFunction(\n",
              "            'suggestCharts', [key], {});\n",
              "      } catch (error) {\n",
              "        console.error('Error during call to suggestCharts:', error);\n",
              "      }\n",
              "      quickchartButtonEl.classList.remove('colab-df-spinner');\n",
              "      quickchartButtonEl.classList.add('colab-df-quickchart-complete');\n",
              "    }\n",
              "    (() => {\n",
              "      let quickchartButtonEl =\n",
              "        document.querySelector('#df-df9651d5-6dd5-48f9-9389-b8ab7b955708 button');\n",
              "      quickchartButtonEl.style.display =\n",
              "        google.colab.kernel.accessAllowed ? 'block' : 'none';\n",
              "    })();\n",
              "  </script>\n",
              "</div>\n",
              "    </div>\n",
              "  </div>\n"
            ],
            "application/vnd.google.colaboratory.intrinsic+json": {
              "type": "dataframe",
              "variable_name": "df",
              "summary": "{\n  \"name\": \"df\",\n  \"rows\": 2,\n  \"fields\": [\n    {\n      \"column\": \"Language\",\n      \"properties\": {\n        \"dtype\": \"string\",\n        \"num_unique_values\": 2,\n        \"samples\": [\n          \"Python\",\n          \"C++\"\n        ],\n        \"semantic_type\": \"\",\n        \"description\": \"\"\n      }\n    },\n    {\n      \"column\": \"Super effienct (ms)\",\n      \"properties\": {\n        \"dtype\": \"number\",\n        \"std\": 14,\n        \"min\": 553,\n        \"max\": 573,\n        \"num_unique_values\": 2,\n        \"samples\": [\n          553,\n          573\n        ],\n        \"semantic_type\": \"\",\n        \"description\": \"\"\n      }\n    },\n    {\n      \"column\": \"Sort solution (ms)\",\n      \"properties\": {\n        \"dtype\": \"number\",\n        \"std\": 25,\n        \"min\": 509,\n        \"max\": 545,\n        \"num_unique_values\": 2,\n        \"samples\": [\n          509,\n          545\n        ],\n        \"semantic_type\": \"\",\n        \"description\": \"\"\n      }\n    }\n  ]\n}"
            }
          },
          "metadata": {}
        }
      ]
    }
  ],
  "metadata": {
    "colab": {
      "provenance": [],
      "include_colab_link": true
    },
    "kernelspec": {
      "display_name": "Python 3",
      "name": "python3"
    },
    "language_info": {
      "name": "python"
    }
  },
  "nbformat": 4,
  "nbformat_minor": 0
}